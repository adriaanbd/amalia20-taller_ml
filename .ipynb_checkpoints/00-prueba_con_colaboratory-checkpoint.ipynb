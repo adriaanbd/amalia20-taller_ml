{
 "cells": [
  {
   "cell_type": "markdown",
   "metadata": {
    "colab_type": "text",
    "id": "view-in-github"
   },
   "source": [
    "<a href=\"https://colab.research.google.com/github/gmhoward/amalia20-taller_ml/blob/master/Welcome_To_Colaboratory.ipynb\" target=\"_parent\"><img src=\"https://colab.research.google.com/assets/colab-badge.svg\" alt=\"Open In Colab\"/></a>"
   ]
  },
  {
   "cell_type": "markdown",
   "metadata": {
    "colab_type": "text",
    "id": "5fCEDCU_qrC0"
   },
   "source": [
    "<p><img alt=\"Colaboratory logo\" height=\"45px\" src=\"img/colab_favicon_256px.png\" align=\"left\" hspace=\"10px\" vspace=\"0px\"></p>\n",
    "\n",
    "<h1>Qué es Colaboratory?</h1>\n",
    "\n",
    "Colaboratory o \"Colab\" es una plataforma de Google que te permite escribir y ejecutar código Python desde tu navegador web y sin tener que instalar ningún software: \n",
    "- No requiere configuración\n",
    "- Ofrece acceso a computadoras con GPUs (procesadores que facilitan la implementación de algoritmos de Deep Learning)\n",
    "- Fácil de compartir y colaborar con otras personas\n",
    "\n",
    "Ya sea que eres un(a) **estudiante**, **científico(a) de datos**, **desarrollador(a) de software**, o un(a)  **investigador(a) de inteligencia artificial**, Colab te permite trabajar y colaborar en proyectos de Python y Machine Learning. Puedes observar el video (en inglés) [Introduction to Colab](https://www.youtube.com/watch?v=inN8seMm7UI) para aprender más sobre esta plataforma o simplemente utiliza las prácticas de abajo."
   ]
  },
  {
   "cell_type": "markdown",
   "metadata": {
    "colab_type": "text",
    "id": "GJBs_flRovLc"
   },
   "source": [
    "## **Primeros Pasos**\n",
    "\n",
    "Este documento no es una página web estática, sino un entorno interactivo llamado un **`Colab notebook`** (cuaderno) que te permite escribir y ejecutar código. Estos `notebooks` están basados en los notebooks del proyecto Jupyter y son hospedados en los servidores de la plataforma Google Colab. [para aprender más sobre el proyecto Jupyter, puedes visitar [jupyter.org](https://www.jupyter.org)]\n",
    "\n",
    "Como dijimos, el `notebook` es un entorno interactivo para escribir y ejecutar código, que también permite incluir otros tipos de datos, como **texto** (por ejemplo, el que estás leyendo ahora), **figuras** y **video**. Esto permite que los `notebooks` sirvan para incluir explicaciones, comentarios y gráficas que complementan el código utilizado cuando se hace ciencia de datos (data science)."
   ]
  },
  {
   "cell_type": "markdown",
   "metadata": {},
   "source": [
    "En un `notebook`, todo el código y los datos se colocan en celdas. Por ejemplo, he aquí una **celda de código** que contiene un pequeño programa de Python para calcular el número de segundos en un día, guarda el resultado en una variable y luego lo imprime. Para ejecutar la celda, debes:\n",
    "1. Seleccionar la celda que quieres ejecutar, haciendo click sobre ella.\n",
    "2. Apretar simultáneamente las teclas `Shift` y `Enter (Return)`.\n",
    "\n",
    "Esto ejecutará la celda y pondrá el cursor en la siguiente celda (abajo) o creará una celda nueva si estás en la última celda del notebook. Inténtalo ahora con la celda de abajo para calcular el número de segundos que tiene un día."
   ]
  },
  {
   "cell_type": "code",
   "execution_count": null,
   "metadata": {
    "colab": {
     "base_uri": "https://localhost:8080/",
     "height": 34
    },
    "colab_type": "code",
    "id": "gJr_9dXGpJ05",
    "outputId": "2f1f40ac-e886-4543-e813-61e6a16f78d0"
   },
   "outputs": [],
   "source": [
    "segundos_en_un_dia = 24 * 60 * 60\n",
    "segundos_en_un_dia"
   ]
  },
  {
   "cell_type": "markdown",
   "metadata": {
    "colab_type": "text",
    "id": "2fhs6GZ4qFMx"
   },
   "source": [
    "Para ejecutar el código de una celda, también puedes utilizar `Command` y `Enter` o presionar el botón `play` que aparece a la izquierda de la celda. Para editar el código, simplemente haz click sobre la celda.\n",
    "\n",
    "Un par de opciones adicionales cuando trabajas con celdas:\n",
    "- Si presionas `Alt` y `Enter`, crearás una nueva celda (útil para cuando insertas nuevo contenido en el medio de un notebook).\n",
    "- Si presionas `Control` y `Enter`, se ejecutará la celda seleccionada y se mantendrá el cursor en la misma celda. Esta opción puede ser muy útil para hacer pruebas rápidas de código que no deseas mantener en el notebook o que necesitas probar contínuamente.\n",
    "\n",
    "Las variables que tu defines en una celda, pueden ser utilizadas posteriormente en otras celdas:"
   ]
  },
  {
   "cell_type": "code",
   "execution_count": null,
   "metadata": {
    "colab": {
     "base_uri": "https://localhost:8080/",
     "height": 34
    },
    "colab_type": "code",
    "id": "-gE-Ez1qtyIA",
    "outputId": "94cb2224-0edf-457b-90b5-0ac3488d8a97"
   },
   "outputs": [],
   "source": [
    "segundos_en_una_semana = 7 * segundos_en_un_dia\n",
    "segundos_en_una_semana"
   ]
  },
  {
   "cell_type": "markdown",
   "metadata": {},
   "source": [
    "Los notebooks también te permiten acceder el sistema operativo de la computadora en donde se ejecutan. Para hacerlo, usas los comandos del sistema operativo, precedido del caracter `!`. Por ejemplo, para listar los archivos del directorio en que estás trabajando, usando el sistema operativo Linux/Unix, se utiliza el comando `ls` (list). He aquí un ejemplo de como utilizarlo en el notebook:"
   ]
  },
  {
   "cell_type": "code",
   "execution_count": null,
   "metadata": {},
   "outputs": [],
   "source": [
    "archivos = !ls\n",
    "print(\"Los archivos ubicados en le directorio actual (en el servidor de Google Colab):\")\n",
    "print(archivos)"
   ]
  },
  {
   "cell_type": "markdown",
   "metadata": {
    "colab_type": "text",
    "id": "lSrWNr3MuFUS"
   },
   "source": [
    "Como indicamos anteriormente, los `notebooks` te permiten combinar **código ejecutable** con **texto** en un sólo documento, junto a **imágenes**, **HTML**, **LaTeX** y mucho más. Cuando creas tus propios Colab notebooks, ellos son almacenados en tu cuenta de Google Drive. Importante entonces que uses tu cuenta de Google cuando utilizas Colab.\n",
    "\n",
    "Puedes compartir fácilmente tus Colab notebooks con colegas y amigos, permitiéndoles que comenten en ellos o incluso editarlos. Para aprender más, puedes revisar el notebook [Overview of Colab].\n",
    "\n",
    "Para crear un nuevo Colab notebook puedes utilizar el menú `File` (arriba) o utilizar el siguiente enlace: [create a new Colab notebook](http://colab.research.google.com#create=true)."
   ]
  },
  {
   "cell_type": "markdown",
   "metadata": {
    "colab_type": "text",
    "id": "UdRyKR44dcNI"
   },
   "source": [
    "## Ciencia de Datos (Data science)\n",
    "\n",
    "Con Colab puedes aprovechar las populares librerías de Python para analizar y visualizar datos. La celda de abajo utiliza dos de estas librerías, **numpy** y **matplotlib**. Primero se usa **numpy** para generar datos aleatorios y luego **matplotlib** para visualizarlos. \n",
    "\n",
    "Explicando un poco más el codigo:\n",
    "- en las primeras dos líneas se importan las librerias a utilizar. Nota que usamos el alias `np` para numpy y `plt` para `matplotlib.pyplot`. \n",
    "- en las líneas 3 y 4 se crean los datos (`x` y `ys`) que usaremos para imprimir la gráfica.\n",
    "- en el resto del código, se crea la gráfica. Primero indicamos el tipo de gráfica que queremos utilizar (`plot`) y su formato (colores, tipo de lineas a utilizar), luego le damos un título a la gráfica y finalmente se muestra (`show`).\n",
    "\n",
    "Para editar el código, recuerda que sólo necesitas hacer click sobre la celda."
   ]
  },
  {
   "cell_type": "code",
   "execution_count": null,
   "metadata": {
    "colab": {
     "base_uri": "https://localhost:8080/",
     "height": 281
    },
    "colab_type": "code",
    "id": "C4HZx7Gndbrh",
    "outputId": "46abc637-6abd-41b2-9bba-80a7ae992e06"
   },
   "outputs": [],
   "source": [
    "import numpy as np\n",
    "from matplotlib import pyplot as plt\n",
    "\n",
    "ys = 200 + np.random.randn(100)\n",
    "x = [x for x in range(len(ys))]\n",
    "\n",
    "plt.plot(x, ys, '-')\n",
    "plt.fill_between(x, ys, 195, where=(ys > 195), facecolor='g', alpha=0.6)\n",
    "\n",
    "plt.title(\"Ejemplo de Visualización\")\n",
    "plt.show()"
   ]
  },
  {
   "cell_type": "markdown",
   "metadata": {},
   "source": [
    "## Análisis de Datos"
   ]
  },
  {
   "cell_type": "markdown",
   "metadata": {},
   "source": [
    "Puedes importar y utilizar los datos ubicados en tu cuenta de Google Drive (incluyendo hojas de cálculo), así como desde Github, el web y otras fuentes.\n",
    "\n",
    "En el siguiente ejemplo, vamos a utilizar otra popular librería de Python, `pandas` para descargar la lista de pasajeros y tripulación del trágicamente famoso barco Titanic. Al ejecutar la celda, es posible que se demore varios segundos."
   ]
  },
  {
   "cell_type": "code",
   "execution_count": null,
   "metadata": {},
   "outputs": [],
   "source": [
    "# Cargar la librería Pandas y asignarle el alias 'pd'\n",
    "import pandas as pd\n",
    "\n",
    "# Variable con la dirección web donde se encuentra la lista de pasajeros\n",
    "url = 'https://raw.githubusercontent.com/chrisalbon/sim_data/master/titanic.csv'\n",
    "\n",
    "# Descargar los datos del Internet y colocarlos en un dataframe (matriz)\n",
    "dataframe = pd.read_csv(url)\n",
    "\n",
    "# Mostrar las cinco primeras filas del dataframe\n",
    "dataframe.head(5)"
   ]
  },
  {
   "cell_type": "markdown",
   "metadata": {},
   "source": [
    "Cuando se analiza un conjunto de datos, es necesario conocer sus características. Para determinar las dimensiones (número de filas y de columnas) del dataframe, se puede utilizar la función `shape`."
   ]
  },
  {
   "cell_type": "code",
   "execution_count": null,
   "metadata": {},
   "outputs": [],
   "source": [
    "dataframe.shape"
   ]
  },
  {
   "cell_type": "markdown",
   "metadata": {},
   "source": [
    "Ahora determinemos el número de hombres y mujeres abordo. Para ello, podemos aplicar la función `value_counts()` a la columna `Sex`. Esta función cuenta la cantidad de veces que aparece cada valor en una columna."
   ]
  },
  {
   "cell_type": "code",
   "execution_count": null,
   "metadata": {},
   "outputs": [],
   "source": [
    "dataframe['Sex'].value_counts()"
   ]
  },
  {
   "cell_type": "markdown",
   "metadata": {},
   "source": [
    "**Pregunta:** Puedes escribir el comando necesario para determinar el número de personas que sobrevivieron el incidente?"
   ]
  },
  {
   "cell_type": "code",
   "execution_count": null,
   "metadata": {},
   "outputs": [],
   "source": []
  },
  {
   "cell_type": "markdown",
   "metadata": {
    "colab_type": "text",
    "id": "4_kCnsPUqS6o"
   },
   "source": [
    "Para aprender más sobre como importar datos y como Colab puede ser utilizado para ciencia de datos, puedes revisar los enlaces de la sección [Trabajando con Datos](#trabajando-con-datos)."
   ]
  },
  {
   "cell_type": "markdown",
   "metadata": {
    "colab_type": "text",
    "id": "OwuxHmxllTwN"
   },
   "source": [
    "## Aprendizaje de Máquina (Machine learning)\n",
    "\n",
    "Con Colab puedes crear modelos de machine learning para realizar operaciones como decidir, predecir, o clasificar muestras. Por ejemplo, puede importar un conjunto de imagenes, entrenar una clasificador de imagenes y evaluar el modelo para determinar su rendimiento [ejemplo](https://colab.research.google.com/github/tensorflow/docs/blob/master/site/en/tutorials/quickstart/beginner.ipynb). \n",
    "\n",
    "Los notebooks de Colab ejecutan el codigo en los servidores de la nube de Google, lo que incluye el uso de procesadores especializados como [GPUs y TPUs](#usando-hardware-especializado)."
   ]
  },
  {
   "cell_type": "markdown",
   "metadata": {
    "colab_type": "text",
    "id": "ufxBm1yRnruN"
   },
   "source": [
    "Colab puede ser utilizado para distintas tareas de aprendizaje de máquina:\n",
    "- Explorar la librería TensorFlow\n",
    "- Desarrollar y entrenar redes neuronales\n",
    "- Experimentar con TPUs\n",
    "- Compartir investigaciones\n",
    "- Crear tutoriales\n",
    "\n",
    "Para ver ejemplos de Colab notebooks que muestran distintas aplicaciones de aprendizaje de máquina, puedes consultar la sección [Ejemplos de Machine Learning](#ejemplos-aprendizaje-maquina) abajo."
   ]
  },
  {
   "cell_type": "markdown",
   "metadata": {
    "colab_type": "text",
    "id": "-Rh3-Vt9Nev9"
   },
   "source": [
    "## Más Recursos (en inglés)\n",
    "\n",
    "### Trabajando con Recursos en Colab\n",
    "- [Overview of Colaboratory](/notebooks/basic_features_overview.ipynb)\n",
    "- [Guide to Markdown](/notebooks/markdown_guide.ipynb)\n",
    "- [Importing libraries and installing dependencies](/notebooks/snippets/importing_libraries.ipynb)\n",
    "- [Saving and loading notebooks in GitHub](https://colab.research.google.com/github/googlecolab/colabtools/blob/master/notebooks/colab-github-demo.ipynb)\n",
    "- [Interactive forms](/notebooks/forms.ipynb)\n",
    "- [Interactive widgets](/notebooks/widgets.ipynb)\n",
    "- [TensorFlow 2 in Colab](/notebooks/tensorflow_version.ipynb)\n",
    "\n",
    "<a name=\"trabajando-con-datos\"></a>\n",
    "### Trabajando con Datos\n",
    "- [Loading data: Drive, Sheets, and Google Cloud Storage](/notebooks/io.ipynb) \n",
    "- [Charts: visualizing data](/notebooks/charts.ipynb)\n",
    "- [Getting started with BigQuery](/notebooks/bigquery.ipynb)\n",
    "\n",
    "### Curso Rápido de Machine Learning\n",
    "Existen varios notebooks del curso (en línea) de Google sobre Machine Learning. Visita el sitio del curso para mayor información [full course website](https://developers.google.com/machine-learning/crash-course/).\n",
    "- [Intro to Pandas](/notebooks/mlcc/intro_to_pandas.ipynb)\n",
    "- [Tensorflow concepts](/notebooks/mlcc/tensorflow_programming_concepts.ipynb)\n",
    "- [First steps with TensorFlow](/notebooks/mlcc/first_steps_with_tensor_flow.ipynb)\n",
    "- [Intro to neural nets](/notebooks/mlcc/intro_to_neural_nets.ipynb)\n",
    "- [Intro to sparse data and embeddings](/notebooks/mlcc/intro_to_sparse_data_and_embeddings.ipynb)\n",
    "\n",
    "<a name=\"utilizando-hardware-especializado\"></a>\n",
    "### Usando Hardware Especializado\n",
    "- [TensorFlow with GPUs](/notebooks/gpu.ipynb)\n",
    "- [TensorFlow with TPUs](/notebooks/tpu.ipynb)"
   ]
  },
  {
   "cell_type": "markdown",
   "metadata": {
    "colab_type": "text",
    "id": "P-H6Lw1vyNNd"
   },
   "source": [
    "<a name=\"ejemplos-aprendizaje-maquina\"></a>\n",
    "\n",
    "## Ejemplos de Machine Learning\n",
    "\n",
    "Para ver ejemplos completos de analisis interactivo que pueden realizarse con Google Colab, puedes consultar los siguientes tutoriales que utilizan los modelos de [TensorFlow Hub](https://tfhub.dev).\n",
    "\n",
    "Un par de estos ejemplos:\n",
    "\n",
    "- [Retraining an Image Classifier - Reentrenar un Clasificador de Imágenes](https://tensorflow.org/hub/tutorials/tf2_image_retraining): Construye un modelo con la librería Keras, utilizando un clasificador de imágenes (previamente entrenado) para distingir flores.\n",
    "- [Text Classification - Clasificación de Texto](https://tensorflow.org/hub/tutorials/tf2_text_classification): Clasifica las evaluaciones o críticas de películas en la base de datos IMDB, como *positivas* o *negativas*.\n",
    "- [Style Transfer - Transferencia de Estilos](https://tensorflow.org/hub/tutorials/tf2_arbitrary_image_stylization): Usa deep learning para transferir estílos entre imágenes.\n",
    "- [Multilingual Universal Sentence Encoder Q&A - Codificador Universal Multilingue de Oraciones](https://tensorflow.org/hub/tutorials/retrieval_with_tf_hub_universal_encoder_qa): Usa un modelo de ML para contestar preguntas del dataset SQuAD.\n",
    "- [Video Interpolation - Interpolación de Video](https://tensorflow.org/hub/tutorials/tweening_conv3d): Predice que ocurre en un video entre el primer y el último cuadro."
   ]
  },
  {
   "cell_type": "markdown",
   "metadata": {},
   "source": [
    "## Referencias\n",
    "\n",
    "- Google. [Welcome to Colaboratory](https://colab.research.google.com/notebooks/intro.ipynb).\n",
    "- Jupyter Project. [The Jupyter Notebook](https://jupyter-notebook.readthedocs.io/en/stable/)"
   ]
  },
  {
   "cell_type": "code",
   "execution_count": null,
   "metadata": {},
   "outputs": [],
   "source": []
  }
 ],
 "metadata": {
  "colab": {
   "collapsed_sections": [],
   "include_colab_link": true,
   "name": "Welcome To Colaboratory",
   "provenance": [],
   "toc_visible": true
  },
  "kernelspec": {
   "display_name": "Python 3",
   "language": "python",
   "name": "python3"
  },
  "language_info": {
   "codemirror_mode": {
    "name": "ipython",
    "version": 3
   },
   "file_extension": ".py",
   "mimetype": "text/x-python",
   "name": "python",
   "nbconvert_exporter": "python",
   "pygments_lexer": "ipython3",
   "version": "3.7.3"
  }
 },
 "nbformat": 4,
 "nbformat_minor": 1
}
