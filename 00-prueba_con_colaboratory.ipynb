{
 "cells": [
  {
   "cell_type": "markdown",
   "metadata": {
    "colab_type": "text",
    "id": "view-in-github"
   },
   "source": [
    "<a href=\"https://colab.research.google.com/github/gmhoward/amalia20-taller_ml/blob/master/Welcome_To_Colaboratory.ipynb\" target=\"_parent\"><img src=\"https://colab.research.google.com/assets/colab-badge.svg\" alt=\"Open In Colab\"/></a>"
   ]
  },
  {
   "cell_type": "markdown",
   "metadata": {
    "colab_type": "text",
    "id": "5fCEDCU_qrC0"
   },
   "source": [
    "<p><img alt=\"Colaboratory logo\" height=\"45px\" src=\"img/colab_favicon_256px.png\" align=\"left\" hspace=\"10px\" vspace=\"0px\"></p>\n",
    "\n",
    "<h1>Qué es Colaboratory?</h1>\n",
    "\n",
    "Colaboratory o \"Colab\" es una plataforma de Google que te permite escribir y ejecutar codigo Python desde tu navegador web y sin tener que instalar ningun software: \n",
    "- No requiere configuración\n",
    "- Ofrece acceso a computadoras con GPUs (procesadores que facilitan la implementación de algorítmos de Deep Learning)\n",
    "- Fácil de compartir y colaborar con otras personas\n",
    "\n",
    "Ya sea que eres un(a) **estudiante**, **cientifico(a) de datos**, **desarrollador(a) de software**, o un(a)  **investigador(a) de inteligencia artificial**, Colab te permite trabajar y colaborar en proyectos de Python y Machine Learning. Puedes observar el video (en inglés) [Introduction to Colab](https://www.youtube.com/watch?v=inN8seMm7UI) para aprender más sobre esta plataforma o simplemente utiliza las prácticas de abajo."
   ]
  },
  {
   "cell_type": "markdown",
   "metadata": {
    "colab_type": "text",
    "id": "GJBs_flRovLc"
   },
   "source": [
    "## **Primeros Pasos**\n",
    "\n",
    "Este documento no es una página web estática, sino un entorno interactivo llamado un **`Colab notebook`** (cuaderno) que te permite escribir y ejecutar código. Estos `notebooks` están basados en los notebooks del proyecto Jupyter y son hospedados en los servidores de la plataforma Google Colab. [para aprender más sobre el proyecto Jupyter, puedes visitar [jupyter.org](https://www.jupyter.org)]\n",
    "\n",
    "Como dijimos, el `notebook` es un entorno interactivo para escribir y ejecutar código, que también permite incluir otros tipos de datos, como **texto** (por ejemplo, el que estás leyendo ahora), **figuras** y **video**. Esto permite que los `notebooks` sirvan para incluir explicaciones, comentarios y graficas que complementan el codigo utilizado cuando se hace ciencia de datos (data science)."
   ]
  },
  {
   "cell_type": "markdown",
   "metadata": {},
   "source": [
    "En un `notebook`, todo el codigo y los datos se colocan en celdas. Por ejemplo, he aquí una **celda de codigo** que contiene un pequeno programa de Python para calcular el numero de segundos en un dia, guarda el resultado en una variable y luego lo imprime. Para ejecutar la celda, debes:\n",
    "1. seleccionar la celda que quieres ejecutar, haciendo click sobre ella.\n",
    "2. Apretar simultaneamente las teclas `Shift` y `Enter (Return)`.\n",
    "\n",
    "Esto ejecutara la celda y pondra el cursor en la siguiente celda (abajo) o creara una celda nueva si estas en la ultima celda del notebook. Intentalo ahora con la celda de abajo para calcular el numero de segundos que tiene un dia."
   ]
  },
  {
   "cell_type": "code",
   "execution_count": 5,
   "metadata": {
    "colab": {
     "base_uri": "https://localhost:8080/",
     "height": 34
    },
    "colab_type": "code",
    "id": "gJr_9dXGpJ05",
    "outputId": "2f1f40ac-e886-4543-e813-61e6a16f78d0"
   },
   "outputs": [
    {
     "data": {
      "text/plain": [
       "86400"
      ]
     },
     "execution_count": 5,
     "metadata": {},
     "output_type": "execute_result"
    }
   ],
   "source": [
    "segundos_en_un_dia = 24 * 60 * 60\n",
    "segundos_en_un_dia"
   ]
  },
  {
   "cell_type": "markdown",
   "metadata": {
    "colab_type": "text",
    "id": "2fhs6GZ4qFMx"
   },
   "source": [
    "Para ejecutar el codigo de una celda, tambien puedes utilizar `Command` y `Enter` o presionar el boton `play` que aparece a la izquierda de la celda. Para editar el codigo, simplemente haz click sobre la celda.\n",
    "\n",
    "Un par de opciones adicionales cuando trabajas con celdas:\n",
    "- Si presionas `Alt` y `Enter`, crearas una nueva celda (util para cuando insertas nuevo contenido en el medio de un notebook).\n",
    "- Si presionas `Control` y `Enter`, se ejecutara la celda seleccionada y se mantendra el cursor en la misma celda. Esta opcion puede ser muy util para hacer pruebas rapidas de codigo que no deseas mantener en el notebook o que necesitas probar continuamente.\n",
    "\n",
    "Las variables que tu defines en una celda, pueden ser utilizadas posteriormente en otras celdas:"
   ]
  },
  {
   "cell_type": "code",
   "execution_count": 4,
   "metadata": {
    "colab": {
     "base_uri": "https://localhost:8080/",
     "height": 34
    },
    "colab_type": "code",
    "id": "-gE-Ez1qtyIA",
    "outputId": "94cb2224-0edf-457b-90b5-0ac3488d8a97"
   },
   "outputs": [
    {
     "data": {
      "text/plain": [
       "604800"
      ]
     },
     "execution_count": 4,
     "metadata": {},
     "output_type": "execute_result"
    }
   ],
   "source": [
    "segundos_en_una_semana = 7 * segundos_en_un_dia\n",
    "segundos_en_una_semana"
   ]
  },
  {
   "cell_type": "markdown",
   "metadata": {},
   "source": [
    "Los notebooks tambien te permiten acceder el sistema operativo de la computadora en donde se ejecutan. Para hacerlo, usas los comandos del sistema operativo, precedido del caracter `!`. Por ejemplo, para listar los archivos del directorio en que estas trabajando, usando el sistema operativo Linux/Unix, se utiliza el comando `ls` (list). He aqui un ejemplo de como utilizarlo en el notebook:"
   ]
  },
  {
   "cell_type": "code",
   "execution_count": null,
   "metadata": {},
   "outputs": [],
   "source": [
    "archivos = !ls\n",
    "print(\"Los archivos ubicados en le directorio actual:\")\n",
    "print(archivos)"
   ]
  },
  {
   "cell_type": "markdown",
   "metadata": {
    "colab_type": "text",
    "id": "lSrWNr3MuFUS"
   },
   "source": [
    "Como indicamos anteriormente, los `notebooks` te permiten combinar **codigo ejecutable** con **texto** en un solo documento, junto a **imagenes**, **HTML**, **LaTeX** y mucho mas. Cuando tu creas tus propios Colab notebooks, ellos son almacenados en tu cuenta de Google Drive. Importante entonces que utilices tu cuenta de Google cuando utilizas Colab.\n",
    "\n",
    "Puedes compartir facilmente tus Colab notebooks con colegas y amigos, permitiendoles que comenten en ellos o incluso editarlos. Para aprender mas, puedes revisar el notebook [Overview of Colab].\n",
    "\n",
    "Para crear un nuevo Colab notebook puedes utilizar el menu `File` (arriba) o utilizar el siguiente enlace: [create a new Colab notebook](http://colab.research.google.com#create=true)."
   ]
  },
  {
   "cell_type": "markdown",
   "metadata": {
    "colab_type": "text",
    "id": "UdRyKR44dcNI"
   },
   "source": [
    "## Ciencia de Datos (Data science)\n",
    "\n",
    "Con Colab puedes aprovechar las populares librerias de Python para analizar y visualizar datos. La celda de abajo utiliza dos de estas librerias, **numpy** y **matplotlib**. Primero se usa **numpy** para generar datos aleatorios y luego **matplotlib** para visualizarlos. \n",
    "\n",
    "Explicando un poco mas el codigo:\n",
    "- en las primeras dos lineas se importan las librerias a utilizar. Notese que usamos el alias `np` para numpy y `plt` para `matplotlib.pyplot`. \n",
    "- en las lineas 3 y 4 se crean los datos (`x` y `ys`) que usaremos para imprimir la grafica.\n",
    "- en el resto del codigo, se crea la grafica. Primero indicamos el tipo de grafica que queremos utilizar (`plot`) y su formato (colores, tipo de lineas a utilizar), luego le damos un titulo a la grafica y finalmente \n",
    "\n",
    "Para editar el codigo, recuerda que solo necesitas hacer click sobre la celda."
   ]
  },
  {
   "cell_type": "code",
   "execution_count": 8,
   "metadata": {
    "colab": {
     "base_uri": "https://localhost:8080/",
     "height": 281
    },
    "colab_type": "code",
    "id": "C4HZx7Gndbrh",
    "outputId": "46abc637-6abd-41b2-9bba-80a7ae992e06"
   },
   "outputs": [
    {
     "data": {
      "text/plain": [
       "<Figure size 640x480 with 1 Axes>"
      ]
     },
     "metadata": {},
     "output_type": "display_data"
    }
   ],
   "source": [
    "import numpy as np\n",
    "from matplotlib import pyplot as plt\n",
    "\n",
    "ys = 200 + np.random.randn(100)\n",
    "x = [x for x in range(len(ys))]\n",
    "\n",
    "plt.plot(x, ys, '-')\n",
    "plt.fill_between(x, ys, 195, where=(ys > 195), facecolor='g', alpha=0.6)\n",
    "\n",
    "plt.title(\"Ejemplo de Visualizacion\")\n",
    "plt.show()"
   ]
  },
  {
   "cell_type": "markdown",
   "metadata": {},
   "source": [
    "## Analisis de Datos"
   ]
  },
  {
   "cell_type": "markdown",
   "metadata": {},
   "source": [
    "Puedes importar y utilizar tus propios datos ubicados en tu cuenta de Google Drive (incluyendo hojas de calculo), asi como desde Github, el web y otras fuentes.\n",
    "\n",
    "En el siguiente ejemplo, vamos a utilizar otra popular libreria de Python, `pandas` para descargar la lista de pasajeros y tripulacion en el tragicamente famoso barco Titanic. Al ejecutar la celda, es posible que se demore varios segundos."
   ]
  },
  {
   "cell_type": "code",
   "execution_count": 10,
   "metadata": {},
   "outputs": [
    {
     "data": {
      "text/html": [
       "<div>\n",
       "<style scoped>\n",
       "    .dataframe tbody tr th:only-of-type {\n",
       "        vertical-align: middle;\n",
       "    }\n",
       "\n",
       "    .dataframe tbody tr th {\n",
       "        vertical-align: top;\n",
       "    }\n",
       "\n",
       "    .dataframe thead th {\n",
       "        text-align: right;\n",
       "    }\n",
       "</style>\n",
       "<table border=\"1\" class=\"dataframe\">\n",
       "  <thead>\n",
       "    <tr style=\"text-align: right;\">\n",
       "      <th></th>\n",
       "      <th>Name</th>\n",
       "      <th>PClass</th>\n",
       "      <th>Age</th>\n",
       "      <th>Sex</th>\n",
       "      <th>Survived</th>\n",
       "      <th>SexCode</th>\n",
       "    </tr>\n",
       "  </thead>\n",
       "  <tbody>\n",
       "    <tr>\n",
       "      <th>0</th>\n",
       "      <td>Allen, Miss Elisabeth Walton</td>\n",
       "      <td>1st</td>\n",
       "      <td>29.00</td>\n",
       "      <td>female</td>\n",
       "      <td>1</td>\n",
       "      <td>1</td>\n",
       "    </tr>\n",
       "    <tr>\n",
       "      <th>1</th>\n",
       "      <td>Allison, Miss Helen Loraine</td>\n",
       "      <td>1st</td>\n",
       "      <td>2.00</td>\n",
       "      <td>female</td>\n",
       "      <td>0</td>\n",
       "      <td>1</td>\n",
       "    </tr>\n",
       "    <tr>\n",
       "      <th>2</th>\n",
       "      <td>Allison, Mr Hudson Joshua Creighton</td>\n",
       "      <td>1st</td>\n",
       "      <td>30.00</td>\n",
       "      <td>male</td>\n",
       "      <td>0</td>\n",
       "      <td>0</td>\n",
       "    </tr>\n",
       "    <tr>\n",
       "      <th>3</th>\n",
       "      <td>Allison, Mrs Hudson JC (Bessie Waldo Daniels)</td>\n",
       "      <td>1st</td>\n",
       "      <td>25.00</td>\n",
       "      <td>female</td>\n",
       "      <td>0</td>\n",
       "      <td>1</td>\n",
       "    </tr>\n",
       "    <tr>\n",
       "      <th>4</th>\n",
       "      <td>Allison, Master Hudson Trevor</td>\n",
       "      <td>1st</td>\n",
       "      <td>0.92</td>\n",
       "      <td>male</td>\n",
       "      <td>1</td>\n",
       "      <td>0</td>\n",
       "    </tr>\n",
       "  </tbody>\n",
       "</table>\n",
       "</div>"
      ],
      "text/plain": [
       "                                            Name PClass    Age     Sex  \\\n",
       "0                   Allen, Miss Elisabeth Walton    1st  29.00  female   \n",
       "1                    Allison, Miss Helen Loraine    1st   2.00  female   \n",
       "2            Allison, Mr Hudson Joshua Creighton    1st  30.00    male   \n",
       "3  Allison, Mrs Hudson JC (Bessie Waldo Daniels)    1st  25.00  female   \n",
       "4                  Allison, Master Hudson Trevor    1st   0.92    male   \n",
       "\n",
       "   Survived  SexCode  \n",
       "0         1        1  \n",
       "1         0        1  \n",
       "2         0        0  \n",
       "3         0        1  \n",
       "4         1        0  "
      ]
     },
     "execution_count": 10,
     "metadata": {},
     "output_type": "execute_result"
    }
   ],
   "source": [
    "# Cargar la libreria Pandas y asignarle el alias 'pd'\n",
    "import pandas as pd\n",
    "\n",
    "# Variable con la direccion web donde se encuentra la lista de pasajeros\n",
    "url = 'https://raw.githubusercontent.com/chrisalbon/sim_data/master/titanic.csv'\n",
    "\n",
    "# Descargar los datos del Internet y colocarlos en un dataframe (matriz)\n",
    "dataframe = pd.read_csv(url)\n",
    "\n",
    "# Mostrar las cinco primeras filas del dataframe\n",
    "dataframe.head(5)"
   ]
  },
  {
   "cell_type": "markdown",
   "metadata": {},
   "source": [
    "Cuando se analiza un conjunto de datos, es necesario conocer sus caracteristicas. Para determinar las dimensiones (numero de filas y de columnas) del dataframe, se puede utilizar la funcion `shape`."
   ]
  },
  {
   "cell_type": "code",
   "execution_count": 12,
   "metadata": {},
   "outputs": [
    {
     "data": {
      "text/plain": [
       "(1313, 6)"
      ]
     },
     "execution_count": 12,
     "metadata": {},
     "output_type": "execute_result"
    }
   ],
   "source": [
    "dataframe.shape"
   ]
  },
  {
   "cell_type": "markdown",
   "metadata": {},
   "source": [
    "Ahora determinemos el numero de hombres y mujeres abordo. Para ello, podemos aplicar la funcion `value_counts()` a la columna `Sex`. Esta funcion cuenta la cantidad de veces que aparece cada valor en una columna."
   ]
  },
  {
   "cell_type": "code",
   "execution_count": 13,
   "metadata": {},
   "outputs": [
    {
     "data": {
      "text/plain": [
       "male      851\n",
       "female    462\n",
       "Name: Sex, dtype: int64"
      ]
     },
     "execution_count": 13,
     "metadata": {},
     "output_type": "execute_result"
    }
   ],
   "source": [
    "dataframe['Sex'].value_counts()"
   ]
  },
  {
   "cell_type": "markdown",
   "metadata": {},
   "source": [
    "**Pregunta:** Puedes escribir el comando necesario para determinar el numero de personas que sobrevivieron el incidente?"
   ]
  },
  {
   "cell_type": "code",
   "execution_count": null,
   "metadata": {},
   "outputs": [],
   "source": []
  },
  {
   "cell_type": "markdown",
   "metadata": {
    "colab_type": "text",
    "id": "4_kCnsPUqS6o"
   },
   "source": [
    "Para aprender mas sobre como importar datos y como Colab puede ser utilizado para ciencia de datos, puedes revisar los enlaces de la seccion [Trabajando con Datos](#trabajando-con-datos)."
   ]
  },
  {
   "cell_type": "markdown",
   "metadata": {
    "colab_type": "text",
    "id": "OwuxHmxllTwN"
   },
   "source": [
    "## Aprendizaje de Maquina (Machine learning)\n",
    "\n",
    "Con Colab puedes crear modelos de machine learning para realizar operaciones como decidir, predecir, o clasificar muestras. Por ejemplo, puede importar un conjunto de imagenes, entrenar una clasificador de imagenes y evaluar el modelo para determinar su rendimiento [ejemplo](https://colab.research.google.com/github/tensorflow/docs/blob/master/site/en/tutorials/quickstart/beginner.ipynb). \n",
    "\n",
    "Los notebooks de Colab ejecutan el codigo en los servidores de la nuba de Google, lo que incluye el uso de procesadores especializados como [GPUs y TPUs](#usando-hardware-especializado)."
   ]
  },
  {
   "cell_type": "markdown",
   "metadata": {
    "colab_type": "text",
    "id": "ufxBm1yRnruN"
   },
   "source": [
    "Colab puede ser utilizado para distintas tareas de aprendizaje de maquina:\n",
    "- Explorar la libreria TensorFlow\n",
    "- Desarrollar y entrenar redes neuronales\n",
    "- Experimentar con TPUs\n",
    "- Compartir investigaciones\n",
    "- Crear tutoriales\n",
    "\n",
    "Para ver ejemplos de Colab notebooks que muestran distintas aplicaciones de aprendizaje de maquina, puedes consultar la seccion [Ejemplos de Machine Learning](#ejemplos-aprendizaje-maquina) abajo."
   ]
  },
  {
   "cell_type": "markdown",
   "metadata": {
    "colab_type": "text",
    "id": "-Rh3-Vt9Nev9"
   },
   "source": [
    "## Mas Recursos (en ingles)\n",
    "\n",
    "### Trabajando con Recursos en Colab\n",
    "- [Overview of Colaboratory](/notebooks/basic_features_overview.ipynb)\n",
    "- [Guide to Markdown](/notebooks/markdown_guide.ipynb)\n",
    "- [Importing libraries and installing dependencies](/notebooks/snippets/importing_libraries.ipynb)\n",
    "- [Saving and loading notebooks in GitHub](https://colab.research.google.com/github/googlecolab/colabtools/blob/master/notebooks/colab-github-demo.ipynb)\n",
    "- [Interactive forms](/notebooks/forms.ipynb)\n",
    "- [Interactive widgets](/notebooks/widgets.ipynb)\n",
    "- [TensorFlow 2 in Colab](/notebooks/tensorflow_version.ipynb)\n",
    "\n",
    "<a name=\"trabajando-con-datos\"></a>\n",
    "### Trabajando con Datos\n",
    "- [Loading data: Drive, Sheets, and Google Cloud Storage](/notebooks/io.ipynb) \n",
    "- [Charts: visualizing data](/notebooks/charts.ipynb)\n",
    "- [Getting started with BigQuery](/notebooks/bigquery.ipynb)\n",
    "\n",
    "### Curso Rapido de Machine Learning\n",
    "Existen varios notebooks del curso (en linea) de Google sobre Machine Learning. Visita el sitio del curso para mayor informacion [full course website](https://developers.google.com/machine-learning/crash-course/).\n",
    "- [Intro to Pandas](/notebooks/mlcc/intro_to_pandas.ipynb)\n",
    "- [Tensorflow concepts](/notebooks/mlcc/tensorflow_programming_concepts.ipynb)\n",
    "- [First steps with TensorFlow](/notebooks/mlcc/first_steps_with_tensor_flow.ipynb)\n",
    "- [Intro to neural nets](/notebooks/mlcc/intro_to_neural_nets.ipynb)\n",
    "- [Intro to sparse data and embeddings](/notebooks/mlcc/intro_to_sparse_data_and_embeddings.ipynb)\n",
    "\n",
    "<a name=\"utilizando-hardware-especializado\"></a>\n",
    "### Usando Hardware Especializado\n",
    "- [TensorFlow with GPUs](/notebooks/gpu.ipynb)\n",
    "- [TensorFlow with TPUs](/notebooks/tpu.ipynb)"
   ]
  },
  {
   "cell_type": "markdown",
   "metadata": {
    "colab_type": "text",
    "id": "P-H6Lw1vyNNd"
   },
   "source": [
    "<a name=\"ejemplos-aprendizaje-maquina\"></a>\n",
    "\n",
    "## Ejemplos de Machine Learning\n",
    "\n",
    "Para ver ejemplos completos de , puedes trabajar con los \n",
    "\n",
    "To see end-to-end examples of the interactive machine learning analyses that Colaboratory makes possible, check out these  tutorials using models from [TensorFlow Hub](https://tfhub.dev).\n",
    "\n",
    "A few featured examples:\n",
    "\n",
    "- [Retraining an Image Classifier](https://tensorflow.org/hub/tutorials/tf2_image_retraining): Build a Keras model on top of a pre-trained image classifier to distinguish flowers.\n",
    "- [Text Classification](https://tensorflow.org/hub/tutorials/tf2_text_classification): Classify IMDB movie reviews as either *positive* or *negative*.\n",
    "- [Style Transfer](https://tensorflow.org/hub/tutorials/tf2_arbitrary_image_stylization): Use deep learning to transfer style between images.\n",
    "- [Multilingual Universal Sentence Encoder Q&A](https://tensorflow.org/hub/tutorials/retrieval_with_tf_hub_universal_encoder_qa): Use a machine learning model to answer questions from the SQuAD dataset.\n",
    "- [Video Interpolation](https://tensorflow.org/hub/tutorials/tweening_conv3d): Predict what happened in a video between the first and the last frame.\n"
   ]
  },
  {
   "cell_type": "markdown",
   "metadata": {},
   "source": [
    "## Referencias\n",
    "\n",
    "- Google. [Welcome to Colaboratory](https://colab.research.google.com/notebooks/intro.ipynb).\n",
    "- Jupyter Project. [The Jupyter Notebook](https://jupyter-notebook.readthedocs.io/en/stable/)"
   ]
  },
  {
   "cell_type": "code",
   "execution_count": null,
   "metadata": {},
   "outputs": [],
   "source": []
  }
 ],
 "metadata": {
  "colab": {
   "collapsed_sections": [],
   "include_colab_link": true,
   "name": "Welcome To Colaboratory",
   "provenance": [],
   "toc_visible": true
  },
  "kernelspec": {
   "display_name": "Python 3",
   "language": "python",
   "name": "python3"
  },
  "language_info": {
   "codemirror_mode": {
    "name": "ipython",
    "version": 3
   },
   "file_extension": ".py",
   "mimetype": "text/x-python",
   "name": "python",
   "nbconvert_exporter": "python",
   "pygments_lexer": "ipython3",
   "version": "3.7.3"
  }
 },
 "nbformat": 4,
 "nbformat_minor": 1
}
