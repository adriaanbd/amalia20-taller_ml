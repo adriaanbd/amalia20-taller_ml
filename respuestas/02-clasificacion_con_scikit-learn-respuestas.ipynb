{
 "cells": [
  {
   "cell_type": "markdown",
   "metadata": {
    "heading_collapsed": true
   },
   "source": [
    "# Creando modelos de clasificacion con scikit-learn\n",
    "\n",
    "Créditos: Material presentado en este notebook está basado en el curso del [Data School](http://www.dataschool.io/) \"Machine Learning with Text in Python\", cuyos videos están disponibles en [YouTube](https://www.youtube.com/playlist?list=PL5-da3qGB5ICeMbQuqbbCOQWcS6OYBr5A) y los notebooks en [GitHub](https://github.com/justmarkham/scikit-learn-videos).\n",
    "\n",
    "**Nota:** Este notebook utiliza Python 3.x and scikit-learn 0.2x."
   ]
  },
  {
   "cell_type": "markdown",
   "metadata": {
    "heading_collapsed": true,
    "hidden": true
   },
   "source": [
    "## Objetivo\n",
    "\n",
    "- Implementaremos varios modelos de ML para clasificar plantas de la familia Iris en una de tres especies, usando la longitud y ancho de sus pétalos y sépalos."
   ]
  },
  {
   "cell_type": "markdown",
   "metadata": {
    "heading_collapsed": true,
    "hidden": true
   },
   "source": [
    "## Agenda\n",
    "\n",
    "- ¿Qué es el dataset Iris y cómo se puede utilizar para hacer machine learning (ML)?\n",
    "- ¿Cómo se puede cargar el dataset Iris con scikit-learn?\n",
    "- Como se describe un dataset usando la terminologia de ML?\n",
    "- Cual son los cuatro principales requisitos de scikit-learn para trabajar con datos?\n",
    "- Como funciona el algoritmo **K-nearest neighbors** para crear modelos de prediccion?\n",
    "- Cuales son los cuatro pasos para realizar el **entrenamiento y prediccion de modelos** con scikit-learn?\n",
    "- Como puedo aplicar este proceso con **otros modelos de machine learning**?"
   ]
  },
  {
   "cell_type": "markdown",
   "metadata": {},
   "source": [
    "# 1. Introduccion al dataset iris\n",
    "\n",
    "Para construir los modelos, utilizaremos el [conjunto de datos flor Iris](https://es.wikipedia.org/wiki/Conjunto_de_datos_flor_iris), el cual es un conjunto clásico en la comunidad de ML por ser sencillo y útil para explicar los resultados obtenidos de los modelos.\n",
    "\n",
    "En el conjunto a utilizar, las muestras de flor Iris caen dentro de tres especies: Iris setosa, Iris versicolor, y Iris virgínica. En principio, las tres especies pueden lucir muy parecidas entre sí, especialmente entre las dos últimas especies (versicolor y virginica). Sin embargo, y gracias a las cuidadosas mediciones de los investigadores Anderson y Fisher, una muestra puede ser clasificada con un alto grado de precisión por medio de modelos de ML.\n",
    "\n",
    "![Iris](../img/iris.png)\n",
    "\n",
    "El conjunto de datos Iris consiste \n",
    "- 50 muestras de 3 especies distintas de iris (150 muestras en total). Los iris tambien son conocido comunmente como lirios.\n",
    "- Medidas: longitud del sépalo, ancho del sépalo, longitud del pétalo, ancho del pétalo\n",
    "- Iris es un género de plantas rizomatosas de la familia Iridaceae. El mayor género de la familia con más de 300 especies, además de muchos híbridos y cultivares. Además del nombre del género, iris se usa comúnmente para referirse a todas las especies, así como a otros varios géneros estrechamente emparentados y a una subdivisión dentro del género. Fuente: [Wikipedia](https://es.wikipedia.org/wiki/Iris_(planta))\n",
    "\n",
    "\n",
    "| Setosa | Versicolor | Virginica |\n",
    "| :-: | :-: | :-: |\n",
    "| <img src=\"../img/iris_setosa.jpg\" width=\"200\"/> | <img src=\"../img/iris_versicolor.jpg\" width=\"200\"/> | <img src=\"../img/iris_virginica.jpg\" width=\"200\"/> |"
   ]
  },
  {
   "cell_type": "markdown",
   "metadata": {
    "heading_collapsed": true
   },
   "source": [
    "## Cargando el dataset iris con scikit-learn"
   ]
  },
  {
   "cell_type": "code",
   "execution_count": null,
   "metadata": {
    "hidden": true
   },
   "outputs": [],
   "source": [
    "# importa la funcion load_iris del modulo datasets\n",
    "from sklearn.datasets import load_iris"
   ]
  },
  {
   "cell_type": "code",
   "execution_count": null,
   "metadata": {
    "hidden": true
   },
   "outputs": [],
   "source": [
    "# guarda el objeto tipo \"bunch\", que contiene el dataset iris y sus atributos\n",
    "iris = load_iris()\n",
    "type(iris)"
   ]
  },
  {
   "cell_type": "code",
   "execution_count": null,
   "metadata": {
    "hidden": true
   },
   "outputs": [],
   "source": [
    "# imprime la data the iris data\n",
    "# encontraras 150 muestras o filas, cada una con cuatro valores\n",
    "print(iris.data)"
   ]
  },
  {
   "cell_type": "code",
   "execution_count": null,
   "metadata": {
    "hidden": true
   },
   "outputs": [],
   "source": [
    "# si solo quieres ver el principio del conjunto de datos (usualmente eso es suficiente para tener una idea)\n",
    "# por ejemplo, para ver las primeras diez filas\n",
    "iris.data[0:10,:]"
   ]
  },
  {
   "cell_type": "markdown",
   "metadata": {
    "hidden": true
   },
   "source": [
    "<b>Pregunta:</b> Que tipo de objeto es `iris.data`? Escribe el comando en la celda de abajo. Para una guia de que comando usar, revisa en las celdas de arriba."
   ]
  },
  {
   "cell_type": "code",
   "execution_count": null,
   "metadata": {
    "hidden": true
   },
   "outputs": [],
   "source": [
    "type(iris.data)"
   ]
  },
  {
   "cell_type": "markdown",
   "metadata": {
    "hidden": true
   },
   "source": [
    "<b>Pregunta:</b> Como muestras las cinco primeras filas del conjunto de datos `iris.data`? \n",
    "\n",
    "Para encontrar la respuesta puedes usar las siguientes referencias:\n",
    "- NumPy: the absolute basics for beginners. Indexing and slicing. https://numpy.org/doc/stable/user/absolute_beginners.html#indexing-and-slicing\n",
    "- Cálculo numérico con Numpy. http://research.iac.es/sieinvens/python-course/numpy.html"
   ]
  },
  {
   "cell_type": "code",
   "execution_count": null,
   "metadata": {
    "hidden": true
   },
   "outputs": [],
   "source": [
    "iris.data[0:5,]"
   ]
  },
  {
   "cell_type": "markdown",
   "metadata": {
    "hidden": true
   },
   "source": [
    "<b>Pregunta:</b> Como muestras los ultimos diez valores de la tercera columna del conjunto de datos `iris.data`? \n",
    "\n",
    "Puedes usar las mismas referencias de arriba para encontrar la respuesta."
   ]
  },
  {
   "cell_type": "code",
   "execution_count": null,
   "metadata": {
    "hidden": true
   },
   "outputs": [],
   "source": [
    "iris.data[140:,2]"
   ]
  },
  {
   "cell_type": "code",
   "execution_count": null,
   "metadata": {
    "hidden": true
   },
   "outputs": [],
   "source": [
    "# imprime los nombres de las cuatro caracteristicas\n",
    "print(iris.feature_names)"
   ]
  },
  {
   "cell_type": "markdown",
   "metadata": {
    "hidden": true
   },
   "source": [
    "**Pregunta:** Puedes explicar por que cada fila del dataset tiene cuatro valores?"
   ]
  },
  {
   "cell_type": "code",
   "execution_count": null,
   "metadata": {
    "hidden": true
   },
   "outputs": [],
   "source": [
    "# imprime los numeros enteros que representan las distintas especies de cada observacion\n",
    "print(iris.target)"
   ]
  },
  {
   "cell_type": "markdown",
   "metadata": {
    "hidden": true
   },
   "source": [
    "**Pregunta:** Cuantas especies distintas posee el dataset iris?"
   ]
  },
  {
   "cell_type": "code",
   "execution_count": null,
   "metadata": {
    "hidden": true
   },
   "outputs": [],
   "source": [
    "# imprime el esquema de especies: 0 = setosa, 1 = versicolor, 2 = virginica\n",
    "print(iris.target_names)"
   ]
  },
  {
   "cell_type": "markdown",
   "metadata": {},
   "source": [
    "## Graficando el dataset con matplotlib"
   ]
  },
  {
   "cell_type": "markdown",
   "metadata": {},
   "source": [
    "Ahora usemos la libreria [Matplotlib](https://matplotlib.org/users/index.html) para graficar el conjunto de datos Iris. Esto es parte del analisis exploratorio de datos que todo analista debe realizar. Mientras mejor conozcas los datos, mejores resultados obtendras."
   ]
  },
  {
   "cell_type": "code",
   "execution_count": null,
   "metadata": {},
   "outputs": [],
   "source": [
    "# primero importamos la libreria para poder usarla\n",
    "import matplotlib.pyplot as plt\n",
    "\n",
    "# los datos tienen cuatro dimensiones (caracteristicas) asi que no podemos graficar\n",
    "# todos los datos. Seleccionamos dos (al azar) para ver como nos va.\n",
    "x_index = 0\n",
    "y_index = 1\n",
    "\n",
    "# este objeto etiquetara la barra de color con los nombres correctos de las clases\n",
    "formatter = plt.FuncFormatter(lambda i, *args: iris.target_names[int(i)])\n",
    "\n",
    "# utilizamos \n",
    "plt.scatter(iris.data[:, x_index], iris.data[:, y_index],\n",
    "            c=iris.target, cmap=plt.cm.get_cmap('RdYlBu', 3))\n",
    "plt.colorbar(ticks=[0, 1, 2], format=formatter)\n",
    "plt.clim(-0.5, 2.5)\n",
    "plt.xlabel(iris.feature_names[x_index])\n",
    "plt.ylabel(iris.feature_names[y_index]);"
   ]
  },
  {
   "cell_type": "markdown",
   "metadata": {
    "hidden": true
   },
   "source": [
    "**Ejercicio:** Cambia los valores de `x_index` y `y_index` en la celda de arriba y encuentra una combinacion de dos parametros que maximizan la separacion de las tres clases. Si lo encuentras, estarias haciendo **reduccion de dimensiones**, aunque de forma manual. `Scikit-learn` ofrece tambien algoritmos para realizar esta tarea."
   ]
  },
  {
   "cell_type": "code",
   "execution_count": null,
   "metadata": {},
   "outputs": [],
   "source": [
    "x_index = 2\n",
    "y_index = 3\n",
    "\n",
    "# este objeto etiquetara la barra de color con los nombres correctos de las clases\n",
    "formatter = plt.FuncFormatter(lambda i, *args: iris.target_names[int(i)])\n",
    "\n",
    "# utilizamos \n",
    "plt.scatter(iris.data[:, x_index], iris.data[:, y_index],\n",
    "            c=iris.target, cmap=plt.cm.get_cmap('RdYlBu', 3))\n",
    "plt.colorbar(ticks=[0, 1, 2], format=formatter)\n",
    "plt.clim(-0.5, 2.5)\n",
    "plt.xlabel(iris.feature_names[x_index])\n",
    "plt.ylabel(iris.feature_names[y_index]);"
   ]
  },
  {
   "cell_type": "markdown",
   "metadata": {},
   "source": [
    "## Resumen del dataset iris\n",
    "\n",
    "- 150 **observaciones**\n",
    "- 4 **caracteristicas** (longitud del sépalo, ancho del sépalo, longitud del pétalo, ancho del pétalo)\n",
    "- Variable de **respuesta** es la especie iris\n",
    "- Es un problema de **clasificacion** ya que la respuesta es categorica\n",
    "- Para mayor informacion sobre el dataset, consultar [UCI Machine Learning Repository](http://archive.ics.uci.edu/ml/datasets/Iris) o [Wikipedia - Conjunto de datos flor iris](https://es.wikipedia.org/wiki/Conjunto_de_datos_flor_iris)"
   ]
  },
  {
   "cell_type": "markdown",
   "metadata": {
    "heading_collapsed": true
   },
   "source": [
    "# 2. Terminologia de Machine learning\n",
    "\n",
    "- Cada fila es una **observacion** (tambien conocida como: muestra, ejemplo, caso o registro)\n",
    "- Cada columna es una **caracteristica** (tambien conocido como: predictor, atributo, variable independiente, regresor, o covariable)\n",
    "- Cada valor que predecimos es la **respuesta** (tambien conocida como objetivo, etiqueta, o variable dependiente)\n",
    "- **Clasificacion** es aprendizaje supervisado en donde la respuesta es categorica\n",
    "- **Regresion** es aprendizaje supervisado en donde la respuesta es continua"
   ]
  },
  {
   "cell_type": "markdown",
   "metadata": {
    "heading_collapsed": true
   },
   "source": [
    "# 3. Clasificacion con Algoritmo K-nearest neighbors (KNN)"
   ]
  },
  {
   "cell_type": "markdown",
   "metadata": {
    "hidden": true
   },
   "source": [
    "Funcionamiento básico del algoritmo:\n",
    "1. Selecciona un valor para K. Este valor es provisto antes de que se ejecute el algoritmo.\n",
    "2. Realiza una búsqueda de las K observaciones más \"cercanas\" a las mediciones de la flor iris por identificar, en el conjunto de datos de entrenamiento.\n",
    "3. Usa el valor de la respuesta más común entre los K vecinos más cercanos como el valor de respuesta (predicción) para la flor iris por identificar."
   ]
  },
  {
   "cell_type": "markdown",
   "metadata": {
    "hidden": true
   },
   "source": [
    "### Ejemplo del Conjunto de Datos de Entrenamiento\n",
    "Esta es una grafica de todos los datos, presentados en un eje de dos dimensiones.\n",
    "\n",
    "![Training data](../img/knn_dataset.png)"
   ]
  },
  {
   "cell_type": "markdown",
   "metadata": {
    "hidden": true
   },
   "source": [
    "### Mapa de Clasificación KNN (K=1)\n",
    "Si seleccionas un valor de `K=1`, asi quedarian clasificados cada una de las muestras. En los casos en que la clasificacion no fue correcta, veras nodos de un color sobre areas de otros colores. Por ejemplo, hay dos nodos verde encima del zona roja, en la esquina superior izquierda de la grafica.\n",
    "![1NN classification map](../img/1nn_mapa.png)"
   ]
  },
  {
   "cell_type": "markdown",
   "metadata": {
    "hidden": true
   },
   "source": [
    "### Mapa de Clasificación KNN (K=5)\n",
    "Al cambiar el valor a `K=5`, el algoritmo puede utilizar mas muestras de referencia para determinar la clase de cada uno de las muestras evaluadas. Comparando con le grafica cuando `K=1`, es mejor o no el resultado? \n",
    "![5NN classification map](../img/5nn_mapa.png)"
   ]
  },
  {
   "cell_type": "markdown",
   "metadata": {
    "hidden": true
   },
   "source": [
    "*Créditos de Imágenes: [Data3classes](http://commons.wikimedia.org/wiki/File:Data3classes.png#/media/File:Data3classes.png), [Map1NN](http://commons.wikimedia.org/wiki/File:Map1NN.png#/media/File:Map1NN.png), [Map5NN](http://commons.wikimedia.org/wiki/File:Map5NN.png#/media/File:Map5NN.png) by Agor153. Licensed under CC BY-SA 3.0*"
   ]
  },
  {
   "cell_type": "markdown",
   "metadata": {
    "heading_collapsed": true,
    "hidden": true
   },
   "source": [
    "## Cargando el conjunto de datos"
   ]
  },
  {
   "cell_type": "code",
   "execution_count": null,
   "metadata": {
    "hidden": true
   },
   "outputs": [],
   "source": [
    "# importa la funcion load_iris del modulo datasets\n",
    "from sklearn.datasets import load_iris\n",
    "\n",
    "# guarda el objeto tipo \"bunch\", que contiene el dataset iris y sus atributos\n",
    "iris = load_iris()\n",
    "\n",
    "# almacena la matriz de caracteristicas en \"X\"\n",
    "X = iris.data\n",
    "\n",
    "# almacena el vector de respuesta en \"y\"\n",
    "y = iris.target"
   ]
  },
  {
   "cell_type": "code",
   "execution_count": null,
   "metadata": {
    "hidden": true
   },
   "outputs": [],
   "source": [
    "# imprime las dimensiones de \"X\" y \"y\"\n",
    "print(X.shape)\n",
    "print(y.shape)"
   ]
  },
  {
   "cell_type": "markdown",
   "metadata": {
    "heading_collapsed": true,
    "hidden": true
   },
   "source": [
    "## Proceso de 4-etapas para crear el modelo en scikit-learn\n"
   ]
  },
  {
   "cell_type": "markdown",
   "metadata": {
    "hidden": true
   },
   "source": [
    "**Paso 1:** Importa la clase del algoritmo que planeas utilizar"
   ]
  },
  {
   "cell_type": "code",
   "execution_count": null,
   "metadata": {
    "hidden": true
   },
   "outputs": [],
   "source": [
    "from sklearn.neighbors import KNeighborsClassifier"
   ]
  },
  {
   "cell_type": "markdown",
   "metadata": {
    "hidden": true
   },
   "source": [
    "**Paso 2:** \"Instancia\" o crea el \"estimador\"\n",
    "\n",
    "- \"Estimador\" es el termino de scikit-learn para modelo\n",
    "- \"Instanciar\" significa \"crear una instancia (objeto) de\""
   ]
  },
  {
   "cell_type": "code",
   "execution_count": null,
   "metadata": {
    "hidden": true
   },
   "outputs": [],
   "source": [
    "knn = KNeighborsClassifier(n_neighbors=1)"
   ]
  },
  {
   "cell_type": "markdown",
   "metadata": {
    "hidden": true
   },
   "source": [
    "- El nombre del objeto no importa, puedes seleccionar el que desees\n",
    "- Puedes especificar tambien los parametros de entrenamiento (tambien conocidos como \"hiperparametros\") durante la creacion de la instancia/objeto\n",
    "- Cualquier parametro que no sea especifico utilizara un valor por defecto"
   ]
  },
  {
   "cell_type": "code",
   "execution_count": null,
   "metadata": {
    "hidden": true
   },
   "outputs": [],
   "source": [
    "print(knn)"
   ]
  },
  {
   "cell_type": "markdown",
   "metadata": {
    "hidden": true
   },
   "source": [
    "**Paso 3:** Ajustar (fit) el modelo a los datos (conocido como el \"entrenamiento del modelo\")\n",
    "\n",
    "- El modelo aprende la relacion entre \"X\" y \"y\"\n",
    "- Ocurre \"in-place\" (el modelo se actualiza con los resultados del entrenamiento)"
   ]
  },
  {
   "cell_type": "code",
   "execution_count": null,
   "metadata": {
    "hidden": true
   },
   "outputs": [],
   "source": [
    "knn.fit(X, y)"
   ]
  },
  {
   "cell_type": "markdown",
   "metadata": {
    "hidden": true
   },
   "source": [
    "**Paso 4:** Predecir la respuesta para una nueva muestra\n",
    "\n",
    "- Las nuevas muestras son aquellos datos no utilizados durante el entrenamiento\n",
    "- Utiliza la informacion aprendida durante el proceso de entrenamiento del modelo"
   ]
  },
  {
   "cell_type": "code",
   "execution_count": null,
   "metadata": {
    "hidden": true
   },
   "outputs": [],
   "source": [
    "# Que tipo de iris tiene un sepalo de 3cm x 5cm y un petalo de 4cm x 2cm?\n",
    "# necesitamos utilizar el metodo 'predict()'\n",
    "resultado_1 = knn.predict([[3, 5, 4, 2]])\n",
    "resultado_1"
   ]
  },
  {
   "cell_type": "code",
   "execution_count": null,
   "metadata": {
    "hidden": true
   },
   "outputs": [],
   "source": [
    "# La respuesta retorna un arreglo de tipo \"NumPy\" que contiene la posicion de la clase elegida. Si quieres ver que \n",
    "# clase es debes pasar este resultado a la lista de clases.\n",
    "print(iris.target_names[resultado_1])"
   ]
  },
  {
   "cell_type": "code",
   "execution_count": null,
   "metadata": {
    "hidden": true
   },
   "outputs": [],
   "source": [
    "# El modelo tambien puede predecir multiples muestras a la vez\n",
    "X_new = [[1, 5, 1, 4], [5, 4, 3, 2]]\n",
    "resultado_2 = knn.predict(X_new)\n",
    "print(iris.target_names[resultado_2])"
   ]
  },
  {
   "cell_type": "code",
   "execution_count": null,
   "metadata": {},
   "outputs": [],
   "source": [
    "# Tambien puedes predicciones probabilisticas, usando el metodo 'predict_proba()'. El modelo te retorna\n",
    "# entonces una probabilidad y no la decision.\n",
    "knn.predict_proba([[3, 5, 4, 2],])"
   ]
  },
  {
   "cell_type": "markdown",
   "metadata": {},
   "source": [
    "**Pregunta:** Como interpretas el resultado de arriba?"
   ]
  },
  {
   "cell_type": "markdown",
   "metadata": {},
   "source": [
    "Presenta las probabilidades de la muestra, para cada una de las clases."
   ]
  },
  {
   "cell_type": "markdown",
   "metadata": {
    "heading_collapsed": true,
    "hidden": true
   },
   "source": [
    "## Usando un valor diferente para K"
   ]
  },
  {
   "cell_type": "code",
   "execution_count": null,
   "metadata": {
    "hidden": true
   },
   "outputs": [],
   "source": [
    "# Crea el modelo o estimador (usando el valor K=5)\n",
    "knn = KNeighborsClassifier(n_neighbors=5)\n",
    "\n",
    "# entrena el modelo con el dataset\n",
    "knn.fit(X, y)\n",
    "\n",
    "# predice la clase para las nuevas observaciones\n",
    "knn.predict(X_new)"
   ]
  },
  {
   "cell_type": "code",
   "execution_count": null,
   "metadata": {},
   "outputs": [],
   "source": [
    "# Que tipo de iris son:\n",
    "# - flor con sepalo de 3cm x 5cm y un petalo de 4cm x 2cm?\n",
    "# - flor con sepalo de 1cm x 5cm y un petalo de 1cm x 4cm?\n",
    "# - flor con sepalo de 5cm x 4cm y un petalo de 3cm x 2cm?\n",
    "# necesitamos utilizar el metodo 'predict()'\n",
    "resultado_3 = knn.predict([[3, 5, 4, 2], [1, 5, 1, 4], [5, 4, 3, 2]])\n",
    "print(iris.target_names[resultado_3])"
   ]
  },
  {
   "cell_type": "markdown",
   "metadata": {},
   "source": [
    "**Pregunta:** Cambian las respuestas entre los modelos cuando `K=1` y `K=5`?"
   ]
  },
  {
   "cell_type": "markdown",
   "metadata": {},
   "source": [
    "Si cambian (para la primera muestra)"
   ]
  },
  {
   "cell_type": "markdown",
   "metadata": {},
   "source": [
    "## Modelo KNN con K=3 y usando nuevo dataset de evaluacion\n",
    "Vamos a entrenar un modelo con `K=3`, utilizando solo dos de las cuatro caracteristicas del dataset original. Esto lo hacemos para facilitar el grafico que queremos crear al final.\n",
    "Adicionalmente, creamos un dataset de evaluacion de 100 muestras, utilizando la libreria `numpy`. Este dataset no es real (tomando medidas de flores), pero si basado en el dataset original (que si es real)."
   ]
  },
  {
   "cell_type": "code",
   "execution_count": null,
   "metadata": {},
   "outputs": [],
   "source": [
    "# Entrenamiento del modelo KNN con K=3\n",
    "X2 = iris.data[:, :2]  # solo tomamos las dos primeras columnas del dataset\n",
    "y = iris.target\n",
    "knn_3 = KNeighborsClassifier(n_neighbors=3)\n",
    "knn_3.fit(X2, y)"
   ]
  },
  {
   "cell_type": "code",
   "execution_count": null,
   "metadata": {},
   "outputs": [],
   "source": [
    "# Generacion del dataset de 100 muestras para evaluar el modelo entrenado\n",
    "import numpy as np\n",
    "\n",
    "# determinamos el rango de valores (tanto en el eje X como en el eje Y)\n",
    "# de donde se puede crear las nuevas muestras\n",
    "x_min, x_max = X2[:, 0].min() - .1, X2[:, 0].max() + .1\n",
    "y_min, y_max = X2[:, 1].min() - .1, X2[:, 1].max() + .1\n",
    "\n",
    "# creamos el dataset de evaluacion con 100 muestras\n",
    "xx, yy = np.meshgrid(np.linspace(x_min, x_max, 100),\n",
    "                     np.linspace(y_min, y_max, 100))\n",
    "\n",
    "# calculamos las predicciones para las 100 muestras de evaluacion\n",
    "Z = knn_3.predict(np.c_[xx.ravel(), yy.ravel()])"
   ]
  },
  {
   "cell_type": "code",
   "execution_count": null,
   "metadata": {},
   "outputs": [],
   "source": [
    "# importamos dos clases dentro de la libreria matplotlib\n",
    "from matplotlib.colors import ListedColormap\n",
    "import matplotlib.pyplot as plt\n",
    "\n",
    "# Creamos mapas de colores para un problema de clasificacion\n",
    "# de tres clases, como es el dataset iris\n",
    "# los colores elegidos, estan definidos en formato hexadecimal\n",
    "cmap_light = ListedColormap(['#FFAAAA', '#AAFFAA', '#AAAAFF'])\n",
    "cmap_bold = ListedColormap(['#FF0000', '#00FF00', '#0000FF'])\n",
    "\n",
    "# Colocamos el resultado en una grafica (fondo de la grafica)\n",
    "Z = Z.reshape(xx.shape)\n",
    "plt.figure(figsize=(12,6))\n",
    "plt.pcolormesh(xx, yy, Z, cmap=cmap_light)\n",
    "\n",
    "# Graficamos tambien las muestras de entrenamiento\n",
    "plt.scatter(X[:, 0], X[:, 1], c=y, cmap=cmap_bold)\n",
    "plt.xlabel('sepal length (cm)')\n",
    "plt.ylabel('sepal width (cm)')\n",
    "plt.axis('tight')"
   ]
  },
  {
   "cell_type": "markdown",
   "metadata": {
    "heading_collapsed": true,
    "hidden": true
   },
   "source": [
    "## Ajuste de Parametro: Como encontrar un valor apropiado de K\n",
    "\n",
    "Cuando usas el algoritmo KNN, encontrar un valor apropiado de `K` no es facil. Si utilizas un valor muy pequeño de `k`, significa que el ruido en los datos tendra una mayor influencia sobre los resultados. Si usas un valor muy grande, el algoritmo tomara mas tiempo en ejecutarse (computacionalmente costoso).\n",
    "\n",
    "Usualmente los cientificos de datos siguen dos recomendaciones:\n",
    "- el valor de `K` debe ser impar para evitar empates\n",
    "- seleccionar $K=\\sqrt{n}$ donde `n` es el numero de muestras de entrenamiento\n",
    "\n",
    "Una tecnica mas estructurada es probar K para multiples valores y calcular el rendimiento de clasificacion para cada uno de los modelos entrenados. Debido a que esto puede ser un calculo intenso, dependiendo del tamaño del dataset, se recomienda usualmente utilizar un subconjunto de los datos."
   ]
  },
  {
   "cell_type": "code",
   "execution_count": null,
   "metadata": {
    "hidden": true
   },
   "outputs": [],
   "source": [
    "# importamos las librerias necesarias\n",
    "import matplotlib.pyplot as plt\n",
    "%matplotlib inline\n",
    "from sklearn import metrics"
   ]
  },
  {
   "cell_type": "code",
   "execution_count": null,
   "metadata": {
    "hidden": true
   },
   "outputs": [],
   "source": [
    "# experimentando con valores entre 1 y 25 para K\n",
    "k_range = list(range(1,26))\n",
    "scores = []\n",
    "for k in k_range:\n",
    "    knn = KNeighborsClassifier(n_neighbors=k)\n",
    "    knn.fit(X, y)\n",
    "    y_pred = knn.predict(X)\n",
    "    # calculamos la exactitud (accuracy) de cada modelo\n",
    "    scores.append(metrics.accuracy_score(y, y_pred))\n",
    "\n",
    "# graficamos los resultados\n",
    "plt.plot(k_range, scores)\n",
    "plt.xlabel('Valor de k')\n",
    "plt.ylabel('Exactitud en la Respuesta')\n",
    "plt.title('Precision alcanzada para distintos valores de K en K-Nearest-Neighbors')\n",
    "plt.show()"
   ]
  },
  {
   "cell_type": "markdown",
   "metadata": {
    "hidden": true
   },
   "source": [
    "**Pregunta:** Cual es (o son) los valores de K que debemos seleccionar segun la grafica?"
   ]
  },
  {
   "cell_type": "markdown",
   "metadata": {},
   "source": [
    "Para K=15, la exactitud es mayor."
   ]
  },
  {
   "cell_type": "markdown",
   "metadata": {
    "hidden": true
   },
   "source": [
    "**Pregunta:** Debemos escoger el valor de K = 1? Que dice la grafica? Estas de acuerdo? Por que si o no?"
   ]
  },
  {
   "cell_type": "markdown",
   "metadata": {},
   "source": [
    "La grafica dice que si pero es porque todos los valores pertenecen a una misma clase. Debido a esto, no se debe escoger el valor K=1."
   ]
  },
  {
   "cell_type": "markdown",
   "metadata": {
    "hidden": true
   },
   "source": [
    "**Pregunta:** Que valor de K escogerias finalmente, segun la grafica?"
   ]
  },
  {
   "cell_type": "markdown",
   "metadata": {},
   "source": [
    "El K real es 3 ya que son tres clases en el dataset iris. Sin embargo, la gráfica muestra que un valor de K entre 8 y 24 puede resultado, produce mejores resultados."
   ]
  },
  {
   "cell_type": "markdown",
   "metadata": {
    "heading_collapsed": true
   },
   "source": [
    "# 4. Clasificacion con Algoritmo de Arbol de Decisión"
   ]
  },
  {
   "cell_type": "code",
   "execution_count": null,
   "metadata": {
    "hidden": true
   },
   "outputs": [],
   "source": [
    "import pandas as pd\n",
    "from sklearn.model_selection import train_test_split"
   ]
  },
  {
   "cell_type": "code",
   "execution_count": null,
   "metadata": {},
   "outputs": [],
   "source": [
    "# copiando (de nuevo) los datos\n",
    "x = iris.data\n",
    "y = iris.target\n",
    "\n",
    "# creando un dataframe donde guardaremos los datos de entrenamiento\n",
    "d = [{\"sepal_length\":row[0], \n",
    "      \"sepal_width\":row[1], \n",
    "      \"petal_length\":row[2], \n",
    "      \"petal_width\":row[3]} for row in x]\n",
    "df = pd.DataFrame(d)\n",
    "\n",
    "# asignar las clases al dataframe\n",
    "df[\"types\"] = y \n",
    "# cambiar aleatoriamente el orden de las filas\n",
    "df = df.sample(frac=1.0)\n",
    "# mostrar las primeras cinco filas del dataframe, para confirmar\n",
    "# que todo esta en orden\n",
    "df.head()"
   ]
  },
  {
   "cell_type": "markdown",
   "metadata": {},
   "source": [
    "Usamos la libreria [Seaborn](https://seaborn.pydata.org/), que esta basada en `matplotlib`, para usar un poderoso metodo que permite facilmente graficar las relaciones entre los pares de caracteristicas de los datos."
   ]
  },
  {
   "cell_type": "code",
   "execution_count": null,
   "metadata": {},
   "outputs": [],
   "source": [
    "import seaborn as sns\n",
    "import warnings\n",
    "warnings.filterwarnings('ignore')\n",
    "\n",
    "%matplotlib inline\n",
    "sns.set(font_scale=1.5)\n",
    "sns.pairplot(df,hue=\"types\",size=3);\n",
    "plt.show()"
   ]
  },
  {
   "cell_type": "markdown",
   "metadata": {
    "hidden": true
   },
   "source": [
    "**Pregunta:** Que caracteristicas parecen dividir mejor los datos? Que caracteristicas no parecen funcionar muy bien? Que clases son mas dificiles de distinguir entre ellas?"
   ]
  },
  {
   "cell_type": "markdown",
   "metadata": {},
   "source": [
    "`petal_length` y `petal_width` permiten separar claramente la clase `0` (azul). `sepal_width` y `sepal_length` no parecen ofrecer mucha informacion para detectar correctamente las clases. Las clases mas dificiles de separar son la `1` (naranja) y `2` (verde)."
   ]
  },
  {
   "cell_type": "markdown",
   "metadata": {
    "hidden": true
   },
   "source": [
    "# 5. Dividir el conjunto de datos en entrenamiento y evaluacion\n",
    "Es importante no entrenar sobre todos los datos, ya que esto puede crear modelos con sobreajustes (overfit). Para evitarlo, los datos pueden dividirse en dos grupos: datos de entrenamiento y datos de evaluacion. Estos ultimos no son utilizados para entrenar el modelo. En su lugar, son solo utilizados para determinar cuan bien el modelo entrenado hace las predicciones."
   ]
  },
  {
   "cell_type": "code",
   "execution_count": null,
   "metadata": {
    "hidden": true
   },
   "outputs": [],
   "source": [
    "# dividir conjunto de datos en dos grupos: entrenamiento (train) y evaluacion (test),\n",
    "# escogiendo 80% (ratio = 0.8) para entrenamiento y el resto para evaluacion\n",
    "features = df[[\"sepal_length\",\"sepal_width\",\"petal_length\",\"petal_width\"]]\n",
    "types = df[\"types\"]\n",
    "train_features, test_features, train_types, test_types = train_test_split(features,types,train_size=0.8, \n",
    "                                                                          random_state=1)"
   ]
  },
  {
   "cell_type": "code",
   "execution_count": null,
   "metadata": {},
   "outputs": [],
   "source": [
    "# entrenamiento del arbol de decision con el 80% de los datos\n",
    "from sklearn import tree\n",
    "clf = tree.DecisionTreeClassifier()\n",
    "clf = clf.fit(train_features, train_types)"
   ]
  },
  {
   "cell_type": "code",
   "execution_count": null,
   "metadata": {},
   "outputs": [],
   "source": [
    "# prediccion sobre el 20% de los datos (evaluacion)\n",
    "predicciones = clf.predict(test_features)"
   ]
  },
  {
   "cell_type": "code",
   "execution_count": null,
   "metadata": {},
   "outputs": [],
   "source": [
    "# evaluacion de la clasificacion (multi-clase) del modelo\n",
    "from sklearn.metrics import classification_report\n",
    "print(classification_report(test_types, predicciones, target_names=[\"type0\",\"type1\",\"type2\"]))"
   ]
  },
  {
   "cell_type": "markdown",
   "metadata": {},
   "source": [
    "## Comparando la tecnica de validacion cruzada con la division de entrenamiento/evaluacion\n",
    "\n",
    "Ventajas de la division de **entrenamiento/evaluacion:**\n",
    "- Corre K veces mas rapido que una validacion cruzada K-fold\n",
    "- Mas sencillo de examinar los resultados obtenidos del proceso de evaluacion\n",
    "\n",
    "Ventajas de **validacion cruzada:**\n",
    "- Una estimacion mas precisa de la exactitud (accuracy) del modelo\n",
    "- Uso mas 'eficiente' de los datos (cada observacion es usada tanto para entrenamiento como evaluacion)\n",
    "\n",
    "## Recomendaciones de Validacion Cruzada\n",
    "\n",
    "1. En problemas de clasificacion, se recomienda utilizar el **muestreo estratificado** para crear los `folds`\n",
    "   - Cada clase debe ser representada en proporciones similares en cada uno de los `K` folds\n",
    "   - La funcion `cross_val_score` realiza esta operacion por defecto\n",
    "\n",
    "## Ajuste de Parametro: Como encontrar un valor apropiado de K (usando validacion cruzada)\n",
    "\n",
    "**Meta:** Volvemos a utilizar KNN en el dataset iris para seleccionar los hyper-parametros, usando la tecnica de validacion cruzada."
   ]
  },
  {
   "cell_type": "code",
   "execution_count": null,
   "metadata": {},
   "outputs": [],
   "source": [
    "from sklearn.model_selection import cross_val_score\n",
    "\n",
    "# validacion cruzada 10-fold con K=5 para KNN (parametro `n_neighbors`)\n",
    "knn = KNeighborsClassifier(n_neighbors=5)\n",
    "scores = cross_val_score(knn, X, y, cv=10, scoring='accuracy')\n",
    "print(scores)"
   ]
  },
  {
   "cell_type": "code",
   "execution_count": null,
   "metadata": {},
   "outputs": [],
   "source": [
    "# usa el valor promedio de la exactitud (accuracy) como un estimado del rendimiento `out-of-sample`\n",
    "print(scores.mean())"
   ]
  },
  {
   "cell_type": "code",
   "execution_count": null,
   "metadata": {},
   "outputs": [],
   "source": [
    "# busca el valor optimo de K para KNN\n",
    "k_range = list(range(1, 31))\n",
    "k_scores = []\n",
    "for k in k_range:\n",
    "    knn = KNeighborsClassifier(n_neighbors=k)\n",
    "    scores = cross_val_score(knn, X, y, cv=10, scoring='accuracy')\n",
    "    k_scores.append(scores.mean())\n",
    "print(k_scores)"
   ]
  },
  {
   "cell_type": "code",
   "execution_count": null,
   "metadata": {},
   "outputs": [],
   "source": [
    "import matplotlib.pyplot as plt\n",
    "%matplotlib inline\n",
    "\n",
    "# grafica el valor de K para KNN (eje x) contra la exactitud validada (eje y)\n",
    "plt.plot(k_range, k_scores)\n",
    "plt.xlabel('Valor de K para KNN')\n",
    "plt.ylabel('Exactitud por Validacion Cruzada')"
   ]
  },
  {
   "cell_type": "code",
   "execution_count": null,
   "metadata": {},
   "outputs": [],
   "source": []
  },
  {
   "cell_type": "markdown",
   "metadata": {
    "heading_collapsed": true
   },
   "source": [
    "# Recursos\n",
    "\n",
    "- Kaggle. [Using Scikit-learn to Implement a Simple Decision Tree Classifier](https://www.kaggle.com/chrised209/decision-tree-modeling-of-the-iris-dataset)\n",
    "- [Nearest Neighbors](http://scikit-learn.org/stable/modules/neighbors.html) (user guide), [KNeighborsClassifier](http://scikit-learn.org/stable/modules/generated/sklearn.neighbors.KNeighborsClassifier.html) (class documentation)\n",
    "- [Videos de Una Introduccion a Aprendizaje Estadistico](http://www.dataschool.io/15-hours-of-expert-machine-learning-videos/)"
   ]
  }
 ],
 "metadata": {
  "kernelspec": {
   "display_name": "Python 3",
   "language": "python",
   "name": "python3"
  },
  "language_info": {
   "codemirror_mode": {
    "name": "ipython",
    "version": 3
   },
   "file_extension": ".py",
   "mimetype": "text/x-python",
   "name": "python",
   "nbconvert_exporter": "python",
   "pygments_lexer": "ipython3",
   "version": "3.8.3"
  },
  "latex_envs": {
   "LaTeX_envs_menu_present": true,
   "autoclose": false,
   "autocomplete": true,
   "bibliofile": "biblio.bib",
   "cite_by": "apalike",
   "current_citInitial": 1,
   "eqLabelWithNumbers": true,
   "eqNumInitial": 1,
   "hotkeys": {
    "equation": "Ctrl-E",
    "itemize": "Ctrl-I"
   },
   "labels_anchors": false,
   "latex_user_defs": false,
   "report_style_numbering": false,
   "user_envs_cfg": false
  }
 },
 "nbformat": 4,
 "nbformat_minor": 1
}
