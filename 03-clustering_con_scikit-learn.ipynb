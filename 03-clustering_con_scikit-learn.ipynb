{
  "nbformat": 4,
  "nbformat_minor": 0,
  "metadata": {
    "colab": {
      "name": "04-clustering_con_scikit-learn.ipynb",
      "provenance": [],
      "collapsed_sections": [],
      "toc_visible": true
    },
    "kernelspec": {
      "display_name": "Python 3",
      "language": "python",
      "name": "python3"
    },
    "language_info": {
      "codemirror_mode": {
        "name": "ipython",
        "version": 3
      },
      "file_extension": ".py",
      "mimetype": "text/x-python",
      "name": "python",
      "nbconvert_exporter": "python",
      "pygments_lexer": "ipython3",
      "version": "3.8.3"
    }
  },
  "cells": [
    {
      "cell_type": "markdown",
      "metadata": {
        "id": "05AJItMOyt-U"
      },
      "source": [
        "# **Informe mundial sobre la Felicidad**"
      ]
    },
    {
      "cell_type": "markdown",
      "metadata": {
        "id": "BTfjOj5rPnA7"
      },
      "source": [
        "# 1. La felicidad puntuada según la producción económica, el apoyo social, y otros factores\n",
        "\n",
        "El Informe Mundial sobre la Felicidad es una encuesta histórica sobre el estado de la felicidad mundial. El primer informe se publicó en 2012, el segundo en 2013, el tercero en 2015 y el cuarto en la Actualización de 2016. El World Happiness 2017, que **clasifica a 155 países** por sus niveles de felicidad, fue lanzado en las Naciones Unidas en un evento que celebra el Día Internacional de la Felicidad el 20 de marzo. \n",
        "\n",
        "El informe continúa ganando reconocimiento mundial a medida que los gobiernos, las organizaciones y la sociedad civil utilizan cada vez más los indicadores de felicidad para informar sus decisiones de formulación de políticas. Los principales expertos en todos los campos (economía, psicología, análisis de encuestas, estadísticas nacionales, salud, políticas públicas y más) describen cómo las mediciones del bienestar se pueden utilizar de manera efectiva para evaluar el progreso de las naciones. Los informes revisan el estado de la felicidad en el mundo actual y muestran cómo la nueva ciencia de la felicidad explica las variaciones personales y nacionales de la felicidad."
      ]
    },
    {
      "cell_type": "code",
      "metadata": {
        "id": "80CDEqHVWhFr",
        "outputId": "0740f661-ee33-4e8e-f0e2-a0872d3d92b5",
        "colab": {
          "base_uri": "https://localhost:8080/",
          "height": 717
        }
      },
      "source": [
        "# instalacion de la libreria para convertir valores relacionados a paises\n",
        "!pip install pycountry-convert\n",
        "#dataset = https://www.kaggle.com/unsdsn/world-happiness"
      ],
      "execution_count": null,
      "outputs": [
        {
          "output_type": "stream",
          "text": [
            "Collecting pycountry-convert\n",
            "  Downloading https://files.pythonhosted.org/packages/9b/e7/26c14899a43c34e04a58e3772007afe79dbd64fac15d2fbaeedff24082f2/pycountry_convert-0.7.2-py3-none-any.whl\n",
            "Collecting pytest-cov>=2.5.1\n",
            "  Downloading https://files.pythonhosted.org/packages/e5/18/401594af67eda194a8b9167208621761927c937db7d60292608342bbac0a/pytest_cov-2.10.1-py2.py3-none-any.whl\n",
            "Collecting repoze.lru>=0.7\n",
            "  Downloading https://files.pythonhosted.org/packages/b0/30/6cc0c95f0b59ad4b3b9163bff7cdcf793cc96fac64cf398ff26271f5cf5e/repoze.lru-0.7-py3-none-any.whl\n",
            "Collecting pprintpp>=0.3.0\n",
            "  Downloading https://files.pythonhosted.org/packages/4e/d1/e4ed95fdd3ef13b78630280d9e9e240aeb65cc7c544ec57106149c3942fb/pprintpp-0.4.0-py2.py3-none-any.whl\n",
            "Requirement already satisfied: pytest>=3.4.0 in /usr/local/lib/python3.6/dist-packages (from pycountry-convert) (3.6.4)\n",
            "Collecting pycountry>=16.11.27.1\n",
            "\u001b[?25l  Downloading https://files.pythonhosted.org/packages/76/73/6f1a412f14f68c273feea29a6ea9b9f1e268177d32e0e69ad6790d306312/pycountry-20.7.3.tar.gz (10.1MB)\n",
            "\u001b[K     |████████████████████████████████| 10.1MB 5.6MB/s \n",
            "\u001b[?25hRequirement already satisfied: wheel>=0.30.0 in /usr/local/lib/python3.6/dist-packages (from pycountry-convert) (0.35.1)\n",
            "Collecting pytest-mock>=1.6.3\n",
            "  Downloading https://files.pythonhosted.org/packages/02/67/3d57cb4f92afea7bf77e5b19089dfc771bd05d3cbed13e32fbf7f097b562/pytest_mock-3.3.1-py3-none-any.whl\n",
            "Collecting coverage>=4.4\n",
            "\u001b[?25l  Downloading https://files.pythonhosted.org/packages/ac/2d/0029213da98dc170935dfda96fc571351b71aad66bbe8719503ff523b1b0/coverage-5.3-cp36-cp36m-manylinux1_x86_64.whl (229kB)\n",
            "\u001b[K     |████████████████████████████████| 235kB 37.9MB/s \n",
            "\u001b[?25hRequirement already satisfied: attrs>=17.4.0 in /usr/local/lib/python3.6/dist-packages (from pytest>=3.4.0->pycountry-convert) (20.2.0)\n",
            "Requirement already satisfied: atomicwrites>=1.0 in /usr/local/lib/python3.6/dist-packages (from pytest>=3.4.0->pycountry-convert) (1.4.0)\n",
            "Requirement already satisfied: six>=1.10.0 in /usr/local/lib/python3.6/dist-packages (from pytest>=3.4.0->pycountry-convert) (1.15.0)\n",
            "Requirement already satisfied: setuptools in /usr/local/lib/python3.6/dist-packages (from pytest>=3.4.0->pycountry-convert) (50.3.0)\n",
            "Requirement already satisfied: py>=1.5.0 in /usr/local/lib/python3.6/dist-packages (from pytest>=3.4.0->pycountry-convert) (1.9.0)\n",
            "Requirement already satisfied: more-itertools>=4.0.0 in /usr/local/lib/python3.6/dist-packages (from pytest>=3.4.0->pycountry-convert) (8.5.0)\n",
            "Requirement already satisfied: pluggy<0.8,>=0.5 in /usr/local/lib/python3.6/dist-packages (from pytest>=3.4.0->pycountry-convert) (0.7.1)\n",
            "Building wheels for collected packages: pycountry\n",
            "  Building wheel for pycountry (setup.py) ... \u001b[?25l\u001b[?25hdone\n",
            "  Created wheel for pycountry: filename=pycountry-20.7.3-py2.py3-none-any.whl size=10746865 sha256=9590612638b118bf9e182951b4c78d1ed5e44f0956abc16cd40a69c9ececf412\n",
            "  Stored in directory: /root/.cache/pip/wheels/33/4e/a6/be297e6b83567e537bed9df4a93f8590ec01c1acfbcd405348\n",
            "Successfully built pycountry\n",
            "\u001b[31mERROR: datascience 0.10.6 has requirement coverage==3.7.1, but you'll have coverage 5.3 which is incompatible.\u001b[0m\n",
            "\u001b[31mERROR: datascience 0.10.6 has requirement folium==0.2.1, but you'll have folium 0.8.3 which is incompatible.\u001b[0m\n",
            "\u001b[31mERROR: coveralls 0.5 has requirement coverage<3.999,>=3.6, but you'll have coverage 5.3 which is incompatible.\u001b[0m\n",
            "\u001b[31mERROR: pytest-cov 2.10.1 has requirement pytest>=4.6, but you'll have pytest 3.6.4 which is incompatible.\u001b[0m\n",
            "\u001b[31mERROR: pytest-mock 3.3.1 has requirement pytest>=5.0, but you'll have pytest 3.6.4 which is incompatible.\u001b[0m\n",
            "Installing collected packages: coverage, pytest-cov, repoze.lru, pprintpp, pycountry, pytest-mock, pycountry-convert\n",
            "  Found existing installation: coverage 3.7.1\n",
            "    Uninstalling coverage-3.7.1:\n",
            "      Successfully uninstalled coverage-3.7.1\n",
            "Successfully installed coverage-5.3 pprintpp-0.4.0 pycountry-20.7.3 pycountry-convert-0.7.2 pytest-cov-2.10.1 pytest-mock-3.3.1 repoze.lru-0.7\n"
          ],
          "name": "stdout"
        }
      ]
    },
    {
      "cell_type": "code",
      "metadata": {
        "id": "JVeUT6vjWy3B"
      },
      "source": [
        "import pandas as pd\n",
        "import numpy as np\n",
        "import matplotlib.pyplot as plt\n",
        "import matplotlib.gridspec as gridspec\n",
        "import pycountry_convert as pc\n",
        "import seaborn as sns\n",
        "\n",
        "import warnings\n",
        "warnings.filterwarnings(\"ignore\")"
      ],
      "execution_count": null,
      "outputs": []
    },
    {
      "cell_type": "code",
      "metadata": {
        "id": "ApnXtX0nycql"
      },
      "source": [
        "archivo_2015 = 'https://raw.githubusercontent.com/gmhoward/amalia20-taller_ml/master/datos/paises-metricos-2015.csv'\n",
        "archivo_2016 = 'https://raw.githubusercontent.com/gmhoward/amalia20-taller_ml/master/datos/paises-metricos-2016.csv'\n",
        "archivo_2017 = 'https://raw.githubusercontent.com/gmhoward/amalia20-taller_ml/master/datos/paises-metricos-2017.csv'\n",
        "archivo_2018 = 'https://raw.githubusercontent.com/gmhoward/amalia20-taller_ml/master/datos/paises-metricos-2018.csv'\n",
        "archivo_2019 = 'https://raw.githubusercontent.com/gmhoward/amalia20-taller_ml/master/datos/paises-metricos-2019.csv'"
      ],
      "execution_count": null,
      "outputs": []
    },
    {
      "cell_type": "code",
      "metadata": {
        "id": "y7FnMewoW-E3"
      },
      "source": [
        "df = pd.read_csv(archivo_2019, names=['Ranking','Pais','Felicidad','PIB','Soporte_Social','Expectativa_vida_saludable','Libertad_Expresion','Generosidad','Percepcion_Corrupcion'], header=0)\n",
        "df.head()"
      ],
      "execution_count": null,
      "outputs": []
    },
    {
      "cell_type": "code",
      "metadata": {
        "id": "InAcS4Ed0xMR"
      },
      "source": [
        "happy = df['Felicidad']\n",
        "GDP = df['PIB']\n",
        "ss = df['Soporte_Social']\n",
        "health = df['Expectativa_vida_saludable']\n",
        "generosity = df['Generosidad']\n",
        "freedom = df['Libertad_Expresion']\n",
        "corruption = df['Percepcion_Corrupcion']\n",
        "\n",
        "\n",
        "width = 0.35\n",
        "\n",
        "fig2 = plt.figure(constrained_layout=True)\n",
        "\n",
        "spec2 = gridspec.GridSpec(ncols=3, nrows=2, figure=fig2)\n",
        "\n",
        "# Happy \n",
        "f2_ax1 = fig2.add_subplot(spec2[0, 0])\n",
        "f2_ax1.scatter(corruption, happy, width, color='red')\n",
        "f2_ax1.set_xlabel('Corrupcion')\n",
        "f2_ax1.set_ylabel('Felicidad')\n",
        "\n",
        "# GPD\n",
        "f2_ax2 = fig2.add_subplot(spec2[0, 1])\n",
        "f2_ax2.scatter(GDP,happy, width, color='blue')\n",
        "f2_ax2.set_ylabel('Felicidad')\n",
        "f2_ax2.set_xlabel('PIB')\n",
        "\n",
        "# Soporte_Social\n",
        "f2_ax3 = fig2.add_subplot(spec2[0, 2])\n",
        "f2_ax3.scatter(ss,happy, width, color='green')\n",
        "f2_ax3.set_ylabel('Felicidad')\n",
        "f2_ax3.set_xlabel('Soporte_Social')\n",
        "\n",
        "# Expectativa_vida_saludable\n",
        "f2_ax4 = fig2.add_subplot(spec2[1, 0])\n",
        "f2_ax4.scatter(health,happy, width, color='orange')\n",
        "f2_ax4.set_ylabel('Felicidad')\n",
        "f2_ax4.set_xlabel('Exp. Vida Saludable')\n",
        "\n",
        "# Libertad_Expresion\n",
        "f2_ax5 = fig2.add_subplot(spec2[1, 1])\n",
        "f2_ax5.scatter(freedom,happy, width, color='purple')\n",
        "f2_ax5.set_ylabel('Felicidad')\n",
        "f2_ax5.set_xlabel('Libertdad')\n",
        "\n",
        "# Generosidad\n",
        "f2_ax6 = fig2.add_subplot(spec2[1, 2])\n",
        "f2_ax6.scatter(generosity,happy, width, color='brown')\n",
        "f2_ax6.set_ylabel('Felicidad')\n",
        "f2_ax6.set_xlabel('Generosidad')"
      ],
      "execution_count": null,
      "outputs": []
    },
    {
      "cell_type": "markdown",
      "metadata": {
        "id": "DV91LWIuRz_0"
      },
      "source": [
        "Podemos observar que el **Felicidad**, que representa el *puntaje de felicidad de un pais*, depende claramente de 3 factores:\n",
        "- **PIB**; o el Producto Interno Bruto\n",
        "- **Soporte_Social**: acceso a amigos y otras personas, incluida la familia, a quienes acudir en momentos de necesidad o crisis para darle un enfoque más amplio y una imagen positiva de sí mismo.\n",
        "- **Expectativa_vida_saludable**; o la expectativa de vida saludable\n",
        "\n",
        "Otro factor que vemos que tiene un impacto no tan claro, pero que igual parece tener influencia sobre el puntaje de felicidad de un pais es **Libertad_Expresion**; es decir, la libertad de tomar deciciones de vida propias.\n",
        "\n",
        "Esta correlacion entre el puntaje de felicidad y la variables previamente mencionadas se puede apreciar con mayor claridad en la siguiente matriz, en la cual, mientras **más cerca de 1.0** este el puntaje, **más correlación existe entre las variables** que se cruzan."
      ]
    },
    {
      "cell_type": "code",
      "metadata": {
        "id": "9E61kY8jmX1i"
      },
      "source": [
        "data = df.iloc[:,1:]\n",
        "corrMatrix = data.corr()\n",
        "sns.heatmap(corrMatrix, cmap = 'Blues', annot = True)\n",
        "plt.show()"
      ],
      "execution_count": null,
      "outputs": []
    },
    {
      "cell_type": "markdown",
      "metadata": {
        "id": "YRtZhgh9-d89"
      },
      "source": [
        "## Gráficas de Felicidad"
      ]
    },
    {
      "cell_type": "code",
      "metadata": {
        "id": "FoEUxkXQ-d9B"
      },
      "source": [
        "df.head()"
      ],
      "execution_count": null,
      "outputs": []
    },
    {
      "cell_type": "code",
      "metadata": {
        "id": "gEZLdgjlX92Y"
      },
      "source": [
        "country_code = pc.country_name_to_country_alpha2(\"Panama\", cn_name_format=\"default\")\n",
        "continent_name = pc.convert_continent_code_to_continent_name(pc.country_alpha2_to_continent_code(country_code))\n",
        "continent_name"
      ],
      "execution_count": null,
      "outputs": []
    },
    {
      "cell_type": "code",
      "metadata": {
        "id": "Sxa8-Z7eXYjo"
      },
      "source": [
        "def get_continent(country):\n",
        "  try :\n",
        "    country_code = pc.country_name_to_country_alpha2(country, cn_name_format=\"default\")\n",
        "    continent_name = pc.convert_continent_code_to_continent_name(\n",
        "                                      pc.country_alpha2_to_continent_code(country_code)\n",
        "                                      )\n",
        "    return continent_name\n",
        "  except:\n",
        "    return None\n",
        "\n",
        "df['Continente'] = df['Pais'].apply(get_continent)"
      ],
      "execution_count": null,
      "outputs": []
    },
    {
      "cell_type": "code",
      "metadata": {
        "id": "4yKx-MC4-uWo"
      },
      "source": [
        "df = df[['Ranking', 'Pais','Continente', 'Percepcion_Corrupcion', 'PIB',\n",
        "       'Soporte_Social', 'Expectativa_vida_saludable',\n",
        "       'Libertad_Expresion', 'Generosidad','Felicidad'\n",
        "       ]]"
      ],
      "execution_count": null,
      "outputs": []
    },
    {
      "cell_type": "code",
      "metadata": {
        "id": "rmYV2UXzYVXl"
      },
      "source": [
        "df[df['Continente'].isna()]"
      ],
      "execution_count": null,
      "outputs": []
    },
    {
      "cell_type": "markdown",
      "metadata": {
        "id": "jaEvA--qYS1M"
      },
      "source": [
        "Podemos notar que algunos paises quedaron sin categoria. Dejarlos sin categoría solo tendrá un impacto significativo en el puntaje de felicidad promedio en aquellos continentes o subcontinentes conformados por pocos paises, como América del Sur y Oceanía.\n",
        "\n",
        "Uno de estos paises, **Trinidad & Tobago**, forma parte de Suramérica, que, dentro de nuestra data, solo cuenta con 10 paises. Lo más prudente será categorizarlo manualmente.\n"
      ]
    },
    {
      "cell_type": "code",
      "metadata": {
        "id": "1MlR2Rmyg38A"
      },
      "source": [
        "df.loc[38,'Pais'] = \"South America\"\n",
        "df.loc[38,'Pais']"
      ],
      "execution_count": null,
      "outputs": []
    },
    {
      "cell_type": "markdown",
      "metadata": {
        "id": "XBgx2gZxg2aj"
      },
      "source": [
        "Tambien revisemos que dentro los paises sin categorizar no se encuentren los paises con el puntaje de felicidad máximo y mínimo."
      ]
    },
    {
      "cell_type": "code",
      "metadata": {
        "id": "4m-vGaedcD_j"
      },
      "source": [
        "df['Felicidad'].describe()"
      ],
      "execution_count": null,
      "outputs": []
    },
    {
      "cell_type": "markdown",
      "metadata": {
        "id": "sDFBrq99-d9u"
      },
      "source": [
        "### Felicidad Vs PIB (Producto Interno Bruto)"
      ]
    },
    {
      "cell_type": "code",
      "metadata": {
        "id": "GC9gq3rZ-d9v"
      },
      "source": [
        "X = df.iloc[:, [4, -1]].values"
      ],
      "execution_count": null,
      "outputs": []
    },
    {
      "cell_type": "code",
      "metadata": {
        "id": "C0lVMUYz-d9y"
      },
      "source": [
        "from sklearn.cluster import KMeans\n",
        "wcss = []\n",
        "\n",
        "for i in range(1, 11):\n",
        "    kmeans = KMeans(n_clusters = i, init = 'k-means++', random_state = 42)\n",
        "    kmeans.fit(X)\n",
        "    wcss.append(kmeans.inertia_)\n",
        "\n",
        "plt.plot(range(1, 11), wcss)\n",
        "\n",
        "plt.title('El Metodo Codo (Elbow)')\n",
        "plt.xlabel('Número de clusters')\n",
        "plt.show()"
      ],
      "execution_count": null,
      "outputs": []
    },
    {
      "cell_type": "code",
      "metadata": {
        "id": "gkg6wsmT-d91"
      },
      "source": [
        "kmeans = KMeans(n_clusters = 3, init = 'k-means++', random_state = 42)\n",
        "y_kmeans = kmeans.fit_predict(X)"
      ],
      "execution_count": null,
      "outputs": []
    },
    {
      "cell_type": "code",
      "metadata": {
        "id": "ab2vYSse-d93"
      },
      "source": [
        "plt.figure(figsize=(5,5))\n",
        "\n",
        "plt.scatter(X[y_kmeans == 0, 0], X[y_kmeans == 0, 1], s = 100, c = 'red', label = 'Cluster 1')\n",
        "plt.scatter(X[y_kmeans == 1, 0], X[y_kmeans == 1, 1], s = 100, c = 'blue', label = 'Cluster 2')\n",
        "plt.scatter(X[y_kmeans == 2, 0], X[y_kmeans == 2, 1], s = 100, c = 'green', label = 'Cluster 3')\n",
        "# plt.scatter(X[y_kmeans == 3, 0], X[y_kmeans == 3, 1], s = 100, c = 'purple', label = 'Cluster 4')\n",
        "# plt.scatter(X[y_kmeans == 4, 0], X[y_kmeans == 4, 1], s = 100, c = 'cyan', label = 'Cluster 5')\n",
        "\n",
        "plt.scatter(kmeans.cluster_centers_[:, 0], kmeans.cluster_centers_[:, 1], s = 300, c = 'yellow', label = 'Centroids')\n",
        "\n",
        "plt.xlabel('PIB')\n",
        "plt.ylabel('Puntaje de Felicidad')\n",
        "\n",
        "plt.legend()\n",
        "plt.show()"
      ],
      "execution_count": null,
      "outputs": []
    },
    {
      "cell_type": "code",
      "metadata": {
        "id": "4muDGZIRnmwC"
      },
      "source": [
        "data_red_gdp =  df[df['Felicidad'].isin(X[y_kmeans == 0, 1])]\n",
        "data_blue_gdp = df[df['Felicidad'].isin(X[y_kmeans == 1, 1])]\n",
        "data_green_gdp = df[df['Felicidad'].isin(X[y_kmeans == 2, 1])]"
      ],
      "execution_count": null,
      "outputs": []
    },
    {
      "cell_type": "markdown",
      "metadata": {
        "id": "zR1Je2r2nMjs"
      },
      "source": [
        "### Felicidad Vs Soporte_Social (Apoyo Social)"
      ]
    },
    {
      "cell_type": "code",
      "metadata": {
        "id": "orifPu1VnMjt"
      },
      "source": [
        "X = df.iloc[:, [5, -1]].values"
      ],
      "execution_count": null,
      "outputs": []
    },
    {
      "cell_type": "code",
      "metadata": {
        "id": "vTolH4IUnMjw"
      },
      "source": [
        "from sklearn.cluster import KMeans\n",
        "wcss = []\n",
        "fig = plt.subplots(figsize=(5,5))\n",
        "\n",
        "for i in range(1, 11):\n",
        "    kmeans = KMeans(n_clusters = i, init = 'k-means++', random_state = 42)\n",
        "    kmeans.fit(X)\n",
        "    wcss.append(kmeans.inertia_)\n",
        "\n",
        "plt.plot(range(1, 11), wcss)\n",
        "\n",
        "plt.title('El Metodo de Codo (Elbow)')\n",
        "plt.xlabel('Número of clusters')\n",
        "\n",
        "plt.show()"
      ],
      "execution_count": null,
      "outputs": []
    },
    {
      "cell_type": "code",
      "metadata": {
        "id": "d_Y9iHqMnMjz"
      },
      "source": [
        "kmeans = KMeans(n_clusters = 3, init = 'k-means++', random_state = 42)\n",
        "y_kmeans = kmeans.fit_predict(X)"
      ],
      "execution_count": null,
      "outputs": []
    },
    {
      "cell_type": "code",
      "metadata": {
        "id": "czGJ9HYcnMj1"
      },
      "source": [
        "plt.figure(figsize=(5,5))\n",
        "\n",
        "plt.scatter(X[y_kmeans == 0, 0], X[y_kmeans == 0, 1], s = 100, c = 'red', label = 'Cluster 1')\n",
        "plt.scatter(X[y_kmeans == 1, 0], X[y_kmeans == 1, 1], s = 100, c = 'blue', label = 'Cluster 2')\n",
        "plt.scatter(X[y_kmeans == 2, 0], X[y_kmeans == 2, 1], s = 100, c = 'green', label = 'Cluster 3')\n",
        "# plt.scatter(X[y_kmeans == 3, 0], X[y_kmeans == 3, 1], s = 100, c = 'purple', label = 'Cluster 4')\n",
        "# plt.scatter(X[y_kmeans == 4, 0], X[y_kmeans == 4, 1], s = 100, c = 'cyan', label = 'Cluster 5')\n",
        "\n",
        "plt.scatter(kmeans.cluster_centers_[:, 0], kmeans.cluster_centers_[:, 1], s = 300, c = 'yellow', label = 'Centroids')\n",
        "\n",
        "plt.xlabel('Soporte_Social')\n",
        "plt.ylabel('Puntaje de Felicidad')\n",
        "\n",
        "plt.legend()\n",
        "plt.show()"
      ],
      "execution_count": null,
      "outputs": []
    },
    {
      "cell_type": "code",
      "metadata": {
        "id": "G-RNeQk1-d98"
      },
      "source": [
        "data_red_ss =  df[df['Felicidad'].isin(X[y_kmeans == 0, 1])]\n",
        "data_blue_ss = df[df['Felicidad'].isin(X[y_kmeans == 1, 1])]\n",
        "data_green_ss = df[df['Felicidad'].isin(X[y_kmeans == 2, 1])]"
      ],
      "execution_count": null,
      "outputs": []
    },
    {
      "cell_type": "markdown",
      "metadata": {
        "id": "1agk606mAQ1-"
      },
      "source": [
        "### Felicidad Vs Expectativa_vida_saludable (Expectativa de Vida Saludable)"
      ]
    },
    {
      "cell_type": "markdown",
      "metadata": {
        "id": "cmwmCs6mCN1d"
      },
      "source": [
        "Utilizando los pasos aprendidos arriba, haz una analisis para determinar la relacion entre la felicidad y el factor de expectativa de vida saludable. "
      ]
    },
    {
      "cell_type": "code",
      "metadata": {
        "id": "-MOshgtqycrm"
      },
      "source": [
        ""
      ],
      "execution_count": null,
      "outputs": []
    },
    {
      "cell_type": "markdown",
      "metadata": {
        "id": "QynZI6HzPJXu"
      },
      "source": [
        "# 2. Análisis de la Data - GDP y Soporte_Social"
      ]
    },
    {
      "cell_type": "code",
      "metadata": {
        "id": "H-CQIHlqOFsJ"
      },
      "source": [
        "# Tabla con valores min y max, y número de paises\n",
        "\n",
        "gdp = {'Cluster': ['Blue Cluster','Red Cluster','Green Cluster'],\n",
        "        'Min_GPD': [\n",
        "                    round(np.nanmin(data_blue_gdp['Felicidad']),2),\n",
        "                    round(np.nanmin(data_red_gdp['Felicidad']),2),\n",
        "                    round(np.nanmin(data_green_gdp['Felicidad']),2)\n",
        "                    ],\n",
        "        'Max_GPD': [\n",
        "                   round(np.nanmax(data_blue_gdp['Felicidad']),2),\n",
        "                   round(np.nanmax(data_red_gdp['Felicidad']),2),\n",
        "                   round(np.nanmax(data_green_gdp['Felicidad']),2)\n",
        "                   ],\n",
        "        'Amount_Country': [\n",
        "                             len(data_blue_gdp),\n",
        "                             len(data_red_gdp),\n",
        "                             len(data_green_gdp)\n",
        "                            ]\n",
        "        }\n",
        "\n",
        "ss = {'Cluster': ['Blue Cluster','Red Cluster','Green Cluster'],\n",
        "        'Min_ss': [\n",
        "                    round(np.nanmin(data_blue_ss['Felicidad']),2),\n",
        "                    round(np.nanmin(data_red_ss['Felicidad']),2),\n",
        "                    round(np.nanmin(data_green_ss['Felicidad']),2)\n",
        "                    ],\n",
        "        'Max_ss': [\n",
        "                   round(np.nanmax(data_blue_ss['Felicidad']),2),\n",
        "                   round(np.nanmax(data_red_ss['Felicidad']),2),\n",
        "                   round(np.nanmax(data_green_ss['Felicidad']),2)\n",
        "                   ],\n",
        "        'Amount_Country': [\n",
        "                             len(data_blue_ss),\n",
        "                             len(data_red_ss),\n",
        "                             len(data_green_ss)\n",
        "                            ]\n",
        "        }\n",
        "\n",
        "\n",
        "df_gdp = pd.DataFrame(gdp, columns = ['Cluster','Min_PIB', 'Max_PIB', 'Cantidad_Paises'])\n",
        "\n",
        "df_ss = pd.DataFrame(ss, columns = ['Cluster','Min_ss', 'Max_ss', 'Cantidad_Paises'])\n",
        "\n",
        "print('Producto Interno Bruto\\n\\n',df_gdp, '\\n\\n\\nSoporte Social\\n\\n', df_ss)"
      ],
      "execution_count": null,
      "outputs": []
    },
    {
      "cell_type": "markdown",
      "metadata": {
        "id": "Kl9D5iWxUViE"
      },
      "source": [
        "#### Ordenando la Data por Nombre de País"
      ]
    },
    {
      "cell_type": "code",
      "metadata": {
        "id": "GMBE9YOSUYxg"
      },
      "source": [
        "# PIB\n",
        "data_blue_gdp.sort_values(by='Pais',inplace=True)\n",
        "data_red_gdp.sort_values(by='Pais',inplace=True)\n",
        "data_green_gdp.sort_values(by='Pais',inplace=True)\n",
        "\n",
        "# SS\n",
        "data_blue_ss.sort_values(by='Pais',inplace=True)\n",
        "data_red_ss.sort_values(by='Pais',inplace=True)\n",
        "data_green_ss.sort_values(by='Pais',inplace=True)"
      ],
      "execution_count": null,
      "outputs": []
    },
    {
      "cell_type": "markdown",
      "metadata": {
        "id": "zIrt6SemP9tL"
      },
      "source": [
        "### Graficando los Países de cada cluster - GDP"
      ]
    },
    {
      "cell_type": "code",
      "metadata": {
        "id": "8Xbw0jxbP85g"
      },
      "source": [
        "#BLUE\n",
        "labels = data_blue_gdp['Pais']\n",
        "GDP = data_blue_gdp['PIB']\n",
        "width = 0.35\n",
        "\n",
        "fig, ax = plt.subplots(figsize=(30,5))\n",
        "plt.xticks(rotation=90)\n",
        "\n",
        "ax.bar(labels,GDP, width,  label='PIB')\n",
        "\n",
        "ax.set_ylabel('PIB')\n",
        "ax.set_title('BLUE: PIB bajo - Felicidad')\n",
        "\n",
        "#RED\n",
        "\n",
        "labels = data_red_gdp['Pais']\n",
        "GDP = data_red_gdp['PIB']\n",
        "width = 0.35\n",
        "\n",
        "fig, ax = plt.subplots(figsize=(30,5))\n",
        "plt.xticks(rotation=90)\n",
        "\n",
        "ax.bar(labels,GDP, width,  label='PIB', color='red')\n",
        "ax.set_ylabel('PIB')\n",
        "ax.set_title('RED: PIB intermedio - Felicidad')\n",
        "\n",
        "#GREEN\n",
        "\n",
        "labels = data_green_gdp['Pais']\n",
        "GDP = data_green_gdp['PIB']\n",
        "width = 0.35\n",
        "\n",
        "fig, ax = plt.subplots(figsize=(30,5))\n",
        "plt.xticks(rotation=90)\n",
        "\n",
        "ax.bar(labels,GDP, width,  label='PIB',  color='green')\n",
        "\n",
        "ax.set_ylabel('PIB')\n",
        "ax.set_title('GREEN: PIB alto - Felicidad')\n",
        "\n",
        "\n",
        "plt.show()"
      ],
      "execution_count": null,
      "outputs": []
    },
    {
      "cell_type": "markdown",
      "metadata": {
        "id": "SB7UyMRgGhUh"
      },
      "source": [
        "### Continentes en cada cluster - GDP"
      ]
    },
    {
      "cell_type": "code",
      "metadata": {
        "id": "u8p65kEFGnsd"
      },
      "source": [
        "#BLUE\n",
        "print('Número de paises, por continente - BLUE')\n",
        "print(data_blue_gdp.Continente.value_counts())\n",
        "print('\\n')\n",
        "\n",
        "#RED\n",
        "print('Número de paises, por continente - RED')\n",
        "print(data_red_gdp.Continente.value_counts())\n",
        "print('\\n')\n",
        "\n",
        "#GREEN\n",
        "print('Número de paises, por continente - GREEN')\n",
        "print(data_green_gdp.Continente.value_counts())\n",
        "print('\\n')"
      ],
      "execution_count": null,
      "outputs": []
    },
    {
      "cell_type": "markdown",
      "metadata": {
        "id": "FqvuabZVoxuN"
      },
      "source": [
        "###  Graficando los Países de cada cluster - Soporte_Social"
      ]
    },
    {
      "cell_type": "code",
      "metadata": {
        "id": "9NYpAGNmoxuT"
      },
      "source": [
        "#BLUE\n",
        "labels = data_blue_ss['Pais']\n",
        "SS = data_blue_ss['Soporte_Social']\n",
        "width = 0.35\n",
        "\n",
        "fig, ax = plt.subplots(figsize=(30,5))\n",
        "plt.xticks(rotation=90)\n",
        "\n",
        "ax.bar(labels, SS, width,  label='SS')\n",
        "\n",
        "ax.set_ylabel('SS')\n",
        "ax.set_title('BLUE: SS bajo - Felicidad')\n",
        "\n",
        "#RED\n",
        "\n",
        "labels = data_red_ss['Pais']\n",
        "SS = data_red_ss['Soporte_Social']\n",
        "width = 0.35\n",
        "\n",
        "fig, ax = plt.subplots(figsize=(30,5))\n",
        "plt.xticks(rotation=90)\n",
        "\n",
        "ax.bar(labels, SS, width,  label='SS', color='red')\n",
        "ax.set_ylabel('SS')\n",
        "ax.set_title('RED: SS intermedio - Felicidad')\n",
        "\n",
        "#GREEN\n",
        "\n",
        "labels = data_green_ss['Pais']\n",
        "SS = data_green_ss['Soporte_Social']\n",
        "width = 0.35\n",
        "\n",
        "fig, ax = plt.subplots(figsize=(30,5))\n",
        "plt.xticks(rotation=90)\n",
        "\n",
        "ax.bar(labels, SS, width,  label='SS',  color='green')\n",
        "\n",
        "ax.set_ylabel('SS')\n",
        "ax.set_title('GREE: SS alto - Felicidad')\n",
        "\n",
        "plt.show()"
      ],
      "execution_count": null,
      "outputs": []
    },
    {
      "cell_type": "markdown",
      "metadata": {
        "id": "W6V5vGe1jd_i"
      },
      "source": [
        "### Continentes en cada cluster - Soporte_Social"
      ]
    },
    {
      "cell_type": "code",
      "metadata": {
        "id": "Y603tJn7jf0o"
      },
      "source": [
        "#BLUE\n",
        "print('Número de paises, por continente - BLUE')\n",
        "print(data_blue_ss.Continente.value_counts())\n",
        "print('\\n')\n",
        "\n",
        "#RED\n",
        "print('Número de paises, por continente - RED')\n",
        "print(data_red_ss.Continente.value_counts())\n",
        "print('\\n')\n",
        "\n",
        "#GREEN\n",
        "print('Número de paises, por continente - GREEN')\n",
        "print(data_green_ss.Continente.value_counts())\n",
        "print('\\n')"
      ],
      "execution_count": null,
      "outputs": []
    },
    {
      "cell_type": "markdown",
      "metadata": {
        "id": "xENCNj6tpF5e"
      },
      "source": [
        "# 3. Comparando los resultados de GDP y SS en América"
      ]
    },
    {
      "cell_type": "markdown",
      "metadata": {
        "id": "QQmKVyovQDKD"
      },
      "source": [
        "El objetivo es determinar que paises de América, tanto Norte (que incluye a Centroamérica) y Sur, tienen un GDP y Soporte_Social de **nivel medio y nivel alto**; es decir, estan ubicados dentro del RED y GREEN cluster para ambas variables, respectivamente. No consideraremos el nivel bajo (BLUE cluster) de estas variables, ya que estaremos trabajando con los paises más felicies de este continente.\n",
        "\n",
        "**Para hacerlo**, por cada nivel: \n",
        "- Determinaremos que paises estan duplicados y eliminaremos una de las copias\n",
        "- Eliminaremos aquellos paises que NO estén duplicados en ambos df (el de GDP y el de Soporte_Social) del nivel trabajado, al esto significar que no tienen tanto su GDP y Soporte_Social dentro del mismo nivel"
      ]
    },
    {
      "cell_type": "markdown",
      "metadata": {
        "id": "gj6oyTnbVIg7"
      },
      "source": [
        "### Paises con nivel Medio (RED cluster) de GDP y Soporte_Social"
      ]
    },
    {
      "cell_type": "code",
      "metadata": {
        "id": "ecTUDlO5XLQz"
      },
      "source": [
        "# GDP y SS Medio (RED) - América\n",
        "red_america = pd.concat([data_red_gdp,data_red_ss])\n",
        "red_america = red_america[red_america.Continente.isin(['North America', 'South America'])]"
      ],
      "execution_count": null,
      "outputs": []
    },
    {
      "cell_type": "code",
      "metadata": {
        "id": "BtyhYRHTgEKS"
      },
      "source": [
        "# Determinando que paises no tienen tanto un GDP como un Soporte_Social de nivel medio\n",
        "red_america.drop_duplicates(keep=False)"
      ],
      "execution_count": null,
      "outputs": []
    },
    {
      "cell_type": "code",
      "metadata": {
        "id": "kYjodPGdXpKz"
      },
      "source": [
        "# Eliminando Chile y duplicados\n",
        "red_america = red_america[red_america['Pais'] != 'Chile'].drop_duplicates()\n",
        "red_america.drop_duplicates(keep=False)"
      ],
      "execution_count": null,
      "outputs": []
    },
    {
      "cell_type": "markdown",
      "metadata": {
        "id": "sA34UV3UiAxa"
      },
      "source": [
        "### Paises con nivel Alto (GREEN cluster) de GDP y Soporte_Social"
      ]
    },
    {
      "cell_type": "code",
      "metadata": {
        "id": "gH2X2gwPiHr9"
      },
      "source": [
        "# GDP y SS Alto (Green) - América\n",
        "green_america = pd.concat([data_green_gdp,data_green_ss])\n",
        "green_america = green_america[green_america.Continente.isin(['North America', 'South America'])]"
      ],
      "execution_count": null,
      "outputs": []
    },
    {
      "cell_type": "code",
      "metadata": {
        "id": "d3_kdIJMiaIj"
      },
      "source": [
        "# Determinando que paises no tienen tanto un GDP como un Soporte_Social de nivel alto\n",
        "green_america.drop_duplicates(keep=False)"
      ],
      "execution_count": null,
      "outputs": []
    },
    {
      "cell_type": "code",
      "metadata": {
        "id": "Zltpqc9DiiKp"
      },
      "source": [
        "# Eliminando Chile y duplicados\n",
        "green_america = green_america[green_america['Pais'] != 'Chile'].drop_duplicates()\n",
        "green_america.drop_duplicates(keep=False)"
      ],
      "execution_count": null,
      "outputs": []
    },
    {
      "cell_type": "markdown",
      "metadata": {
        "id": "aekgMxQ749Ib"
      },
      "source": [
        "### Paises más felices de América"
      ]
    },
    {
      "cell_type": "code",
      "metadata": {
        "id": "ie8oKiobjgNt"
      },
      "source": [
        "all_america = pd.concat([red_america, green_america]).drop_duplicates()\n",
        "all_america.nlargest(10, columns='Felicidad')"
      ],
      "execution_count": null,
      "outputs": []
    },
    {
      "cell_type": "markdown",
      "metadata": {
        "id": "tH-XLGit5Fwx"
      },
      "source": [
        "## Comparando métricas de paises de América"
      ]
    },
    {
      "cell_type": "markdown",
      "metadata": {
        "id": "IV_FekG1lPt8"
      },
      "source": [
        "### GDP, Puntaje de Felicidad y Corrupción"
      ]
    },
    {
      "cell_type": "code",
      "metadata": {
        "id": "A4xs4TieiXJS"
      },
      "source": [
        "# Gráfica de barras\n",
        "fig, ax = plt.subplots(figsize=(20,5))\n",
        "\n",
        "plt.bar(all_america['Pais'], all_america['PIB'], label='PIB')\n",
        "plt.bar(all_america['Pais'], all_america['Felicidad']/10, label='Felicidad')\n",
        "plt.bar(all_america['Pais'], all_america['Percepcion_Corrupcion'], label='Corrupcion')\n",
        "\n",
        "\n",
        "plt.xticks(rotation=90)\n",
        "\n",
        "\n",
        "plt.legend()\n",
        "plt.show()"
      ],
      "execution_count": null,
      "outputs": []
    },
    {
      "cell_type": "markdown",
      "metadata": {
        "id": "Gq95nS_vMLqF"
      },
      "source": [
        "# 4. Histórico de paises del mundo"
      ]
    },
    {
      "cell_type": "code",
      "metadata": {
        "id": "w665YBFAwGq4"
      },
      "source": [
        "# importando data del 2015 al 2019\n",
        "d15 = pd.read_csv(archivo_2015)\n",
        "d16 = pd.read_csv(archivo_2016)\n",
        "d17 = pd.read_csv(archivo_2017)\n",
        "d18 = pd.read_csv(archivo_2018)\n",
        "d19 = pd.read_csv(archivo_2019)\n",
        "\n",
        "d15['Year'] = '2015'\n",
        "d16['Year'] = '2016'\n",
        "d17['Year'] = '2017'\n",
        "d18['Year'] = '2018'\n",
        "d19['Year'] = '2019'\n",
        "\n",
        "# El nombre y orden de las columnas es diferente en cada dataset \n",
        "d15 = d15.iloc[:, [0,3,5,9,-1]]\n",
        "d16 = d16.iloc[:, [0,3,6,10,-1]]\n",
        "d17 = d17.iloc[:, [0,2,5,10,-1]]\n",
        "d18 = d18.iloc[:, [1,2,3,8,-1]]\n",
        "d19 = d19.iloc[:, [1,2,3,8,-1]]\n",
        "\n",
        "col_names = ['pais','felicidad','pib','corrupcion','year']\n",
        "d15.columns = col_names\n",
        "d16.columns = col_names\n",
        "d17.columns = col_names\n",
        "d18.columns = col_names\n",
        "d19.columns = col_names"
      ],
      "execution_count": null,
      "outputs": []
    },
    {
      "cell_type": "code",
      "metadata": {
        "id": "NXYxh3iuxvVA"
      },
      "source": [
        "all_years = pd.concat([d15, d16, d17, d18, d19])\n",
        "all_years['Continente'] = all_years['pais'].apply(get_continent)\n",
        "\n",
        "# Se divide el puntaje de felicidad (happiness) \n",
        "# y el GDP (PID) entre 100 y 10, respectivamente, para una mejor visualización de la data al graficarla\n",
        "all_years['felicidad'] = all_years['felicidad']/100\n",
        "all_years['pib'] = all_years['pib']/10"
      ],
      "execution_count": null,
      "outputs": []
    },
    {
      "cell_type": "code",
      "metadata": {
        "id": "MLiLeC5h3XCV"
      },
      "source": [
        "fig = plt.subplots(figsize=(20,10))\n",
        "sns.lineplot(data=all_years, x=\"year\", y=\"corrupcion\", hue=\"Continente\", ci=None)\n",
        "plt.title(\"Histórico de Corrupción (percepción)\", fontsize=16)\n",
        "plt.xlabel(\"Años\", fontsize=14)\n",
        "plt.ylabel(\"Corrupción\", fontsize=14)\n",
        "plt.minorticks_on()\n",
        "plt.tick_params(axis='y', which='both', length=6)"
      ],
      "execution_count": null,
      "outputs": []
    },
    {
      "cell_type": "markdown",
      "metadata": {
        "id": "GneGHoRuqTtn"
      },
      "source": [
        "Ya que Oceania solo cuenta con 2 paises, excluiremos este continente de nuestra gráfica."
      ]
    },
    {
      "cell_type": "code",
      "metadata": {
        "id": "pIO6jHmUodv_"
      },
      "source": [
        "fig = plt.subplots(figsize=(20,10))\n",
        "sns.lineplot(data=all_years, x=\"year\", y=\"corrupcion\", hue=\"Continente\", ci=None)\n",
        "plt.title(\"Histórico de Corrupción (percepción)\", fontsize=16)\n",
        "plt.xlabel(\"Años\", fontsize=14)\n",
        "plt.ylabel(\"Corrupción\", fontsize=14)\n",
        "plt.ylim(0.06,0.18)\n",
        "plt.minorticks_on()\n",
        "plt.tick_params(axis='y', which='both', length=6)"
      ],
      "execution_count": null,
      "outputs": []
    },
    {
      "cell_type": "code",
      "metadata": {
        "id": "-99YgdWctgXe"
      },
      "source": [
        "# Función para comparar la Falicidad, la percepción de Corrupción y el GDP \n",
        "\n",
        "def hcg(country):\n",
        "  fig, (ax1, ax2, ax3) = plt.subplots(nrows=1, ncols=3,figsize=(20,5))\n",
        "\n",
        "  # Gráfica de felicidad\n",
        "  sns.lineplot(data=all_years[all_years['pais']==country], x=\"year\", y=\"felicidad\", ci=None, color=\"blue\", label=\"Felicidad\",ax=ax1 )\n",
        "\n",
        "  # Gráfica de corrupción\n",
        "  sns.lineplot(data=all_years[all_years['pais']==country], x=\"year\", y=\"corrupcion\", ci=None, color=\"green\", label = \"Corrupción\",ax=ax2)\n",
        "\n",
        "  # Gráfica de GDP\n",
        "  sns.lineplot(data=all_years[all_years['pais']==country], x=\"year\", y=\"pib\", ci=True, color=\"red\", label = \"PIB\",ax=ax3)\n",
        "\n",
        "  ax1.set(ylabel=None, xlabel=None)\n",
        "  ax2.set(ylabel=None, xlabel=None)\n",
        "  ax3.set(ylabel=None, xlabel=None)"
      ],
      "execution_count": null,
      "outputs": []
    },
    {
      "cell_type": "markdown",
      "metadata": {
        "id": "zSHlTu-guy7T"
      },
      "source": [
        "### Panama"
      ]
    },
    {
      "cell_type": "code",
      "metadata": {
        "id": "BVrNbrbRwnh1"
      },
      "source": [
        "hcg('Panama')"
      ],
      "execution_count": null,
      "outputs": []
    },
    {
      "cell_type": "markdown",
      "metadata": {
        "id": "DCgKuEgPwOIh"
      },
      "source": [
        "### Venezuela"
      ]
    },
    {
      "cell_type": "code",
      "metadata": {
        "id": "N3KK9G_DxGSZ"
      },
      "source": [
        "hcg('Venezuela')"
      ],
      "execution_count": null,
      "outputs": []
    },
    {
      "cell_type": "markdown",
      "metadata": {
        "id": "Z8gZaFwTwNsH"
      },
      "source": [
        "### Costa Rica"
      ]
    },
    {
      "cell_type": "code",
      "metadata": {
        "id": "Awbn6qEww8sE"
      },
      "source": [
        "hcg('Costa Rica')"
      ],
      "execution_count": null,
      "outputs": []
    },
    {
      "cell_type": "markdown",
      "metadata": {
        "id": "iCo8mHpXwOn4"
      },
      "source": [
        "### Estados Unidos"
      ]
    },
    {
      "cell_type": "code",
      "metadata": {
        "id": "RYtHsmXlxMUC"
      },
      "source": [
        "hcg('United States')"
      ],
      "execution_count": null,
      "outputs": []
    },
    {
      "cell_type": "markdown",
      "metadata": {
        "id": "DlYNufHpwNKG"
      },
      "source": [
        "### Canada"
      ]
    },
    {
      "cell_type": "code",
      "metadata": {
        "id": "ddyo6TQAxUWC"
      },
      "source": [
        "hcg('Canada')"
      ],
      "execution_count": null,
      "outputs": []
    },
    {
      "cell_type": "markdown",
      "metadata": {
        "id": "Bw_IHuRVwgDc"
      },
      "source": [
        "### Argentina"
      ]
    },
    {
      "cell_type": "code",
      "metadata": {
        "id": "Te0dM5BlxUpv"
      },
      "source": [
        "hcg('Argentina')"
      ],
      "execution_count": null,
      "outputs": []
    },
    {
      "cell_type": "markdown",
      "metadata": {
        "id": "JOHl2ok7wRzs"
      },
      "source": [
        "### ¿Qué otro país te gustaría analizar? Adelante!"
      ]
    },
    {
      "cell_type": "code",
      "metadata": {
        "id": "iJzkWnO7xBqv"
      },
      "source": [
        "hcg('')"
      ],
      "execution_count": null,
      "outputs": []
    }
  ]
}