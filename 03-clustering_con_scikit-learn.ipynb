{
 "cells": [
  {
   "cell_type": "markdown",
   "metadata": {},
   "source": [
    "# **Informe mundial sobre la Felicidad**"
   ]
  },
  {
   "cell_type": "markdown",
   "metadata": {
    "id": "BTfjOj5rPnA7"
   },
   "source": [
    "# 1. La felicidad puntuada según la producción económica, el apoyo social, etc.\n",
    "\n",
    "El Informe Mundial sobre la Felicidad es una encuesta histórica sobre el estado de la felicidad mundial. El primer informe se publicó en 2012, el segundo en 2013, el tercero en 2015 y el cuarto en la Actualización de 2016. El World Happiness 2017, que **clasifica a 155 países** por sus niveles de felicidad, fue lanzado en las Naciones Unidas en un evento que celebra el Día Internacional de la Felicidad el 20 de marzo. El informe continúa ganando reconocimiento mundial a medida que los gobiernos, las organizaciones y la sociedad civil utilizan cada vez más los indicadores de felicidad para informar sus decisiones de formulación de políticas. Los principales expertos en todos los campos (economía, psicología, análisis de encuestas, estadísticas nacionales, salud, políticas públicas y más) describen cómo las mediciones del bienestar se pueden utilizar de manera efectiva para evaluar el progreso de las naciones. Los informes revisan el estado de la felicidad en el mundo actual y muestran cómo la nueva ciencia de la felicidad explica las variaciones personales y nacionales de la felicidad."
   ]
  },
  {
   "cell_type": "code",
   "execution_count": null,
   "metadata": {
    "colab": {
     "base_uri": "https://localhost:8080/",
     "height": 277
    },
    "id": "80CDEqHVWhFr",
    "outputId": "07a6a6b3-7bc3-4ac1-a935-214765a1be12"
   },
   "outputs": [],
   "source": [
    "!pip install pycountry-convert\n",
    "#dataset = https://www.kaggle.com/unsdsn/world-happiness"
   ]
  },
  {
   "cell_type": "code",
   "execution_count": null,
   "metadata": {
    "id": "JVeUT6vjWy3B"
   },
   "outputs": [],
   "source": [
    "import pandas as pd\n",
    "import numpy as np\n",
    "import matplotlib.pyplot as plt\n",
    "import matplotlib.gridspec as gridspec\n",
    "import pycountry_convert as pc\n",
    "import seaborn as sns\n",
    "\n",
    "import warnings\n",
    "warnings.filterwarnings(\"ignore\")"
   ]
  },
  {
   "cell_type": "code",
   "execution_count": null,
   "metadata": {},
   "outputs": [],
   "source": [
    "archivo_2015 = 'https://raw.githubusercontent.com/gmhoward/amalia20-taller_ml/master/datos/paises-metricos-2015.csv'\n",
    "archivo_2016 = 'https://raw.githubusercontent.com/gmhoward/amalia20-taller_ml/master/datos/paises-metricos-2016.csv'\n",
    "archivo_2017 = 'https://raw.githubusercontent.com/gmhoward/amalia20-taller_ml/master/datos/paises-metricos-2017.csv'\n",
    "archivo_2018 = 'https://raw.githubusercontent.com/gmhoward/amalia20-taller_ml/master/datos/paises-metricos-2018.csv'\n",
    "archivo_2019 = 'https://raw.githubusercontent.com/gmhoward/amalia20-taller_ml/master/datos/paises-metricos-2019.csv'"
   ]
  },
  {
   "cell_type": "code",
   "execution_count": null,
   "metadata": {
    "colab": {
     "base_uri": "https://localhost:8080/",
     "height": 191
    },
    "id": "y7FnMewoW-E3",
    "outputId": "606287b5-1fba-4bef-e9fd-eb8e1f979831"
   },
   "outputs": [],
   "source": [
    "df = pd.read_csv(archivo_2019, names=['Ranking','Pais','Felicidad','PIB','Soporte_Social','Expectativa_vida_saludable','Libertad_Expresion','Generosidad','Percepcion_Corrupcion'], header=0)\n",
    "df.head()"
   ]
  },
  {
   "cell_type": "code",
   "execution_count": null,
   "metadata": {
    "colab": {
     "base_uri": "https://localhost:8080/",
     "height": 328
    },
    "id": "InAcS4Ed0xMR",
    "outputId": "a08f13f6-6027-4e92-8bcc-cdf5b467c9cf"
   },
   "outputs": [],
   "source": [
    "happy = df['Felicidad']\n",
    "GDP = df['PIB']\n",
    "ss = df['Soporte_Social']\n",
    "health = df['Expectativa_vida_saludable']\n",
    "generosity = df['Generosidad']\n",
    "freedom = df['Libertad_Expresion']\n",
    "corruption = df['Percepcion_Corrupcion']\n",
    "\n",
    "\n",
    "width = 0.35\n",
    "\n",
    "fig2 = plt.figure(constrained_layout=True)\n",
    "\n",
    "spec2 = gridspec.GridSpec(ncols=3, nrows=2, figure=fig2)\n",
    "\n",
    "# Happy \n",
    "f2_ax1 = fig2.add_subplot(spec2[0, 0])\n",
    "f2_ax1.scatter(corruption, happy, width, color='red')\n",
    "f2_ax1.set_xlabel('Corruption')\n",
    "f2_ax1.set_ylabel('Felicidad')\n",
    "\n",
    "# GPD\n",
    "f2_ax2 = fig2.add_subplot(spec2[0, 1])\n",
    "f2_ax2.scatter(GDP,happy, width, color='blue')\n",
    "f2_ax2.set_ylabel('Felicidad')\n",
    "f2_ax2.set_xlabel('PIB')\n",
    "\n",
    "# Soporte_Social\n",
    "f2_ax3 = fig2.add_subplot(spec2[0, 2])\n",
    "f2_ax3.scatter(ss,happy, width, color='green')\n",
    "f2_ax3.set_ylabel('Felicidad')\n",
    "f2_ax3.set_xlabel('Soporte_Social')\n",
    "\n",
    "# Expectativa_vida_saludable\n",
    "f2_ax4 = fig2.add_subplot(spec2[1, 0])\n",
    "f2_ax4.scatter(health,happy, width, color='orange')\n",
    "f2_ax4.set_ylabel('Felicidad')\n",
    "f2_ax4.set_xlabel('Exp. Vida Saludable')\n",
    "\n",
    "# Libertad_Expresion\n",
    "f2_ax5 = fig2.add_subplot(spec2[1, 1])\n",
    "f2_ax5.scatter(freedom,happy, width, color='purple')\n",
    "f2_ax5.set_ylabel('Felicidad')\n",
    "f2_ax5.set_xlabel('Libertdad')\n",
    "\n",
    "# Generosidad\n",
    "f2_ax6 = fig2.add_subplot(spec2[1, 2])\n",
    "f2_ax6.scatter(generosity,happy, width, color='brown')\n",
    "f2_ax6.set_ylabel('Felicidad')\n",
    "f2_ax6.set_xlabel('Generosidad')"
   ]
  },
  {
   "cell_type": "markdown",
   "metadata": {
    "id": "DV91LWIuRz_0"
   },
   "source": [
    "Podemos observar que el **Felicidad**, que representa el *puntaje de felicidad de un pais*, depende claramente de 3 factores:\n",
    "- **PIB**; o el Producto Interno Bruto\n",
    "- **Soporte_Social**: acceso a amigos y otras personas, incluida la familia, a quienes acudir en momentos de necesidad o crisis para darle un enfoque más amplio y una imagen positiva de sí mismo.\n",
    "- **Expectativa_vida_saludable**; o la expectativa de vida saludable\n",
    "\n",
    "Otro factor que vemos que tiene un impacto no tan claro, pero que igual parece tener influencia sobre el puntaje de felicidad de un pais es **Libertad_Expresion**; es decir, la libertad de tomar deciciones de vida propias.\n",
    "\n",
    "Esta correlacion entre el puntaje de felicidad y la variables previamente mencionadas se puede apreciar con mayor claridad en la siguiente matriz, en la cual, mientras **más cerca de 1.0** este el puntaje, **más correlación existe entre las variables** que se cruzan."
   ]
  },
  {
   "cell_type": "code",
   "execution_count": null,
   "metadata": {
    "colab": {
     "base_uri": "https://localhost:8080/",
     "height": 397
    },
    "id": "9E61kY8jmX1i",
    "outputId": "44c52f99-b791-480f-dd92-e14c774123d1"
   },
   "outputs": [],
   "source": [
    "data = df.iloc[:,1:]\n",
    "corrMatrix = data.corr()\n",
    "sns.heatmap(corrMatrix, cmap = 'Blues', annot = True)\n",
    "plt.show()"
   ]
  },
  {
   "cell_type": "markdown",
   "metadata": {
    "id": "YRtZhgh9-d89"
   },
   "source": [
    "## Graficas de Felicidad"
   ]
  },
  {
   "cell_type": "code",
   "execution_count": null,
   "metadata": {
    "colab": {
     "base_uri": "https://localhost:8080/",
     "height": 191
    },
    "id": "FoEUxkXQ-d9B",
    "outputId": "4b4761f5-2a2b-41b8-9af1-d769136e9854"
   },
   "outputs": [],
   "source": [
    "df.head()"
   ]
  },
  {
   "cell_type": "code",
   "execution_count": null,
   "metadata": {
    "colab": {
     "base_uri": "https://localhost:8080/",
     "height": 35
    },
    "id": "gEZLdgjlX92Y",
    "outputId": "41fa550c-33c9-4bc4-9f8a-5e3c7099c331"
   },
   "outputs": [],
   "source": [
    "country_code = pc.country_name_to_country_alpha2(\"Panama\", cn_name_format=\"default\")\n",
    "continent_name = pc.convert_continent_code_to_continent_name(pc.country_alpha2_to_continent_code(country_code))\n",
    "continent_name"
   ]
  },
  {
   "cell_type": "code",
   "execution_count": null,
   "metadata": {
    "id": "Sxa8-Z7eXYjo"
   },
   "outputs": [],
   "source": [
    "def get_continent(country):\n",
    "  try :\n",
    "    country_code = pc.country_name_to_country_alpha2(country, cn_name_format=\"default\")\n",
    "    continent_name = pc.convert_continent_code_to_continent_name(\n",
    "                                      pc.country_alpha2_to_continent_code(country_code)\n",
    "                                      )\n",
    "    return continent_name\n",
    "  except:\n",
    "    return None\n",
    "\n",
    "df['Continente'] = df['Pais'].apply(get_continent)"
   ]
  },
  {
   "cell_type": "code",
   "execution_count": null,
   "metadata": {
    "id": "4yKx-MC4-uWo"
   },
   "outputs": [],
   "source": [
    "df = df[['Ranking', 'Pais','Continente', 'Percepcion_Corrupcion', 'PIB',\n",
    "       'Soporte_Social', 'Expectativa_vida_saludable',\n",
    "       'Libertad_Expresion', 'Generosidad','Felicidad'\n",
    "       ]]"
   ]
  },
  {
   "cell_type": "code",
   "execution_count": null,
   "metadata": {
    "colab": {
     "base_uri": "https://localhost:8080/",
     "height": 191
    },
    "id": "rmYV2UXzYVXl",
    "outputId": "76346758-eff2-4962-87e6-f25b34d54269"
   },
   "outputs": [],
   "source": [
    "df[df['Continente'].isna()]"
   ]
  },
  {
   "cell_type": "markdown",
   "metadata": {
    "id": "jaEvA--qYS1M"
   },
   "source": [
    "Podemos notar que algunos paises quedaron sin categoria. Dejarlos sin categoría solo tendrá un impacto significativo en el puntaje de felicidad promedio en aquellos continentes o subcontinentes conformados por pocos paises, como América del Sur y Oceanía.\n",
    "\n",
    "Uno de estos paises, **Trinidad & Tobago**, forma parte de Suramérica, que, dentro de nuestra data, solo cuenta con 10 paises. Lo más prudente será categorizarlo manualmente.\n"
   ]
  },
  {
   "cell_type": "code",
   "execution_count": null,
   "metadata": {
    "colab": {
     "base_uri": "https://localhost:8080/",
     "height": 35
    },
    "id": "1MlR2Rmyg38A",
    "outputId": "cede1a80-9d54-4f49-e1c1-25c605d6ace8"
   },
   "outputs": [],
   "source": [
    "df.loc[38,'Pais'] = \"South America\"\n",
    "df.loc[38,'Pais']"
   ]
  },
  {
   "cell_type": "markdown",
   "metadata": {
    "id": "XBgx2gZxg2aj"
   },
   "source": [
    "Tambien revisemos que dentro los paises sin categorizar no se encuentren los paises con el puntaje de felicidad máximo y mínimo."
   ]
  },
  {
   "cell_type": "code",
   "execution_count": null,
   "metadata": {
    "colab": {
     "base_uri": "https://localhost:8080/",
     "height": 163
    },
    "id": "4m-vGaedcD_j",
    "outputId": "b0578888-5bc4-4f4f-cadf-eb341161e167"
   },
   "outputs": [],
   "source": [
    "df['Felicidad'].describe()"
   ]
  },
  {
   "cell_type": "markdown",
   "metadata": {
    "id": "sDFBrq99-d9u"
   },
   "source": [
    "### Happy Vs PIB (Producto Interno Bruto)"
   ]
  },
  {
   "cell_type": "code",
   "execution_count": null,
   "metadata": {
    "id": "GC9gq3rZ-d9v"
   },
   "outputs": [],
   "source": [
    "# En la variable X almacenamos lo valores de las columnas PIB y Felicidad\n",
    "X = df.iloc[:, [4, -1]].values"
   ]
  },
  {
   "cell_type": "code",
   "execution_count": null,
   "metadata": {
    "colab": {
     "base_uri": "https://localhost:8080/",
     "height": 295
    },
    "id": "C0lVMUYz-d9y",
    "outputId": "c3699bed-07f9-4a36-c754-6b9044c09b11"
   },
   "outputs": [],
   "source": [
    "from sklearn.cluster import KMeans\n",
    "wcss = []\n",
    "\n",
    "for i in range(1, 11):\n",
    "    kmeans = KMeans(n_clusters = i, init = 'k-means++', random_state = 42)\n",
    "    kmeans.fit(X)\n",
    "    wcss.append(kmeans.inertia_)\n",
    "    # La inercia se puede reconocer como una medida de la coherencia interna de los clusters.\n",
    "    \n",
    "plt.plot(range(1, 11), wcss)\n",
    "\n",
    "plt.title('The Elbow Method')\n",
    "plt.xlabel('Number of clusters')\n",
    "plt.show()"
   ]
  },
  {
   "cell_type": "code",
   "execution_count": null,
   "metadata": {
    "id": "gkg6wsmT-d91"
   },
   "outputs": [],
   "source": [
    "kmeans = KMeans(n_clusters = 3, init = 'k-means++', random_state = 42)\n",
    "y_kmeans = kmeans.fit_predict(X)\n",
    "#Fit_predict -> Calcula los centroides de los clusters y predice el clusters al que debe pertecnecer cada muestra"
   ]
  },
  {
   "cell_type": "code",
   "execution_count": null,
   "metadata": {
    "colab": {
     "base_uri": "https://localhost:8080/",
     "height": 337
    },
    "id": "ab2vYSse-d93",
    "outputId": "ae1890f1-234c-4d80-f106-67f0f0ac8c29"
   },
   "outputs": [],
   "source": [
    "plt.figure(figsize=(5,5))\n",
    "\n",
    "plt.scatter(X[y_kmeans == 0, 0], X[y_kmeans == 0, 1], s = 100, c = 'red', label = 'Cluster 1')\n",
    "plt.scatter(X[y_kmeans == 1, 0], X[y_kmeans == 1, 1], s = 100, c = 'blue', label = 'Cluster 2')\n",
    "plt.scatter(X[y_kmeans == 2, 0], X[y_kmeans == 2, 1], s = 100, c = 'green', label = 'Cluster 3')\n",
    "# plt.scatter(X[y_kmeans == 3, 0], X[y_kmeans == 3, 1], s = 100, c = 'purple', label = 'Cluster 4')\n",
    "# plt.scatter(X[y_kmeans == 4, 0], X[y_kmeans == 4, 1], s = 100, c = 'cyan', label = 'Cluster 5')\n",
    "\n",
    "plt.scatter(kmeans.cluster_centers_[:, 0], kmeans.cluster_centers_[:, 1], s = 300, c = 'yellow', label = 'Centroids')\n",
    "\n",
    "plt.xlabel('PIB')\n",
    "plt.ylabel('Puntaje de Felicidad')\n",
    "\n",
    "plt.legend()\n",
    "plt.show()"
   ]
  },
  {
   "cell_type": "code",
   "execution_count": null,
   "metadata": {
    "id": "4muDGZIRnmwC"
   },
   "outputs": [],
   "source": [
    "data_red_gdp =  df[df['Felicidad'].isin(X[y_kmeans == 0, 1])]\n",
    "data_blue_gdp = df[df['Felicidad'].isin(X[y_kmeans == 1, 1])]\n",
    "data_green_gdp = df[df['Felicidad'].isin(X[y_kmeans == 2, 1])]"
   ]
  },
  {
   "cell_type": "markdown",
   "metadata": {
    "id": "zR1Je2r2nMjs"
   },
   "source": [
    "### Happy Vs Soporte_Social (Apoyo Social)"
   ]
  },
  {
   "cell_type": "code",
   "execution_count": null,
   "metadata": {
    "id": "orifPu1VnMjt"
   },
   "outputs": [],
   "source": [
    "X = df.iloc[:, [5, -1]].values"
   ]
  },
  {
   "cell_type": "code",
   "execution_count": null,
   "metadata": {
    "colab": {
     "base_uri": "https://localhost:8080/",
     "height": 350
    },
    "id": "vTolH4IUnMjw",
    "outputId": "911fb3d7-f26c-4069-e738-23f59f9fd4a4"
   },
   "outputs": [],
   "source": [
    "from sklearn.cluster import KMeans\n",
    "wcss = []\n",
    "fig = plt.subplots(figsize=(5,5))\n",
    "\n",
    "for i in range(1, 11):\n",
    "    kmeans = KMeans(n_clusters = i, init = 'k-means++', random_state = 42)\n",
    "    kmeans.fit(X)\n",
    "    wcss.append(kmeans.inertia_)\n",
    "\n",
    "plt.plot(range(1, 11), wcss)\n",
    "\n",
    "plt.title('The Elbow Method')\n",
    "plt.xlabel('Number of clusters')\n",
    "\n",
    "plt.show()"
   ]
  },
  {
   "cell_type": "code",
   "execution_count": null,
   "metadata": {
    "id": "d_Y9iHqMnMjz"
   },
   "outputs": [],
   "source": [
    "kmeans = KMeans(n_clusters = 3, init = 'k-means++', random_state = 42)\n",
    "y_kmeans = kmeans.fit_predict(X)"
   ]
  },
  {
   "cell_type": "code",
   "execution_count": null,
   "metadata": {
    "colab": {
     "base_uri": "https://localhost:8080/",
     "height": 337
    },
    "id": "czGJ9HYcnMj1",
    "outputId": "f5471d6a-2b21-42fb-8f27-520b7661d8bb"
   },
   "outputs": [],
   "source": [
    "plt.figure(figsize=(5,5))\n",
    "\n",
    "plt.scatter(X[y_kmeans == 0, 0], X[y_kmeans == 0, 1], s = 100, c = 'red', label = 'Cluster 1')\n",
    "plt.scatter(X[y_kmeans == 1, 0], X[y_kmeans == 1, 1], s = 100, c = 'blue', label = 'Cluster 2')\n",
    "plt.scatter(X[y_kmeans == 2, 0], X[y_kmeans == 2, 1], s = 100, c = 'green', label = 'Cluster 3')\n",
    "# plt.scatter(X[y_kmeans == 3, 0], X[y_kmeans == 3, 1], s = 100, c = 'purple', label = 'Cluster 4')\n",
    "# plt.scatter(X[y_kmeans == 4, 0], X[y_kmeans == 4, 1], s = 100, c = 'cyan', label = 'Cluster 5')\n",
    "\n",
    "plt.scatter(kmeans.cluster_centers_[:, 0], kmeans.cluster_centers_[:, 1], s = 300, c = 'yellow', label = 'Centroids')\n",
    "\n",
    "plt.xlabel('Soporte_Social')\n",
    "plt.ylabel('Puntaje de Felicidad')\n",
    "\n",
    "plt.legend()\n",
    "plt.show()"
   ]
  },
  {
   "cell_type": "code",
   "execution_count": null,
   "metadata": {
    "id": "G-RNeQk1-d98"
   },
   "outputs": [],
   "source": [
    "data_red_ss =  df[df['Felicidad'].isin(X[y_kmeans == 0, 1])]\n",
    "data_blue_ss = df[df['Felicidad'].isin(X[y_kmeans == 1, 1])]\n",
    "data_green_ss = df[df['Felicidad'].isin(X[y_kmeans == 2, 1])]"
   ]
  },
  {
   "cell_type": "markdown",
   "metadata": {
    "id": "1agk606mAQ1-"
   },
   "source": [
    "### Felicidad Vs Expectativa_vida_saludable (Expectativa de Vida Saludable)"
   ]
  },
  {
   "cell_type": "markdown",
   "metadata": {},
   "source": [
    "Utilizando los pasos aprendidos arriba, haz una analisis para determinar la relacion entre la felicidad y el factor de expectativa de vida saludable. "
   ]
  },
  {
   "cell_type": "markdown",
   "metadata": {
    "id": "cmwmCs6mCN1d"
   },
   "source": [
    "\\- Turno de la audiencia - "
   ]
  },
  {
   "cell_type": "code",
   "execution_count": null,
   "metadata": {
    "colab": {
     "base_uri": "https://localhost:8080/",
     "height": 33
    },
    "id": "-HgMumNLhPcn",
    "outputId": "7e3d6dd0-cb79-4623-a767-5655632f2a43"
   },
   "outputs": [],
   "source": [
    "len(data_red_ss)"
   ]
  },
  {
   "cell_type": "markdown",
   "metadata": {
    "id": "QynZI6HzPJXu"
   },
   "source": [
    "# 2. Análisis de la Data - GDP y Soporte_Social"
   ]
  },
  {
   "cell_type": "code",
   "execution_count": null,
   "metadata": {
    "colab": {
     "base_uri": "https://localhost:8080/",
     "height": 245
    },
    "id": "H-CQIHlqOFsJ",
    "outputId": "3f64c33f-a7c1-40f9-ba06-41cc14fdb44c"
   },
   "outputs": [],
   "source": [
    "# Tabla con valores min y max, y número de paises\n",
    "\n",
    "gdp = {'Cluster': ['Blue Cluster','Red Cluster','Green Cluster'],\n",
    "        'Min_GPD': [\n",
    "                    round(np.nanmin(data_blue_gdp['Felicidad']),2),\n",
    "                    round(np.nanmin(data_red_gdp['Felicidad']),2),\n",
    "                    round(np.nanmin(data_green_gdp['Felicidad']),2)\n",
    "                    ],\n",
    "        'Max_GPD': [\n",
    "                   round(np.nanmax(data_blue_gdp['Felicidad']),2),\n",
    "                   round(np.nanmax(data_red_gdp['Felicidad']),2),\n",
    "                   round(np.nanmax(data_green_gdp['Felicidad']),2)\n",
    "                   ],\n",
    "        'Amount_Country': [\n",
    "                             len(data_blue_gdp),\n",
    "                             len(data_red_gdp),\n",
    "                             len(data_green_gdp)\n",
    "                            ]\n",
    "        }\n",
    "\n",
    "ss = {'Cluster': ['Blue Cluster','Red Cluster','Green Cluster'],\n",
    "        'Min_ss': [\n",
    "                    round(np.nanmin(data_blue_ss['Felicidad']),2),\n",
    "                    round(np.nanmin(data_red_ss['Felicidad']),2),\n",
    "                    round(np.nanmin(data_green_ss['Felicidad']),2)\n",
    "                    ],\n",
    "        'Max_ss': [\n",
    "                   round(np.nanmax(data_blue_ss['Felicidad']),2),\n",
    "                   round(np.nanmax(data_red_ss['Felicidad']),2),\n",
    "                   round(np.nanmax(data_green_ss['Felicidad']),2)\n",
    "                   ],\n",
    "        'Amount_Country': [\n",
    "                             len(data_blue_ss),\n",
    "                             len(data_red_ss),\n",
    "                             len(data_green_ss)\n",
    "                            ]\n",
    "        }\n",
    "\n",
    "df_gdp = pd.DataFrame.from_dict(gdp)\n",
    "\n",
    "df_ss = pd.DataFrame(ss)\n",
    "\n",
    "print('Producto Interno Bruto\\n\\n',df_gdp, '\\n\\n\\nSoporte Social\\n\\n', df_ss)"
   ]
  },
  {
   "cell_type": "markdown",
   "metadata": {
    "id": "Kl9D5iWxUViE"
   },
   "source": [
    "#### Ordenando la Data por Nombre de País"
   ]
  },
  {
   "cell_type": "code",
   "execution_count": null,
   "metadata": {
    "colab": {
     "base_uri": "https://localhost:8080/",
     "height": 505
    },
    "id": "GMBE9YOSUYxg",
    "outputId": "7dc57ae0-ea7a-4d6a-8647-76afaee7515f"
   },
   "outputs": [],
   "source": [
    "# PIB\n",
    "data_blue_gdp.sort_values(by='Pais',inplace=True)\n",
    "data_red_gdp.sort_values(by='Pais',inplace=True)\n",
    "data_green_gdp.sort_values(by='Pais',inplace=True)\n",
    "\n",
    "# SS\n",
    "data_blue_ss.sort_values(by='Pais',inplace=True)\n",
    "data_red_ss.sort_values(by='Pais',inplace=True)\n",
    "data_green_ss.sort_values(by='Pais',inplace=True)"
   ]
  },
  {
   "cell_type": "markdown",
   "metadata": {
    "id": "zIrt6SemP9tL"
   },
   "source": [
    "### Graficando los Países de cada cluster - GDP"
   ]
  },
  {
   "cell_type": "code",
   "execution_count": null,
   "metadata": {
    "colab": {
     "base_uri": "https://localhost:8080/",
     "height": 1000
    },
    "id": "8Xbw0jxbP85g",
    "outputId": "f23896cb-999e-44b5-80a7-15707fa594f8"
   },
   "outputs": [],
   "source": [
    "#BLUE\n",
    "labels = data_blue_gdp['Pais']\n",
    "GDP = data_blue_gdp['PIB']\n",
    "width = 0.35\n",
    "\n",
    "fig, ax = plt.subplots(figsize=(30,5))\n",
    "plt.xticks(rotation=90)\n",
    "\n",
    "ax.bar(labels,GDP, width,  label='PIB')\n",
    "\n",
    "ax.set_ylabel('PIB')\n",
    "ax.set_title('BLUE: PIB bajo - Felicidad')\n",
    "\n",
    "#RED\n",
    "\n",
    "labels = data_red_gdp['Pais']\n",
    "GDP = data_red_gdp['PIB']\n",
    "width = 0.35\n",
    "\n",
    "fig, ax = plt.subplots(figsize=(30,5))\n",
    "plt.xticks(rotation=90)\n",
    "\n",
    "ax.bar(labels,GDP, width,  label='PIB', color='red')\n",
    "ax.set_ylabel('PIB')\n",
    "ax.set_title('RED: PIB intermedio - Felicidad')\n",
    "\n",
    "#GREEN\n",
    "\n",
    "labels = data_green_gdp['Pais']\n",
    "GDP = data_green_gdp['PIB']\n",
    "width = 0.35\n",
    "\n",
    "fig, ax = plt.subplots(figsize=(30,5))\n",
    "plt.xticks(rotation=90)\n",
    "\n",
    "ax.bar(labels,GDP, width,  label='PIB',  color='green')\n",
    "\n",
    "ax.set_ylabel('PIB')\n",
    "ax.set_title('GREEN: PIB alto - Felicidad')\n",
    "\n",
    "\n",
    "plt.show()"
   ]
  },
  {
   "cell_type": "markdown",
   "metadata": {
    "id": "SB7UyMRgGhUh"
   },
   "source": [
    "### Continentes en cada cluster - GDP"
   ]
  },
  {
   "cell_type": "code",
   "execution_count": null,
   "metadata": {
    "colab": {
     "base_uri": "https://localhost:8080/",
     "height": 456
    },
    "id": "u8p65kEFGnsd",
    "outputId": "b16580ed-ff02-4e37-e556-eec5d8432b81"
   },
   "outputs": [],
   "source": [
    "#BLUE\n",
    "print('Número de paises, por continente - BLUE')\n",
    "print(data_blue_gdp.Continente.value_counts())\n",
    "print('\\n')\n",
    "\n",
    "#RED\n",
    "print('Número de paises, por continente - RED')\n",
    "print(data_red_gdp.Continente.value_counts())\n",
    "print('\\n')\n",
    "\n",
    "#GREEN\n",
    "print('Número de paises, por continente - GREEN')\n",
    "print(data_green_gdp.Continente.value_counts())\n",
    "print('\\n')"
   ]
  },
  {
   "cell_type": "markdown",
   "metadata": {
    "id": "FqvuabZVoxuN"
   },
   "source": [
    "###  Graficando los Países de cada cluster - Soporte_Social"
   ]
  },
  {
   "cell_type": "code",
   "execution_count": null,
   "metadata": {
    "colab": {
     "base_uri": "https://localhost:8080/",
     "height": 1000
    },
    "id": "9NYpAGNmoxuT",
    "outputId": "e30b5f0f-1856-464b-d0aa-7b033fe842f7"
   },
   "outputs": [],
   "source": [
    "#BLUE\n",
    "labels = data_blue_ss['Pais']\n",
    "SS = data_blue_ss['Soporte_Social']\n",
    "width = 0.35\n",
    "\n",
    "fig, ax = plt.subplots(figsize=(30,5))\n",
    "plt.xticks(rotation=90)\n",
    "\n",
    "ax.bar(labels, SS, width,  label='SS')\n",
    "\n",
    "ax.set_ylabel('SS')\n",
    "ax.set_title('BLUE: SS bajo - Felicidad')\n",
    "\n",
    "#RED\n",
    "\n",
    "labels = data_red_ss['Pais']\n",
    "SS = data_red_ss['Soporte_Social']\n",
    "width = 0.35\n",
    "\n",
    "fig, ax = plt.subplots(figsize=(30,5))\n",
    "plt.xticks(rotation=90)\n",
    "\n",
    "ax.bar(labels, SS, width,  label='SS', color='red')\n",
    "ax.set_ylabel('SS')\n",
    "ax.set_title('RED: SS intermedio - Felicidad')\n",
    "\n",
    "#GREEN\n",
    "\n",
    "labels = data_green_ss['Pais']\n",
    "SS = data_green_ss['Soporte_Social']\n",
    "width = 0.35\n",
    "\n",
    "fig, ax = plt.subplots(figsize=(30,5))\n",
    "plt.xticks(rotation=90)\n",
    "\n",
    "ax.bar(labels, SS, width,  label='SS',  color='green')\n",
    "\n",
    "ax.set_ylabel('SS')\n",
    "ax.set_title('GREEN: SS alto - Felicidad')\n",
    "\n",
    "plt.show()"
   ]
  },
  {
   "cell_type": "markdown",
   "metadata": {
    "id": "W6V5vGe1jd_i"
   },
   "source": [
    "### Continentes en cada cluster - Soporte_Social"
   ]
  },
  {
   "cell_type": "code",
   "execution_count": null,
   "metadata": {
    "colab": {
     "base_uri": "https://localhost:8080/",
     "height": 440
    },
    "id": "Y603tJn7jf0o",
    "outputId": "a3cea15c-cd5f-45dc-ba80-3037b30684f0"
   },
   "outputs": [],
   "source": [
    "#BLUE\n",
    "print('Número de paises, por continente - BLUE')\n",
    "print(data_blue_ss.Continente.value_counts())\n",
    "print('\\n')\n",
    "\n",
    "#RED\n",
    "print('Número de paises, por continente - RED')\n",
    "print(data_red_ss.Continente.value_counts())\n",
    "print('\\n')\n",
    "\n",
    "#GREEN\n",
    "print('Número de paises, por continente - GREEN')\n",
    "print(data_green_ss.Continente.value_counts())\n",
    "print('\\n')"
   ]
  },
  {
   "cell_type": "markdown",
   "metadata": {
    "id": "xENCNj6tpF5e"
   },
   "source": [
    "# 3. Comparando los resultados de PIB y SS en América"
   ]
  },
  {
   "cell_type": "markdown",
   "metadata": {
    "id": "QQmKVyovQDKD"
   },
   "source": [
    "El objetivo es determinar que paises de América, tanto Norte (que incluye a Centroamérica) y Sur, tienen un GDP y Soporte_Social de **nivel medio y nivel alto**; es decir, estan ubicados dentro del RED y GREEN cluster para ambas variables, respectivamente. No consideraremos el nivel bajo (BLUE cluster) de estas variables, ya que estaremos trabajando con los paises más felicies de este continente.\n",
    "\n",
    "**Para hacerlo**, por cada nivel: \n",
    "- Determinaremos que paises estan duplicados y eliminaremos una de las copias\n",
    "- Eliminaremos aquellos paises que NO estén duplicados en ambos df (el de GDP y el de Soporte_Social) del nivel trabajado, al esto significar que no tienen tanto su GDP y Soporte_Social dentro del mismo nivel"
   ]
  },
  {
   "cell_type": "markdown",
   "metadata": {
    "id": "gj6oyTnbVIg7"
   },
   "source": [
    "### Paises con nivel Medio (RED cluster) de GDP y Soporte_Social"
   ]
  },
  {
   "cell_type": "code",
   "execution_count": null,
   "metadata": {
    "id": "ecTUDlO5XLQz"
   },
   "outputs": [],
   "source": [
    "# PIB y SS Medio (RED) - América\n",
    "red_america = pd.concat([data_red_gdp,data_red_ss])\n",
    "red_america = red_america[red_america.Continente.isin(['North America', 'South America'])]"
   ]
  },
  {
   "cell_type": "code",
   "execution_count": null,
   "metadata": {
    "colab": {
     "base_uri": "https://localhost:8080/",
     "height": 76
    },
    "id": "BtyhYRHTgEKS",
    "outputId": "5d76ce99-a178-45fe-9884-5d8574de5541"
   },
   "outputs": [],
   "source": [
    "# Determinando que paises no tienen tanto un GDP como un Soporte_Social de nivel medio\n",
    "red_america.drop_duplicates(keep=False)"
   ]
  },
  {
   "cell_type": "code",
   "execution_count": null,
   "metadata": {
    "colab": {
     "base_uri": "https://localhost:8080/",
     "height": 478
    },
    "id": "kYjodPGdXpKz",
    "outputId": "0a1e0a66-af1d-4d5c-ad60-08a40a58cabe"
   },
   "outputs": [],
   "source": [
    "# Eliminando Chile y duplicados\n",
    "red_america = red_america[red_america['Pais'] != 'Chile'].drop_duplicates()\n",
    "red_america.drop_duplicates(keep=False)"
   ]
  },
  {
   "cell_type": "markdown",
   "metadata": {
    "id": "sA34UV3UiAxa"
   },
   "source": [
    "### Paises con nivel Alto (GREEN cluster) de GDP y Soporte_Social"
   ]
  },
  {
   "cell_type": "code",
   "execution_count": null,
   "metadata": {
    "id": "gH2X2gwPiHr9"
   },
   "outputs": [],
   "source": [
    "# PIB y SS Alto (Green) - América\n",
    "green_america = pd.concat([data_green_gdp,data_green_ss])\n",
    "green_america = green_america[green_america.Continente.isin(['North America', 'South America'])]"
   ]
  },
  {
   "cell_type": "code",
   "execution_count": null,
   "metadata": {
    "colab": {
     "base_uri": "https://localhost:8080/",
     "height": 76
    },
    "id": "d3_kdIJMiaIj",
    "outputId": "dc5d90f5-1b36-4a49-809e-07e925659759"
   },
   "outputs": [],
   "source": [
    "# Determinando que paises no tienen tanto un GDP como un Soporte_Social de nivel alto\n",
    "green_america.drop_duplicates(keep=False)"
   ]
  },
  {
   "cell_type": "code",
   "execution_count": null,
   "metadata": {
    "colab": {
     "base_uri": "https://localhost:8080/",
     "height": 162
    },
    "id": "Zltpqc9DiiKp",
    "outputId": "94b0139e-aa2b-4963-c3a7-2cf5a49e775b"
   },
   "outputs": [],
   "source": [
    "# Eliminando Chile y duplicados\n",
    "green_america = green_america[green_america['Pais'] != 'Chile'].drop_duplicates()\n",
    "green_america.drop_duplicates(keep=False)"
   ]
  },
  {
   "cell_type": "markdown",
   "metadata": {
    "id": "aekgMxQ749Ib"
   },
   "source": [
    "### Paises más felices de América"
   ]
  },
  {
   "cell_type": "code",
   "execution_count": null,
   "metadata": {
    "colab": {
     "base_uri": "https://localhost:8080/",
     "height": 335
    },
    "id": "ie8oKiobjgNt",
    "outputId": "a68c0ae0-3686-4cd8-c18c-17ef2e9d6150"
   },
   "outputs": [],
   "source": [
    "all_america = pd.concat([red_america, green_america]).drop_duplicates()\n",
    "all_america.nlargest(10, columns='Felicidad')"
   ]
  },
  {
   "cell_type": "markdown",
   "metadata": {
    "id": "tH-XLGit5Fwx"
   },
   "source": [
    "## Comparando métricas de paises de América"
   ]
  },
  {
   "cell_type": "markdown",
   "metadata": {
    "id": "IV_FekG1lPt8"
   },
   "source": [
    "### PIB, Puntaje de Felicidad y Corrupción"
   ]
  },
  {
   "cell_type": "code",
   "execution_count": null,
   "metadata": {
    "colab": {
     "base_uri": "https://localhost:8080/",
     "height": 408
    },
    "id": "A4xs4TieiXJS",
    "outputId": "1b3f87ea-a7fa-4d6a-c379-3209945efb29"
   },
   "outputs": [],
   "source": [
    "# Gráfica de barras\n",
    "fig, ax = plt.subplots(figsize=(20,5))\n",
    "\n",
    "plt.bar(all_america['Pais'], all_america['PIB'], label='PIB')\n",
    "plt.bar(all_america['Pais'], all_america['Felicidad']/10, label='Felicidad')\n",
    "plt.bar(all_america['Pais'], all_america['Percepcion_Corrupcion'], label='Corrupcion')\n",
    "\n",
    "\n",
    "plt.xticks(rotation=90)\n",
    "\n",
    "\n",
    "plt.legend()\n",
    "plt.show()"
   ]
  },
  {
   "cell_type": "markdown",
   "metadata": {
    "id": "Gq95nS_vMLqF"
   },
   "source": [
    "# 4. Histórico de paises del mundo"
   ]
  },
  {
   "cell_type": "code",
   "execution_count": null,
   "metadata": {
    "id": "w665YBFAwGq4"
   },
   "outputs": [],
   "source": [
    "# importando data del 2015 al 2019\n",
    "d15 = pd.read_csv(archivo_2015)\n",
    "d16 = pd.read_csv(archivo_2016)\n",
    "d17 = pd.read_csv(archivo_2017)\n",
    "d18 = pd.read_csv(archivo_2018)\n",
    "d19 = pd.read_csv(archivo_2019)\n",
    "\n",
    "d15['Year'] = '2015'\n",
    "d16['Year'] = '2016'\n",
    "d17['Year'] = '2017'\n",
    "d18['Year'] = '2018'\n",
    "d19['Year'] = '2019'\n",
    "\n",
    "# El nombre y orden de las columnas es diferente en cada dataset \n",
    "d15 = d15.iloc[:, [0,3,5,9,-1]]\n",
    "d16 = d16.iloc[:, [0,3,6,10,-1]]\n",
    "d17 = d17.iloc[:, [0,2,5,10,-1]]\n",
    "d18 = d18.iloc[:, [1,2,3,8,-1]]\n",
    "d19 = d19.iloc[:, [1,2,3,8,-1]]\n",
    "\n",
    "col_names = ['pais','felicidad','pib','corrupcion','year']\n",
    "d15.columns = col_names\n",
    "d16.columns = col_names\n",
    "d17.columns = col_names\n",
    "d18.columns = col_names\n",
    "d19.columns = col_names"
   ]
  },
  {
   "cell_type": "code",
   "execution_count": null,
   "metadata": {
    "id": "NXYxh3iuxvVA"
   },
   "outputs": [],
   "source": [
    "all_years = pd.concat([d15, d16, d17, d18, d19])\n",
    "all_years['Continente'] = all_years['pais'].apply(get_continent)\n",
    "\n",
    "# Se divide el puntaje de felicidad (happiness) \n",
    "# y el GDP (PID) entre 100 y 10, respectivamente, para una mejor visualización de la data al graficarla\n",
    "all_years['felicidad'] = all_years['felicidad']/100\n",
    "all_years['pib'] = all_years['pib']/10"
   ]
  },
  {
   "cell_type": "code",
   "execution_count": null,
   "metadata": {
    "colab": {
     "base_uri": "https://localhost:8080/",
     "height": 627
    },
    "id": "MLiLeC5h3XCV",
    "outputId": "6a8fdc0b-e72f-4a5a-e5f9-4bd499e01ec7"
   },
   "outputs": [],
   "source": [
    "fig = plt.subplots(figsize=(20,10))\n",
    "sns.lineplot(data=all_years, x=\"year\", y=\"corrupcion\", hue=\"Continente\", ci=None)\n",
    "plt.title(\"Histórico de Corrupción (percepción)\", fontsize=16)\n",
    "plt.xlabel(\"Años\", fontsize=14)\n",
    "plt.ylabel(\"Corrupción\", fontsize=14)\n",
    "plt.minorticks_on()\n",
    "plt.tick_params(axis='y', which='both', length=6)"
   ]
  },
  {
   "cell_type": "markdown",
   "metadata": {
    "id": "GneGHoRuqTtn"
   },
   "source": [
    "Ya que Oceania solo cuenta con 2 paises, excluiremos este continente de nuestra gráfica."
   ]
  },
  {
   "cell_type": "code",
   "execution_count": null,
   "metadata": {
    "colab": {
     "base_uri": "https://localhost:8080/",
     "height": 627
    },
    "id": "pIO6jHmUodv_",
    "outputId": "ebc8aa17-b74f-42b0-a942-a34123b5d39b"
   },
   "outputs": [],
   "source": [
    "fig = plt.subplots(figsize=(20,10))\n",
    "sns.lineplot(data=all_years, x=\"year\", y=\"corrupcion\", hue=\"Continente\", ci=None)\n",
    "plt.title(\"Histórico de Corrupción (percepción)\", fontsize=16)\n",
    "plt.xlabel(\"Años\", fontsize=14)\n",
    "plt.ylabel(\"Corrupción\", fontsize=14)\n",
    "plt.ylim(0.06,0.18)\n",
    "plt.minorticks_on()\n",
    "plt.tick_params(axis='y', which='both', length=6)"
   ]
  },
  {
   "cell_type": "code",
   "execution_count": null,
   "metadata": {
    "id": "-99YgdWctgXe"
   },
   "outputs": [],
   "source": [
    "# Función para comparar la Falicidad, la percepción de Corrupción y el GDP \n",
    "\n",
    "def hcg(country):\n",
    "  fig, (ax1, ax2, ax3) = plt.subplots(nrows=1, ncols=3,figsize=(20,5))\n",
    "\n",
    "  # Gráfica de felicidad\n",
    "  sns.lineplot(data=all_years[all_years['pais']==country], x=\"year\", y=\"felicidad\", ci=None, color=\"blue\", label=\"Felicidad\",ax=ax1 )\n",
    "\n",
    "  # Gráfica de corrupción\n",
    "  sns.lineplot(data=all_years[all_years['pais']==country], x=\"year\", y=\"corrupcion\", ci=None, color=\"green\", label = \"Corrupción\",ax=ax2)\n",
    "\n",
    "  # Gráfica de PIB\n",
    "  sns.lineplot(data=all_years[all_years['pais']==country], x=\"year\", y=\"pib\", ci=True, color=\"red\", label = \"PIB\",ax=ax3)\n",
    "\n",
    "  ax1.set(ylabel=None, xlabel=None)\n",
    "  ax2.set(ylabel=None, xlabel=None)\n",
    "  ax3.set(ylabel=None, xlabel=None)"
   ]
  },
  {
   "cell_type": "markdown",
   "metadata": {
    "id": "zSHlTu-guy7T"
   },
   "source": [
    "### Panama"
   ]
  },
  {
   "cell_type": "code",
   "execution_count": null,
   "metadata": {
    "colab": {
     "base_uri": "https://localhost:8080/",
     "height": 320
    },
    "id": "BVrNbrbRwnh1",
    "outputId": "0c3c6038-0342-4de3-efc0-b1ce46f7eac7"
   },
   "outputs": [],
   "source": [
    "hcg('Panama')"
   ]
  },
  {
   "cell_type": "markdown",
   "metadata": {
    "id": "DCgKuEgPwOIh"
   },
   "source": [
    "### Venezuela"
   ]
  },
  {
   "cell_type": "code",
   "execution_count": null,
   "metadata": {
    "colab": {
     "base_uri": "https://localhost:8080/",
     "height": 320
    },
    "id": "N3KK9G_DxGSZ",
    "outputId": "22d659db-71ab-42b9-fc74-6351edef02b3"
   },
   "outputs": [],
   "source": [
    "hcg('Venezuela')"
   ]
  },
  {
   "cell_type": "markdown",
   "metadata": {
    "id": "Z8gZaFwTwNsH"
   },
   "source": [
    "### Costa Rica"
   ]
  },
  {
   "cell_type": "code",
   "execution_count": null,
   "metadata": {
    "colab": {
     "base_uri": "https://localhost:8080/",
     "height": 320
    },
    "id": "Awbn6qEww8sE",
    "outputId": "9f69d456-4573-498c-d1a4-da696a37f8f1"
   },
   "outputs": [],
   "source": [
    "hcg('Costa Rica')"
   ]
  },
  {
   "cell_type": "markdown",
   "metadata": {
    "id": "iCo8mHpXwOn4"
   },
   "source": [
    "### Estados Unidos"
   ]
  },
  {
   "cell_type": "code",
   "execution_count": null,
   "metadata": {
    "colab": {
     "base_uri": "https://localhost:8080/",
     "height": 320
    },
    "id": "RYtHsmXlxMUC",
    "outputId": "264ddeb7-8615-4850-cfe7-3b214a69c23f"
   },
   "outputs": [],
   "source": [
    "hcg('United States')"
   ]
  },
  {
   "cell_type": "markdown",
   "metadata": {
    "id": "DlYNufHpwNKG"
   },
   "source": [
    "### Canada"
   ]
  },
  {
   "cell_type": "code",
   "execution_count": null,
   "metadata": {
    "colab": {
     "base_uri": "https://localhost:8080/",
     "height": 320
    },
    "id": "ddyo6TQAxUWC",
    "outputId": "ac92ca6a-871b-4383-cf5b-66022975595b"
   },
   "outputs": [],
   "source": [
    "hcg('Canada')"
   ]
  },
  {
   "cell_type": "markdown",
   "metadata": {
    "id": "Bw_IHuRVwgDc"
   },
   "source": [
    "### Argentina"
   ]
  },
  {
   "cell_type": "code",
   "execution_count": null,
   "metadata": {
    "colab": {
     "base_uri": "https://localhost:8080/",
     "height": 320
    },
    "id": "Te0dM5BlxUpv",
    "outputId": "ef50e9cc-f659-4742-9b4a-57ea460739ef"
   },
   "outputs": [],
   "source": [
    "hcg('Argentina')"
   ]
  },
  {
   "cell_type": "markdown",
   "metadata": {
    "id": "JOHl2ok7wRzs"
   },
   "source": [
    "### Otro?"
   ]
  },
  {
   "cell_type": "code",
   "execution_count": null,
   "metadata": {
    "colab": {
     "base_uri": "https://localhost:8080/",
     "height": 323
    },
    "id": "iJzkWnO7xBqv",
    "outputId": "745427b1-08a7-45ef-8069-2b8ad31b703f"
   },
   "outputs": [],
   "source": [
    "hcg('')"
   ]
  }
 ],
 "metadata": {
  "colab": {
   "collapsed_sections": [],
   "name": "Hapinness Clusters - Eliana.ipynb",
   "provenance": [],
   "toc_visible": true
  },
  "kernelspec": {
   "display_name": "Python 3",
   "language": "python",
   "name": "python3"
  },
  "language_info": {
   "codemirror_mode": {
    "name": "ipython",
    "version": 3
   },
   "file_extension": ".py",
   "mimetype": "text/x-python",
   "name": "python",
   "nbconvert_exporter": "python",
   "pygments_lexer": "ipython3",
   "version": "3.8.3"
  }
 },
 "nbformat": 4,
 "nbformat_minor": 1
}
