{
 "cells": [
  {
   "cell_type": "markdown",
   "metadata": {
    "id": "BTfjOj5rPnA7"
   },
   "source": [
    "# **Informe mundial sobre la Felicidad**\n",
    "\n",
    "# 1. La felicidad puntuada según la producción económica, el apoyo social, y otros factores\n",
    "\n",
    "El Informe Mundial sobre la Felicidad es una encuesta histórica sobre el estado de la felicidad mundial. El primer informe se publicó en 2012, el segundo en 2013, el tercero en 2015 y el cuarto en la Actualización de 2016. El World Happiness 2017, que **clasifica a 155 países** por sus niveles de felicidad, fue lanzado en las Naciones Unidas en un evento que celebra el Día Internacional de la Felicidad el 20 de marzo. \n",
    "\n",
    "El informe continúa ganando reconocimiento mundial a medida que los gobiernos, las organizaciones y la sociedad civil utilizan cada vez más los indicadores de felicidad para informar sus decisiones de formulación de políticas. Los principales expertos en todos los campos (economía, psicología, análisis de encuestas, estadísticas nacionales, salud, políticas públicas y más) describen cómo las mediciones del bienestar se pueden utilizar de manera efectiva para evaluar el progreso de las naciones. Los informes revisan el estado de la felicidad en el mundo actual y muestran cómo la nueva ciencia de la felicidad explica las variaciones personales y nacionales de la felicidad."
   ]
  },
  {
   "cell_type": "code",
   "execution_count": null,
   "metadata": {
    "colab": {
     "base_uri": "https://localhost:8080/",
     "height": 301
    },
    "id": "80CDEqHVWhFr",
    "outputId": "eec75e8a-cc3d-44fc-c00e-f2d359efbc72"
   },
   "outputs": [],
   "source": [
    "# instalacion de la libreria para convertir valores relacionados a paises\n",
    "!pip install pycountry-convert\n",
    "#dataset = https://www.kaggle.com/unsdsn/world-happiness"
   ]
  },
  {
   "cell_type": "code",
   "execution_count": null,
   "metadata": {
    "id": "JVeUT6vjWy3B"
   },
   "outputs": [],
   "source": [
    "import pandas as pd\n",
    "import numpy as np\n",
    "import matplotlib.pyplot as plt\n",
    "import matplotlib.gridspec as gridspec\n",
    "import pycountry_convert as pc\n",
    "import seaborn as sns\n",
    "\n",
    "import warnings\n",
    "warnings.filterwarnings(\"ignore\")"
   ]
  },
  {
   "cell_type": "code",
   "execution_count": null,
   "metadata": {},
   "outputs": [],
   "source": [
    "archivo_2015 = 'https://raw.githubusercontent.com/gmhoward/amalia20-taller_ml/master/datos/paises-metricos-2015.csv'\n",
    "archivo_2016 = 'https://raw.githubusercontent.com/gmhoward/amalia20-taller_ml/master/datos/paises-metricos-2016.csv'\n",
    "archivo_2017 = 'https://raw.githubusercontent.com/gmhoward/amalia20-taller_ml/master/datos/paises-metricos-2017.csv'\n",
    "archivo_2018 = 'https://raw.githubusercontent.com/gmhoward/amalia20-taller_ml/master/datos/paises-metricos-2018.csv'\n",
    "archivo_2019 = 'https://raw.githubusercontent.com/gmhoward/amalia20-taller_ml/master/datos/paises-metricos-2019.csv'"
   ]
  },
  {
   "cell_type": "code",
   "execution_count": null,
   "metadata": {
    "colab": {
     "base_uri": "https://localhost:8080/",
     "height": 197
    },
    "id": "y7FnMewoW-E3",
    "outputId": "5c9ca1c1-657d-4fd7-8af5-c533d4985855"
   },
   "outputs": [],
   "source": [
    "df = pd.read_csv(archivo_2019, names=['Ranking','Pais','Felicidad','PIB','Soporte_Social','Expectativa_vida_saludable','Libertad_Expresion','Generosidad','Percepcion_Corrupcion'], header=0)\n",
    "df.head()"
   ]
  },
  {
   "cell_type": "code",
   "execution_count": null,
   "metadata": {
    "colab": {
     "base_uri": "https://localhost:8080/",
     "height": 331
    },
    "id": "InAcS4Ed0xMR",
    "outputId": "29887109-fb8c-4d48-8d40-1c626d82c189"
   },
   "outputs": [],
   "source": [
    "happy = df['Felicidad']\n",
    "GDP = df['PIB']\n",
    "ss = df['Soporte_Social']\n",
    "health = df['Expectativa_vida_saludable']\n",
    "generosity = df['Generosidad']\n",
    "freedom = df['Libertad_Expresion']\n",
    "corruption = df['Percepcion_Corrupcion']\n",
    "\n",
    "\n",
    "width = 0.35\n",
    "\n",
    "fig2 = plt.figure(constrained_layout=True)\n",
    "\n",
    "spec2 = gridspec.GridSpec(ncols=3, nrows=2, figure=fig2)\n",
    "\n",
    "# Happy \n",
    "f2_ax1 = fig2.add_subplot(spec2[0, 0])\n",
    "f2_ax1.scatter(corruption, happy, width, color='red')\n",
    "f2_ax1.set_xlabel('Corrupcion')\n",
    "f2_ax1.set_ylabel('Felicidad')\n",
    "\n",
    "# GPD\n",
    "f2_ax2 = fig2.add_subplot(spec2[0, 1])\n",
    "f2_ax2.scatter(GDP,happy, width, color='blue')\n",
    "f2_ax2.set_ylabel('Felicidad')\n",
    "f2_ax2.set_xlabel('PIB')\n",
    "\n",
    "# Soporte_Social\n",
    "f2_ax3 = fig2.add_subplot(spec2[0, 2])\n",
    "f2_ax3.scatter(ss,happy, width, color='green')\n",
    "f2_ax3.set_ylabel('Felicidad')\n",
    "f2_ax3.set_xlabel('Soporte_Social')\n",
    "\n",
    "# Expectativa_vida_saludable\n",
    "f2_ax4 = fig2.add_subplot(spec2[1, 0])\n",
    "f2_ax4.scatter(health,happy, width, color='orange')\n",
    "f2_ax4.set_ylabel('Felicidad')\n",
    "f2_ax4.set_xlabel('Exp. Vida Saludable')\n",
    "\n",
    "# Libertad_Expresion\n",
    "f2_ax5 = fig2.add_subplot(spec2[1, 1])\n",
    "f2_ax5.scatter(freedom,happy, width, color='purple')\n",
    "f2_ax5.set_ylabel('Felicidad')\n",
    "f2_ax5.set_xlabel('Libertdad')\n",
    "\n",
    "# Generosidad\n",
    "f2_ax6 = fig2.add_subplot(spec2[1, 2])\n",
    "f2_ax6.scatter(generosity,happy, width, color='brown')\n",
    "f2_ax6.set_ylabel('Felicidad')\n",
    "f2_ax6.set_xlabel('Generosidad')"
   ]
  },
  {
   "cell_type": "markdown",
   "metadata": {
    "id": "DV91LWIuRz_0"
   },
   "source": [
    "Podemos observar que el **Felicidad**, que representa el *puntaje de felicidad de un pais*, depende claramente de 3 factores:\n",
    "- **PIB**; o el Producto Interno Bruto\n",
    "- **Soporte_Social**: acceso a amigos y otras personas, incluida la familia, a quienes acudir en momentos de necesidad o crisis para darle un enfoque más amplio y una imagen positiva de sí mismo.\n",
    "- **Expectativa_vida_saludable**; o la expectativa de vida saludable\n",
    "\n",
    "Otro factor que vemos que tiene un impacto no tan claro, pero que igual parece tener influencia sobre el puntaje de felicidad de un pais es **Libertad_Expresion**; es decir, la libertad de tomar deciciones de vida propias.\n",
    "\n",
    "Esta correlacion entre el puntaje de felicidad y la variables previamente mencionadas se puede apreciar con mayor claridad en la siguiente matriz, en la cual, mientras **más cerca de 1.0** este el puntaje, **más correlación existe entre las variables** que se cruzan."
   ]
  },
  {
   "cell_type": "code",
   "execution_count": null,
   "metadata": {
    "colab": {
     "base_uri": "https://localhost:8080/",
     "height": 397
    },
    "id": "9E61kY8jmX1i",
    "outputId": "4139fccf-9256-4851-c6ec-d8c7fedce39d"
   },
   "outputs": [],
   "source": [
    "data = df.iloc[:,1:]\n",
    "corrMatrix = data.corr()\n",
    "sns.heatmap(corrMatrix, cmap = 'Blues', annot = True)\n",
    "plt.show()"
   ]
  },
  {
   "cell_type": "markdown",
   "metadata": {
    "id": "YRtZhgh9-d89"
   },
   "source": [
    "## Gráficas de Felicidad"
   ]
  },
  {
   "cell_type": "code",
   "execution_count": null,
   "metadata": {
    "colab": {
     "base_uri": "https://localhost:8080/",
     "height": 197
    },
    "id": "FoEUxkXQ-d9B",
    "outputId": "8b133711-9023-4cc7-f34b-8b26b4f5053c"
   },
   "outputs": [],
   "source": [
    "df.head()"
   ]
  },
  {
   "cell_type": "code",
   "execution_count": null,
   "metadata": {
    "colab": {
     "base_uri": "https://localhost:8080/",
     "height": 35
    },
    "id": "gEZLdgjlX92Y",
    "outputId": "c7bdd184-d1b1-4399-a1a7-d8ec629fea51"
   },
   "outputs": [],
   "source": [
    "country_code = pc.country_name_to_country_alpha2(\"Panama\", cn_name_format=\"default\")\n",
    "continent_name = pc.convert_continent_code_to_continent_name(pc.country_alpha2_to_continent_code(country_code))\n",
    "continent_name"
   ]
  },
  {
   "cell_type": "code",
   "execution_count": null,
   "metadata": {
    "id": "Sxa8-Z7eXYjo"
   },
   "outputs": [],
   "source": [
    "def get_continent(country):\n",
    "  try :\n",
    "    country_code = pc.country_name_to_country_alpha2(country, cn_name_format=\"default\")\n",
    "    continent_name = pc.convert_continent_code_to_continent_name(\n",
    "                                      pc.country_alpha2_to_continent_code(country_code)\n",
    "                                      )\n",
    "    return continent_name\n",
    "  except:\n",
    "    return None\n",
    "\n",
    "df['Continente'] = df['Pais'].apply(get_continent)"
   ]
  },
  {
   "cell_type": "code",
   "execution_count": null,
   "metadata": {
    "id": "4yKx-MC4-uWo"
   },
   "outputs": [],
   "source": [
    "df = df[['Ranking', 'Pais','Continente', 'Percepcion_Corrupcion', 'PIB',\n",
    "       'Soporte_Social', 'Expectativa_vida_saludable',\n",
    "       'Libertad_Expresion', 'Generosidad','Felicidad'\n",
    "       ]]"
   ]
  },
  {
   "cell_type": "code",
   "execution_count": null,
   "metadata": {
    "colab": {
     "base_uri": "https://localhost:8080/",
     "height": 197
    },
    "id": "rmYV2UXzYVXl",
    "outputId": "9dbc3544-ecb0-4c8d-81db-6e8a0f1f91ac"
   },
   "outputs": [],
   "source": [
    "df[df['Continente'].isna()]"
   ]
  },
  {
   "cell_type": "markdown",
   "metadata": {
    "id": "jaEvA--qYS1M"
   },
   "source": [
    "Podemos notar que algunos paises quedaron sin categoria. Dejarlos sin categoría solo tendrá un impacto significativo en el puntaje de felicidad promedio en aquellos continentes o subcontinentes conformados por pocos paises, como América del Sur y Oceanía.\n",
    "\n",
    "Uno de estos paises, **Trinidad & Tobago**, forma parte de Suramérica, que, dentro de nuestra data, solo cuenta con 10 paises. Lo más prudente será categorizarlo manualmente.\n"
   ]
  },
  {
   "cell_type": "code",
   "execution_count": null,
   "metadata": {
    "colab": {
     "base_uri": "https://localhost:8080/",
     "height": 35
    },
    "id": "1MlR2Rmyg38A",
    "outputId": "b1bdac71-2026-4337-93bc-7a9924d84a6c"
   },
   "outputs": [],
   "source": [
    "df.loc[38,'Pais'] = \"South America\"\n",
    "df.loc[38,'Pais']"
   ]
  },
  {
   "cell_type": "markdown",
   "metadata": {
    "id": "XBgx2gZxg2aj"
   },
   "source": [
    "Tambien revisemos que dentro los paises sin categorizar no se encuentren los paises con el puntaje de felicidad máximo y mínimo."
   ]
  },
  {
   "cell_type": "code",
   "execution_count": null,
   "metadata": {
    "colab": {
     "base_uri": "https://localhost:8080/",
     "height": 176
    },
    "id": "4m-vGaedcD_j",
    "outputId": "4eae5dd7-f585-4337-8841-d24355cef626"
   },
   "outputs": [],
   "source": [
    "df['Felicidad'].describe()"
   ]
  },
  {
   "cell_type": "markdown",
   "metadata": {
    "id": "sDFBrq99-d9u"
   },
   "source": [
    "### Felicidad Vs PIB (Producto Interno Bruto)"
   ]
  },
  {
   "cell_type": "code",
   "execution_count": null,
   "metadata": {
    "id": "GC9gq3rZ-d9v"
   },
   "outputs": [],
   "source": [
    "X = df.iloc[:, [4, -1]].values"
   ]
  },
  {
   "cell_type": "code",
   "execution_count": null,
   "metadata": {
    "colab": {
     "base_uri": "https://localhost:8080/",
     "height": 294
    },
    "id": "C0lVMUYz-d9y",
    "outputId": "a74ebf9f-80a5-47f5-f122-f634462d404f"
   },
   "outputs": [],
   "source": [
    "from sklearn.cluster import KMeans\n",
    "wcss = []\n",
    "\n",
    "for i in range(1, 11):\n",
    "    kmeans = KMeans(n_clusters = i, init = 'k-means++', random_state = 42)\n",
    "    kmeans.fit(X)\n",
    "    wcss.append(kmeans.inertia_)\n",
    "\n",
    "plt.plot(range(1, 11), wcss)\n",
    "\n",
    "plt.title('El Metodo Codo (Elbow)')\n",
    "plt.xlabel('Número de clusters')\n",
    "plt.show()"
   ]
  },
  {
   "cell_type": "code",
   "execution_count": null,
   "metadata": {
    "id": "gkg6wsmT-d91"
   },
   "outputs": [],
   "source": [
    "kmeans = KMeans(n_clusters = 3, init = 'k-means++', random_state = 42)\n",
    "y_kmeans = kmeans.fit_predict(X)"
   ]
  },
  {
   "cell_type": "code",
   "execution_count": null,
   "metadata": {
    "colab": {
     "base_uri": "https://localhost:8080/",
     "height": 336
    },
    "id": "ab2vYSse-d93",
    "outputId": "20accdde-ae7c-471d-afa6-a0ad061074c8"
   },
   "outputs": [],
   "source": [
    "plt.figure(figsize=(5,5))\n",
    "\n",
    "plt.scatter(X[y_kmeans == 0, 0], X[y_kmeans == 0, 1], s = 100, c = 'red', label = 'Cluster 1')\n",
    "plt.scatter(X[y_kmeans == 1, 0], X[y_kmeans == 1, 1], s = 100, c = 'blue', label = 'Cluster 2')\n",
    "plt.scatter(X[y_kmeans == 2, 0], X[y_kmeans == 2, 1], s = 100, c = 'green', label = 'Cluster 3')\n",
    "# plt.scatter(X[y_kmeans == 3, 0], X[y_kmeans == 3, 1], s = 100, c = 'purple', label = 'Cluster 4')\n",
    "# plt.scatter(X[y_kmeans == 4, 0], X[y_kmeans == 4, 1], s = 100, c = 'cyan', label = 'Cluster 5')\n",
    "\n",
    "plt.scatter(kmeans.cluster_centers_[:, 0], kmeans.cluster_centers_[:, 1], s = 300, c = 'yellow', label = 'Centroids')\n",
    "\n",
    "plt.xlabel('PIB')\n",
    "plt.ylabel('Puntaje de Felicidad')\n",
    "\n",
    "plt.legend()\n",
    "plt.show()"
   ]
  },
  {
   "cell_type": "code",
   "execution_count": null,
   "metadata": {
    "id": "4muDGZIRnmwC"
   },
   "outputs": [],
   "source": [
    "data_red_gdp =  df[df['Felicidad'].isin(X[y_kmeans == 0, 1])]\n",
    "data_blue_gdp = df[df['Felicidad'].isin(X[y_kmeans == 1, 1])]\n",
    "data_green_gdp = df[df['Felicidad'].isin(X[y_kmeans == 2, 1])]"
   ]
  },
  {
   "cell_type": "markdown",
   "metadata": {
    "id": "zR1Je2r2nMjs"
   },
   "source": [
    "### Felicidad Vs Soporte_Social (Apoyo Social)"
   ]
  },
  {
   "cell_type": "code",
   "execution_count": null,
   "metadata": {
    "id": "orifPu1VnMjt"
   },
   "outputs": [],
   "source": [
    "X = df.iloc[:, [5, -1]].values"
   ]
  },
  {
   "cell_type": "code",
   "execution_count": null,
   "metadata": {
    "colab": {
     "base_uri": "https://localhost:8080/",
     "height": 350
    },
    "id": "vTolH4IUnMjw",
    "outputId": "56b253bc-335b-459b-fabf-20175986058b"
   },
   "outputs": [],
   "source": [
    "from sklearn.cluster import KMeans\n",
    "wcss = []\n",
    "fig = plt.subplots(figsize=(5,5))\n",
    "\n",
    "for i in range(1, 11):\n",
    "    kmeans = KMeans(n_clusters = i, init = 'k-means++', random_state = 42)\n",
    "    kmeans.fit(X)\n",
    "    wcss.append(kmeans.inertia_)\n",
    "\n",
    "plt.plot(range(1, 11), wcss)\n",
    "\n",
    "plt.title('El Metodo de Codo (Elbow)')\n",
    "plt.xlabel('Número of clusters')\n",
    "\n",
    "plt.show()"
   ]
  },
  {
   "cell_type": "code",
   "execution_count": null,
   "metadata": {
    "id": "d_Y9iHqMnMjz"
   },
   "outputs": [],
   "source": [
    "kmeans = KMeans(n_clusters = 3, init = 'k-means++', random_state = 42)\n",
    "y_kmeans = kmeans.fit_predict(X)"
   ]
  },
  {
   "cell_type": "code",
   "execution_count": null,
   "metadata": {
    "colab": {
     "base_uri": "https://localhost:8080/",
     "height": 337
    },
    "id": "czGJ9HYcnMj1",
    "outputId": "8a749ae6-04f0-49a3-c36e-1a46b513367c"
   },
   "outputs": [],
   "source": [
    "plt.figure(figsize=(5,5))\n",
    "\n",
    "plt.scatter(X[y_kmeans == 0, 0], X[y_kmeans == 0, 1], s = 100, c = 'red', label = 'Cluster 1')\n",
    "plt.scatter(X[y_kmeans == 1, 0], X[y_kmeans == 1, 1], s = 100, c = 'blue', label = 'Cluster 2')\n",
    "plt.scatter(X[y_kmeans == 2, 0], X[y_kmeans == 2, 1], s = 100, c = 'green', label = 'Cluster 3')\n",
    "# plt.scatter(X[y_kmeans == 3, 0], X[y_kmeans == 3, 1], s = 100, c = 'purple', label = 'Cluster 4')\n",
    "# plt.scatter(X[y_kmeans == 4, 0], X[y_kmeans == 4, 1], s = 100, c = 'cyan', label = 'Cluster 5')\n",
    "\n",
    "plt.scatter(kmeans.cluster_centers_[:, 0], kmeans.cluster_centers_[:, 1], s = 300, c = 'yellow', label = 'Centroids')\n",
    "\n",
    "plt.xlabel('Soporte_Social')\n",
    "plt.ylabel('Puntaje de Felicidad')\n",
    "\n",
    "plt.legend()\n",
    "plt.show()"
   ]
  },
  {
   "cell_type": "code",
   "execution_count": null,
   "metadata": {
    "id": "G-RNeQk1-d98"
   },
   "outputs": [],
   "source": [
    "data_red_ss =  df[df['Felicidad'].isin(X[y_kmeans == 0, 1])]\n",
    "data_blue_ss = df[df['Felicidad'].isin(X[y_kmeans == 1, 1])]\n",
    "data_green_ss = df[df['Felicidad'].isin(X[y_kmeans == 2, 1])]"
   ]
  },
  {
   "cell_type": "markdown",
   "metadata": {
    "id": "1agk606mAQ1-"
   },
   "source": [
    "### Felicidad Vs Expectativa_vida_saludable (Expectativa de Vida Saludable)"
   ]
  },
  {
   "cell_type": "markdown",
   "metadata": {
    "id": "cmwmCs6mCN1d"
   },
   "source": [
    "Utilizando los pasos aprendidos arriba, haz una analisis para determinar la relacion entre la felicidad y el factor de expectativa de vida saludable. "
   ]
  },
  {
   "cell_type": "code",
   "execution_count": null,
   "metadata": {},
   "outputs": [],
   "source": []
  },
  {
   "cell_type": "markdown",
   "metadata": {
    "id": "QynZI6HzPJXu"
   },
   "source": [
    "# 2. Análisis de la Data - GDP y Soporte_Social"
   ]
  },
  {
   "cell_type": "code",
   "execution_count": null,
   "metadata": {
    "colab": {
     "base_uri": "https://localhost:8080/",
     "height": 265
    },
    "id": "H-CQIHlqOFsJ",
    "outputId": "700f8053-adbd-412d-e37f-ea964b58a04e"
   },
   "outputs": [],
   "source": [
    "# Tabla con valores min y max, y número de paises\n",
    "\n",
    "gdp = {'Cluster': ['Blue Cluster','Red Cluster','Green Cluster'],\n",
    "        'Min_GPD': [\n",
    "                    round(np.nanmin(data_blue_gdp['Felicidad']),2),\n",
    "                    round(np.nanmin(data_red_gdp['Felicidad']),2),\n",
    "                    round(np.nanmin(data_green_gdp['Felicidad']),2)\n",
    "                    ],\n",
    "        'Max_GPD': [\n",
    "                   round(np.nanmax(data_blue_gdp['Felicidad']),2),\n",
    "                   round(np.nanmax(data_red_gdp['Felicidad']),2),\n",
    "                   round(np.nanmax(data_green_gdp['Felicidad']),2)\n",
    "                   ],\n",
    "        'Amount_Country': [\n",
    "                             len(data_blue_gdp),\n",
    "                             len(data_red_gdp),\n",
    "                             len(data_green_gdp)\n",
    "                            ]\n",
    "        }\n",
    "\n",
    "ss = {'Cluster': ['Blue Cluster','Red Cluster','Green Cluster'],\n",
    "        'Min_ss': [\n",
    "                    round(np.nanmin(data_blue_ss['Felicidad']),2),\n",
    "                    round(np.nanmin(data_red_ss['Felicidad']),2),\n",
    "                    round(np.nanmin(data_green_ss['Felicidad']),2)\n",
    "                    ],\n",
    "        'Max_ss': [\n",
    "                   round(np.nanmax(data_blue_ss['Felicidad']),2),\n",
    "                   round(np.nanmax(data_red_ss['Felicidad']),2),\n",
    "                   round(np.nanmax(data_green_ss['Felicidad']),2)\n",
    "                   ],\n",
    "        'Amount_Country': [\n",
    "                             len(data_blue_ss),\n",
    "                             len(data_red_ss),\n",
    "                             len(data_green_ss)\n",
    "                            ]\n",
    "        }\n",
    "\n",
    "\n",
    "df_gdp = pd.DataFrame(gdp, columns = ['Cluster','Min_PIB', 'Max_PIB', 'Cantidad_Paises'])\n",
    "\n",
    "df_ss = pd.DataFrame(ss, columns = ['Cluster','Min_ss', 'Max_ss', 'Cantidad_Paises'])\n",
    "\n",
    "print('Producto Interno Bruto\\n\\n',df_gdp, '\\n\\n\\nSoporte Social\\n\\n', df_ss)"
   ]
  },
  {
   "cell_type": "markdown",
   "metadata": {
    "id": "Kl9D5iWxUViE"
   },
   "source": [
    "#### Ordenando la Data por Nombre de País"
   ]
  },
  {
   "cell_type": "code",
   "execution_count": null,
   "metadata": {
    "colab": {
     "base_uri": "https://localhost:8080/",
     "height": 550
    },
    "id": "GMBE9YOSUYxg",
    "outputId": "b81b21cc-2d4f-4da1-954c-4b69c72f6d73"
   },
   "outputs": [],
   "source": [
    "# PIB\n",
    "data_blue_gdp.sort_values(by='Pais',inplace=True)\n",
    "data_red_gdp.sort_values(by='Pais',inplace=True)\n",
    "data_green_gdp.sort_values(by='Pais',inplace=True)\n",
    "\n",
    "# SS\n",
    "data_blue_ss.sort_values(by='Pais',inplace=True)\n",
    "data_red_ss.sort_values(by='Pais',inplace=True)\n",
    "data_green_ss.sort_values(by='Pais',inplace=True)"
   ]
  },
  {
   "cell_type": "markdown",
   "metadata": {
    "id": "zIrt6SemP9tL"
   },
   "source": [
    "### Graficando los Países de cada cluster - GDP"
   ]
  },
  {
   "cell_type": "code",
   "execution_count": null,
   "metadata": {
    "colab": {
     "base_uri": "https://localhost:8080/",
     "height": 1000
    },
    "id": "8Xbw0jxbP85g",
    "outputId": "2e59deca-f4d6-4a8e-b898-36eab1d244b1"
   },
   "outputs": [],
   "source": [
    "#BLUE\n",
    "labels = data_blue_gdp['Pais']\n",
    "GDP = data_blue_gdp['PIB']\n",
    "width = 0.35\n",
    "\n",
    "fig, ax = plt.subplots(figsize=(30,5))\n",
    "plt.xticks(rotation=90)\n",
    "\n",
    "ax.bar(labels,GDP, width,  label='PIB')\n",
    "\n",
    "ax.set_ylabel('PIB')\n",
    "ax.set_title('BLUE: PIB bajo - Felicidad')\n",
    "\n",
    "#RED\n",
    "\n",
    "labels = data_red_gdp['Pais']\n",
    "GDP = data_red_gdp['PIB']\n",
    "width = 0.35\n",
    "\n",
    "fig, ax = plt.subplots(figsize=(30,5))\n",
    "plt.xticks(rotation=90)\n",
    "\n",
    "ax.bar(labels,GDP, width,  label='PIB', color='red')\n",
    "ax.set_ylabel('PIB')\n",
    "ax.set_title('RED: PIB intermedio - Felicidad')\n",
    "\n",
    "#GREEN\n",
    "\n",
    "labels = data_green_gdp['Pais']\n",
    "GDP = data_green_gdp['PIB']\n",
    "width = 0.35\n",
    "\n",
    "fig, ax = plt.subplots(figsize=(30,5))\n",
    "plt.xticks(rotation=90)\n",
    "\n",
    "ax.bar(labels,GDP, width,  label='PIB',  color='green')\n",
    "\n",
    "ax.set_ylabel('PIB')\n",
    "ax.set_title('GREEN: PIB alto - Felicidad')\n",
    "\n",
    "\n",
    "plt.show()"
   ]
  },
  {
   "cell_type": "markdown",
   "metadata": {
    "id": "SB7UyMRgGhUh"
   },
   "source": [
    "### Continentes en cada cluster - GDP"
   ]
  },
  {
   "cell_type": "code",
   "execution_count": null,
   "metadata": {
    "colab": {
     "base_uri": "https://localhost:8080/",
     "height": 496
    },
    "id": "u8p65kEFGnsd",
    "outputId": "bf009891-5380-45ed-dda9-053222c2a4b2"
   },
   "outputs": [],
   "source": [
    "#BLUE\n",
    "print('Número de paises, por continente - BLUE')\n",
    "print(data_blue_gdp.Continente.value_counts())\n",
    "print('\\n')\n",
    "\n",
    "#RED\n",
    "print('Número de paises, por continente - RED')\n",
    "print(data_red_gdp.Continente.value_counts())\n",
    "print('\\n')\n",
    "\n",
    "#GREEN\n",
    "print('Número de paises, por continente - GREEN')\n",
    "print(data_green_gdp.Continente.value_counts())\n",
    "print('\\n')"
   ]
  },
  {
   "cell_type": "markdown",
   "metadata": {
    "id": "FqvuabZVoxuN"
   },
   "source": [
    "###  Graficando los Países de cada cluster - Soporte_Social"
   ]
  },
  {
   "cell_type": "code",
   "execution_count": null,
   "metadata": {
    "colab": {
     "base_uri": "https://localhost:8080/",
     "height": 1000
    },
    "id": "9NYpAGNmoxuT",
    "outputId": "768224e3-4ff3-481e-fd53-1f3654ba54f3"
   },
   "outputs": [],
   "source": [
    "#BLUE\n",
    "labels = data_blue_ss['Pais']\n",
    "SS = data_blue_ss['Soporte_Social']\n",
    "width = 0.35\n",
    "\n",
    "fig, ax = plt.subplots(figsize=(30,5))\n",
    "plt.xticks(rotation=90)\n",
    "\n",
    "ax.bar(labels, SS, width,  label='SS')\n",
    "\n",
    "ax.set_ylabel('SS')\n",
    "ax.set_title('BLUE: SS bajo - Felicidad')\n",
    "\n",
    "#RED\n",
    "\n",
    "labels = data_red_ss['Pais']\n",
    "SS = data_red_ss['Soporte_Social']\n",
    "width = 0.35\n",
    "\n",
    "fig, ax = plt.subplots(figsize=(30,5))\n",
    "plt.xticks(rotation=90)\n",
    "\n",
    "ax.bar(labels, SS, width,  label='SS', color='red')\n",
    "ax.set_ylabel('SS')\n",
    "ax.set_title('RED: SS intermedio - Felicidad')\n",
    "\n",
    "#GREEN\n",
    "\n",
    "labels = data_green_ss['Pais']\n",
    "SS = data_green_ss['Soporte_Social']\n",
    "width = 0.35\n",
    "\n",
    "fig, ax = plt.subplots(figsize=(30,5))\n",
    "plt.xticks(rotation=90)\n",
    "\n",
    "ax.bar(labels, SS, width,  label='SS',  color='green')\n",
    "\n",
    "ax.set_ylabel('SS')\n",
    "ax.set_title('GREE: SS alto - Felicidad')\n",
    "\n",
    "plt.show()"
   ]
  },
  {
   "cell_type": "markdown",
   "metadata": {
    "id": "W6V5vGe1jd_i"
   },
   "source": [
    "### Continentes en cada cluster - Soporte_Social"
   ]
  },
  {
   "cell_type": "code",
   "execution_count": null,
   "metadata": {
    "colab": {
     "base_uri": "https://localhost:8080/",
     "height": 478
    },
    "id": "Y603tJn7jf0o",
    "outputId": "4e7e0f2d-9e50-4dd8-8356-731bba503b12"
   },
   "outputs": [],
   "source": [
    "#BLUE\n",
    "print('Número de paises, por continente - BLUE')\n",
    "print(data_blue_ss.Continente.value_counts())\n",
    "print('\\n')\n",
    "\n",
    "#RED\n",
    "print('Número de paises, por continente - RED')\n",
    "print(data_red_ss.Continente.value_counts())\n",
    "print('\\n')\n",
    "\n",
    "#GREEN\n",
    "print('Número de paises, por continente - GREEN')\n",
    "print(data_green_ss.Continente.value_counts())\n",
    "print('\\n')"
   ]
  },
  {
   "cell_type": "markdown",
   "metadata": {
    "id": "xENCNj6tpF5e"
   },
   "source": [
    "# 3. Comparando los resultados de GDP y SS en América"
   ]
  },
  {
   "cell_type": "markdown",
   "metadata": {
    "id": "QQmKVyovQDKD"
   },
   "source": [
    "El objetivo es determinar que paises de América, tanto Norte (que incluye a Centroamérica) y Sur, tienen un GDP y Soporte_Social de **nivel medio y nivel alto**; es decir, estan ubicados dentro del RED y GREEN cluster para ambas variables, respectivamente. No consideraremos el nivel bajo (BLUE cluster) de estas variables, ya que estaremos trabajando con los paises más felicies de este continente.\n",
    "\n",
    "**Para hacerlo**, por cada nivel: \n",
    "- Determinaremos que paises estan duplicados y eliminaremos una de las copias\n",
    "- Eliminaremos aquellos paises que NO estén duplicados en ambos df (el de GDP y el de Soporte_Social) del nivel trabajado, al esto significar que no tienen tanto su GDP y Soporte_Social dentro del mismo nivel"
   ]
  },
  {
   "cell_type": "markdown",
   "metadata": {
    "id": "gj6oyTnbVIg7"
   },
   "source": [
    "### Paises con nivel Medio (RED cluster) de GDP y Soporte_Social"
   ]
  },
  {
   "cell_type": "code",
   "execution_count": null,
   "metadata": {
    "id": "ecTUDlO5XLQz"
   },
   "outputs": [],
   "source": [
    "# GDP y SS Medio (RED) - América\n",
    "red_america = pd.concat([data_red_gdp,data_red_ss])\n",
    "red_america = red_america[red_america.Continente.isin(['North America', 'South America'])]"
   ]
  },
  {
   "cell_type": "code",
   "execution_count": null,
   "metadata": {
    "colab": {
     "base_uri": "https://localhost:8080/",
     "height": 77
    },
    "id": "BtyhYRHTgEKS",
    "outputId": "e21d0018-e92b-4001-e9e1-be5cbf17d48d"
   },
   "outputs": [],
   "source": [
    "# Determinando que paises no tienen tanto un GDP como un Soporte_Social de nivel medio\n",
    "red_america.drop_duplicates(keep=False)"
   ]
  },
  {
   "cell_type": "code",
   "execution_count": null,
   "metadata": {
    "colab": {
     "base_uri": "https://localhost:8080/",
     "height": 497
    },
    "id": "kYjodPGdXpKz",
    "outputId": "264014f3-691e-4e83-9801-fa96e8560ba7"
   },
   "outputs": [],
   "source": [
    "# Eliminando Chile y duplicados\n",
    "red_america = red_america[red_america['Pais'] != 'Chile'].drop_duplicates()\n",
    "red_america.drop_duplicates(keep=False)"
   ]
  },
  {
   "cell_type": "markdown",
   "metadata": {
    "id": "sA34UV3UiAxa"
   },
   "source": [
    "### Paises con nivel Alto (GREEN cluster) de GDP y Soporte_Social"
   ]
  },
  {
   "cell_type": "code",
   "execution_count": null,
   "metadata": {
    "id": "gH2X2gwPiHr9"
   },
   "outputs": [],
   "source": [
    "# GDP y SS Alto (Green) - América\n",
    "green_america = pd.concat([data_green_gdp,data_green_ss])\n",
    "green_america = green_america[green_america.Continente.isin(['North America', 'South America'])]"
   ]
  },
  {
   "cell_type": "code",
   "execution_count": null,
   "metadata": {
    "colab": {
     "base_uri": "https://localhost:8080/",
     "height": 77
    },
    "id": "d3_kdIJMiaIj",
    "outputId": "47756294-9355-4235-ed1d-33c437df1f4d"
   },
   "outputs": [],
   "source": [
    "# Determinando que paises no tienen tanto un GDP como un Soporte_Social de nivel alto\n",
    "green_america.drop_duplicates(keep=False)"
   ]
  },
  {
   "cell_type": "code",
   "execution_count": null,
   "metadata": {
    "colab": {
     "base_uri": "https://localhost:8080/",
     "height": 167
    },
    "id": "Zltpqc9DiiKp",
    "outputId": "de2f8e10-59ed-44b6-8138-de575a8edbd7"
   },
   "outputs": [],
   "source": [
    "# Eliminando Chile y duplicados\n",
    "green_america = green_america[green_america['Pais'] != 'Chile'].drop_duplicates()\n",
    "green_america.drop_duplicates(keep=False)"
   ]
  },
  {
   "cell_type": "markdown",
   "metadata": {
    "id": "aekgMxQ749Ib"
   },
   "source": [
    "### Paises más felices de América"
   ]
  },
  {
   "cell_type": "code",
   "execution_count": null,
   "metadata": {
    "colab": {
     "base_uri": "https://localhost:8080/",
     "height": 347
    },
    "id": "ie8oKiobjgNt",
    "outputId": "e3842fb7-fa4b-4142-ad82-ec1e8888c079"
   },
   "outputs": [],
   "source": [
    "all_america = pd.concat([red_america, green_america]).drop_duplicates()\n",
    "all_america.nlargest(10, columns='Felicidad')"
   ]
  },
  {
   "cell_type": "markdown",
   "metadata": {
    "id": "tH-XLGit5Fwx"
   },
   "source": [
    "## Comparando métricas de paises de América"
   ]
  },
  {
   "cell_type": "markdown",
   "metadata": {
    "id": "IV_FekG1lPt8"
   },
   "source": [
    "### GDP, Puntaje de Felicidad y Corrupción"
   ]
  },
  {
   "cell_type": "code",
   "execution_count": null,
   "metadata": {
    "colab": {
     "base_uri": "https://localhost:8080/",
     "height": 408
    },
    "id": "A4xs4TieiXJS",
    "outputId": "32469619-eab0-4598-cf93-dbf4528b0132"
   },
   "outputs": [],
   "source": [
    "# Gráfica de barras\n",
    "fig, ax = plt.subplots(figsize=(20,5))\n",
    "\n",
    "plt.bar(all_america['Pais'], all_america['PIB'], label='PIB')\n",
    "plt.bar(all_america['Pais'], all_america['Felicidad']/10, label='Felicidad')\n",
    "plt.bar(all_america['Pais'], all_america['Percepcion_Corrupcion'], label='Corrupcion')\n",
    "\n",
    "\n",
    "plt.xticks(rotation=90)\n",
    "\n",
    "\n",
    "plt.legend()\n",
    "plt.show()"
   ]
  },
  {
   "cell_type": "markdown",
   "metadata": {
    "id": "Gq95nS_vMLqF"
   },
   "source": [
    "# 4. Histórico de paises del mundo"
   ]
  },
  {
   "cell_type": "code",
   "execution_count": null,
   "metadata": {
    "id": "w665YBFAwGq4"
   },
   "outputs": [],
   "source": [
    "# importando data del 2015 al 2019\n",
    "d15 = pd.read_csv(archivo_2015)\n",
    "d16 = pd.read_csv(archivo_2016)\n",
    "d17 = pd.read_csv(archivo_2017)\n",
    "d18 = pd.read_csv(archivo_2018)\n",
    "d19 = pd.read_csv(archivo_2019)\n",
    "\n",
    "d15['Year'] = '2015'\n",
    "d16['Year'] = '2016'\n",
    "d17['Year'] = '2017'\n",
    "d18['Year'] = '2018'\n",
    "d19['Year'] = '2019'\n",
    "\n",
    "# El nombre y orden de las columnas es diferente en cada dataset \n",
    "d15 = d15.iloc[:, [0,3,5,9,-1]]\n",
    "d16 = d16.iloc[:, [0,3,6,10,-1]]\n",
    "d17 = d17.iloc[:, [0,2,5,10,-1]]\n",
    "d18 = d18.iloc[:, [1,2,3,8,-1]]\n",
    "d19 = d19.iloc[:, [1,2,3,8,-1]]\n",
    "\n",
    "col_names = ['pais','felicidad','pib','corrupcion','year']\n",
    "d15.columns = col_names\n",
    "d16.columns = col_names\n",
    "d17.columns = col_names\n",
    "d18.columns = col_names\n",
    "d19.columns = col_names"
   ]
  },
  {
   "cell_type": "code",
   "execution_count": null,
   "metadata": {
    "id": "NXYxh3iuxvVA"
   },
   "outputs": [],
   "source": [
    "all_years = pd.concat([d15, d16, d17, d18, d19])\n",
    "all_years['Continente'] = all_years['pais'].apply(get_continent)\n",
    "\n",
    "# Se divide el puntaje de felicidad (happiness) \n",
    "# y el GDP (PID) entre 100 y 10, respectivamente, para una mejor visualización de la data al graficarla\n",
    "all_years['felicidad'] = all_years['felicidad']/100\n",
    "all_years['pib'] = all_years['pib']/10"
   ]
  },
  {
   "cell_type": "code",
   "execution_count": null,
   "metadata": {
    "colab": {
     "base_uri": "https://localhost:8080/",
     "height": 627
    },
    "id": "MLiLeC5h3XCV",
    "outputId": "b26c0f79-42bc-48cd-c568-9a9fc7b64ef0"
   },
   "outputs": [],
   "source": [
    "fig = plt.subplots(figsize=(20,10))\n",
    "sns.lineplot(data=all_years, x=\"year\", y=\"corrupcion\", hue=\"Continente\", ci=None)\n",
    "plt.title(\"Histórico de Corrupción (percepción)\", fontsize=16)\n",
    "plt.xlabel(\"Años\", fontsize=14)\n",
    "plt.ylabel(\"Corrupción\", fontsize=14)\n",
    "plt.minorticks_on()\n",
    "plt.tick_params(axis='y', which='both', length=6)"
   ]
  },
  {
   "cell_type": "markdown",
   "metadata": {
    "id": "GneGHoRuqTtn"
   },
   "source": [
    "Ya que Oceania solo cuenta con 2 paises, excluiremos este continente de nuestra gráfica."
   ]
  },
  {
   "cell_type": "code",
   "execution_count": null,
   "metadata": {
    "colab": {
     "base_uri": "https://localhost:8080/",
     "height": 627
    },
    "id": "pIO6jHmUodv_",
    "outputId": "1d940b99-345d-41e7-9584-6fba6d17152d"
   },
   "outputs": [],
   "source": [
    "fig = plt.subplots(figsize=(20,10))\n",
    "sns.lineplot(data=all_years, x=\"year\", y=\"corrupcion\", hue=\"Continente\", ci=None)\n",
    "plt.title(\"Histórico de Corrupción (percepción)\", fontsize=16)\n",
    "plt.xlabel(\"Años\", fontsize=14)\n",
    "plt.ylabel(\"Corrupción\", fontsize=14)\n",
    "plt.ylim(0.06,0.18)\n",
    "plt.minorticks_on()\n",
    "plt.tick_params(axis='y', which='both', length=6)"
   ]
  },
  {
   "cell_type": "code",
   "execution_count": null,
   "metadata": {
    "id": "-99YgdWctgXe"
   },
   "outputs": [],
   "source": [
    "# Función para comparar la Falicidad, la percepción de Corrupción y el GDP \n",
    "\n",
    "def hcg(country):\n",
    "  fig, (ax1, ax2, ax3) = plt.subplots(nrows=1, ncols=3,figsize=(20,5))\n",
    "\n",
    "  # Gráfica de felicidad\n",
    "  sns.lineplot(data=all_years[all_years['pais']==country], x=\"year\", y=\"felicidad\", ci=None, color=\"blue\", label=\"Felicidad\",ax=ax1 )\n",
    "\n",
    "  # Gráfica de corrupción\n",
    "  sns.lineplot(data=all_years[all_years['pais']==country], x=\"year\", y=\"corrupcion\", ci=None, color=\"green\", label = \"Corrupción\",ax=ax2)\n",
    "\n",
    "  # Gráfica de GDP\n",
    "  sns.lineplot(data=all_years[all_years['pais']==country], x=\"year\", y=\"pib\", ci=True, color=\"red\", label = \"PIB\",ax=ax3)\n",
    "\n",
    "  ax1.set(ylabel=None, xlabel=None)\n",
    "  ax2.set(ylabel=None, xlabel=None)\n",
    "  ax3.set(ylabel=None, xlabel=None)"
   ]
  },
  {
   "cell_type": "markdown",
   "metadata": {
    "id": "zSHlTu-guy7T"
   },
   "source": [
    "### Panama"
   ]
  },
  {
   "cell_type": "code",
   "execution_count": null,
   "metadata": {
    "colab": {
     "base_uri": "https://localhost:8080/",
     "height": 320
    },
    "id": "BVrNbrbRwnh1",
    "outputId": "fd069f39-280c-4966-c398-a7b6d6598e01"
   },
   "outputs": [],
   "source": [
    "hcg('Panama')"
   ]
  },
  {
   "cell_type": "markdown",
   "metadata": {
    "id": "DCgKuEgPwOIh"
   },
   "source": [
    "### Venezuela"
   ]
  },
  {
   "cell_type": "code",
   "execution_count": null,
   "metadata": {
    "colab": {
     "base_uri": "https://localhost:8080/",
     "height": 320
    },
    "id": "N3KK9G_DxGSZ",
    "outputId": "b4f0ce92-dcfc-4d5f-c743-d6f55148e8d7"
   },
   "outputs": [],
   "source": [
    "hcg('Venezuela')"
   ]
  },
  {
   "cell_type": "markdown",
   "metadata": {
    "id": "Z8gZaFwTwNsH"
   },
   "source": [
    "### Costa Rica"
   ]
  },
  {
   "cell_type": "code",
   "execution_count": null,
   "metadata": {
    "colab": {
     "base_uri": "https://localhost:8080/",
     "height": 320
    },
    "id": "Awbn6qEww8sE",
    "outputId": "18a58740-990c-40c2-ad1a-1e62fa1e72eb"
   },
   "outputs": [],
   "source": [
    "hcg('Costa Rica')"
   ]
  },
  {
   "cell_type": "markdown",
   "metadata": {
    "id": "iCo8mHpXwOn4"
   },
   "source": [
    "### Estados Unidos"
   ]
  },
  {
   "cell_type": "code",
   "execution_count": null,
   "metadata": {
    "colab": {
     "base_uri": "https://localhost:8080/",
     "height": 320
    },
    "id": "RYtHsmXlxMUC",
    "outputId": "141a148e-8b5b-4970-8c27-8bd296d0e2f4"
   },
   "outputs": [],
   "source": [
    "hcg('United States')"
   ]
  },
  {
   "cell_type": "markdown",
   "metadata": {
    "id": "DlYNufHpwNKG"
   },
   "source": [
    "### Canada"
   ]
  },
  {
   "cell_type": "code",
   "execution_count": null,
   "metadata": {
    "colab": {
     "base_uri": "https://localhost:8080/",
     "height": 320
    },
    "id": "ddyo6TQAxUWC",
    "outputId": "b5f7e94a-f18e-42d4-f313-c6a90e07d91b"
   },
   "outputs": [],
   "source": [
    "hcg('Canada')"
   ]
  },
  {
   "cell_type": "markdown",
   "metadata": {
    "id": "Bw_IHuRVwgDc"
   },
   "source": [
    "### Argentina"
   ]
  },
  {
   "cell_type": "code",
   "execution_count": null,
   "metadata": {
    "colab": {
     "base_uri": "https://localhost:8080/",
     "height": 320
    },
    "id": "Te0dM5BlxUpv",
    "outputId": "76532cb4-8e26-4bd3-c105-1fab33d015c8"
   },
   "outputs": [],
   "source": [
    "hcg('Argentina')"
   ]
  },
  {
   "cell_type": "markdown",
   "metadata": {
    "id": "JOHl2ok7wRzs"
   },
   "source": [
    "### ¿Qué otro país te gustaría analizar? Adelante!"
   ]
  },
  {
   "cell_type": "code",
   "execution_count": null,
   "metadata": {
    "id": "iJzkWnO7xBqv"
   },
   "outputs": [],
   "source": [
    "hcg('')"
   ]
  }
 ],
 "metadata": {
  "colab": {
   "collapsed_sections": [],
   "name": "Hapinness Clusters.ipynb",
   "provenance": [],
   "toc_visible": true
  },
  "kernelspec": {
   "display_name": "Python 3",
   "language": "python",
   "name": "python3"
  },
  "language_info": {
   "codemirror_mode": {
    "name": "ipython",
    "version": 3
   },
   "file_extension": ".py",
   "mimetype": "text/x-python",
   "name": "python",
   "nbconvert_exporter": "python",
   "pygments_lexer": "ipython3",
   "version": "3.8.3"
  }
 },
 "nbformat": 4,
 "nbformat_minor": 1
}
