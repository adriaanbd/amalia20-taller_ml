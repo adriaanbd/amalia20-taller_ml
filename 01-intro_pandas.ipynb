{
 "cells": [
  {
   "cell_type": "markdown",
   "metadata": {
    "id": "6JtrTBuAWfbN"
   },
   "source": [
    "# Introducción a Pandas"
   ]
  },
  {
   "cell_type": "markdown",
   "metadata": {
    "id": "QtgMbZ4HWnFK"
   },
   "source": [
    "Pandas es una librería construida encima de NumPy. Nos proporciona una eficiente implementación de objetos de datos construidos a base del arreglo de NumPy, además de otras operaciones para manipular datos. Este tipo de operaciones se conocen como **data wrangling** - los pasos requeridos para preparar la data a fin de que pueda ser consumida para extraer información y construir modelos.\n",
    "\n",
    "La preparación de data es lo que toma más tiempo en un proyecto de ciencia de datos."
   ]
  },
  {
   "cell_type": "markdown",
   "metadata": {
    "id": "zWriiuuJXvtV"
   },
   "source": [
    "Existen dos (2) componentes fundamentales en Pandas: los objetos de **Series** y **DataFrame**. Una **Series** es esencialmente una columna y un **DataFrame** es una table multi-dimensional constituida a base de una colección de Series. La misma puede consistir de tipos de datos heterogéneos y también puede contener data faltante.\n",
    "\n",
    "Los objetos de Pandas pueden ser pensados como versiones ampliadas de los arreglos de NumPy, donde las filas y columnas son identificadas con **labels**, e.g. \"edad\", en vez de índices, e.g. \"1\"."
   ]
  },
  {
   "cell_type": "markdown",
   "metadata": {
    "id": "ZTxVwc9yaU8e"
   },
   "source": [
    "## Series desde Listas y Arreglos"
   ]
  },
  {
   "cell_type": "markdown",
   "metadata": {
    "id": "olewAwHoi1mC"
   },
   "source": [
    "### El objeto Series"
   ]
  },
  {
   "cell_type": "markdown",
   "metadata": {
    "id": "DfZ1Obw5baTD"
   },
   "source": [
    "Un objeto Series en Pandas es un arreglo unidimensional (1D) de data indexada \n",
    "\n",
    "---\n",
    "\n",
    "Es esencialmente una columna.  Puede ser creada desde una lista o un arreglo utilizando el método `pd.Series()`."
   ]
  },
  {
   "cell_type": "code",
   "execution_count": null,
   "metadata": {
    "colab": {
     "base_uri": "https://localhost:8080/",
     "height": 111
    },
    "id": "hujTyhxRWVsw",
    "outputId": "e4144b9e-cac4-4a34-e685-bfbe221f47dd"
   },
   "outputs": [],
   "source": [
    "import pandas as pd \n",
    "series = pd.Series([0, 1, 2, 3])\n",
    "print(series)"
   ]
  },
  {
   "cell_type": "markdown",
   "metadata": {
    "id": "tlVQN5jwcj6a"
   },
   "source": [
    "Notamos que el objeto Series consiste en: \n",
    "* secuencia de valores\n",
    "* secuencia de índices\n",
    "\n",
    "Los valores son simplemente un arreglo NumPy, pero el índice es un objeto parecido a un arreglo  de tipo `pd.Index`. Los valores pueden ser accedidos con el índice correspondiente, como veremos a continuación."
   ]
  },
  {
   "cell_type": "code",
   "execution_count": null,
   "metadata": {
    "colab": {
     "base_uri": "https://localhost:8080/",
     "height": 186
    },
    "id": "_Yo7tjwFcecn",
    "outputId": "fe8595a8-ea99-44db-9547-c560f4deedfe"
   },
   "outputs": [],
   "source": [
    "import pandas as pd \n",
    "series = pd.Series([0, 1, 2, 3, 4, 5])\n",
    "\n",
    "print(\"Valores:\", series.values)\n",
    "print(\"Indices:\", series.index, \"\\n\")\n",
    "\n",
    "print(series[1], \"\\n\")   # Un solo valor\n",
    "\n",
    "print(series[1:4]) # Un rango de valores"
   ]
  },
  {
   "cell_type": "markdown",
   "metadata": {
    "id": "NJKS8LKFFZJg"
   },
   "source": [
    "**Pregunta:** ¿Cómo puede acceder a los valores [2,3,4] del arreglo ([0, 1, 2, 3, 4, 5]), utilizando el índice correspondiente?"
   ]
  },
  {
   "cell_type": "code",
   "execution_count": null,
   "metadata": {
    "id": "-RKb-SYXFfHy"
   },
   "outputs": [],
   "source": [
    "import pandas as pd\n",
    "series = pd.Series([0, 1, 2, 3, 4, 5])\n",
    "\n",
    "print(\"Valores:\", series.values)\n",
    "\n",
    "print(series[2:5]) "
   ]
  },
  {
   "cell_type": "markdown",
   "metadata": {
    "id": "fHw-PiEqeKii"
   },
   "source": [
    "No obstante, el índice no tiene que ser un número entero, puede consistir en valores de cualquier tipo, i.e. podemos utilizar cadenas de caracteres como índices."
   ]
  },
  {
   "cell_type": "code",
   "execution_count": null,
   "metadata": {
    "colab": {
     "base_uri": "https://localhost:8080/",
     "height": 149
    },
    "id": "V9rBMyMbeCzd",
    "outputId": "f2f37b28-fa02-4eab-86ee-80f46e35a0f4"
   },
   "outputs": [],
   "source": [
    "import pandas as pd \n",
    "data = pd.Series([12, 24, 13, 54], \n",
    "                index=['a', 'b', 'c', 'd'])\n",
    "\n",
    "print(data, \"\\n\")\n",
    "print(\"Valor en el indice b:\", data['b'])"
   ]
  },
  {
   "cell_type": "markdown",
   "metadata": {
    "id": "DbLlzZQ9gKLK"
   },
   "source": [
    "## Series desde Diccionarios"
   ]
  },
  {
   "cell_type": "markdown",
   "metadata": {
    "id": "-s5cnSg_gN1Z"
   },
   "source": [
    "Podemos observar que el objeto Series se parecen a diccionarios en Python. Un diccionario es una estructura que hace un enlace entre una llave o clave y un valor; pero la Series es una estructura que hace un enlace entre llaves tipificadas y valores tipificados. Este tipo de información las hace más eficientes comparadas a un diccionario estándar. "
   ]
  },
  {
   "cell_type": "code",
   "execution_count": null,
   "metadata": {
    "colab": {
     "base_uri": "https://localhost:8080/",
     "height": 111
    },
    "id": "F-63NtkhgA09",
    "outputId": "6057e14c-15da-4eab-f699-3b13fabd4d36"
   },
   "outputs": [],
   "source": [
    "import pandas as pd \n",
    "\n",
    "fruits_dict = { 'manzanas': 10,\n",
    "                'narajanjas': 8,\n",
    "                'bananas': 3,\n",
    "                'fresas': 20\n",
    "               }\n",
    "\n",
    "fruits = pd.Series(fruits_dict)\n",
    "print(\"Valor para manzanas: \", fruits['manzanas'], \"\\n\")\n",
    "\n",
    "# Series también permite operaciones de arreglos como rebanar o slicing:\n",
    "print(fruits['bananas':'fresas'])"
   ]
  },
  {
   "cell_type": "markdown",
   "metadata": {
    "id": "2kq8OJ4lip-D"
   },
   "source": [
    "## El objeto DataFrame"
   ]
  },
  {
   "cell_type": "markdown",
   "metadata": {
    "id": "3cTAT25Iiw95"
   },
   "source": [
    "El objeto *Series* es esencialmente una columna, sin embargo, el objeto *DataFrame* es un a table multi-dimensional construida a base de una colección de objetos Series. *DataFrame* nos permite guardar y manipular data tabular donde las filas consisten en observaciones y las columnas representan variables.\n",
    "\n",
    "Existen varias formas de crear un objeto DataFrame utilizando `pd.DataFrame()`. Por ejemplo, podemos crear un *DataFrame* de las siguientes formas:\n",
    "* pasando múltiples Series al objeto *DataFrame*\n",
    "* convirtiendo un diccionario a un *DataFrame*\n",
    "* importando data desde un archivo *csv*\n",
    "\n"
   ]
  },
  {
   "cell_type": "markdown",
   "metadata": {
    "id": "FjKjo0Okj6DY"
   },
   "source": [
    "#### Construyendo un DataFrame desde una Series"
   ]
  },
  {
   "cell_type": "markdown",
   "metadata": {
    "id": "nw5vJDYCj_0w"
   },
   "source": [
    "Podemos crear un *DataFrame* desde una *Series* al pasarle el objeto Series como dato de entrada el método de creación de un *DataFrame*, en adición a otros datos de entrada opcional como el parámetro `column` que nos permite nombrar columnas."
   ]
  },
  {
   "cell_type": "code",
   "execution_count": null,
   "metadata": {
    "colab": {
     "base_uri": "https://localhost:8080/",
     "height": 111
    },
    "id": "0mxDGgPXhNcv",
    "outputId": "008a20fe-1737-45d5-d344-1a7d4b72d1d3"
   },
   "outputs": [],
   "source": [
    "import pandas as pd \n",
    "\n",
    "data_s1 = pd.Series(\n",
    "    [12, 24, 33, 15], \n",
    "    index=['manzanas', 'bananas', 'fresas', 'naranjas'])\n",
    "\n",
    "# 'quantity' es el nombre de la columna\n",
    "dataframe1 = pd.DataFrame(data_s1, columns=['quantity'])\n",
    "print(dataframe1)"
   ]
  },
  {
   "cell_type": "markdown",
   "metadata": {
    "id": "8qKbsl7zlGMh"
   },
   "source": [
    "#### Construyendo un DataFrame desde un Diccionario"
   ]
  },
  {
   "cell_type": "markdown",
   "metadata": {
    "id": "jVl40GdVlKj2"
   },
   "source": [
    "Podemos construir un *DataFrame* desde una lista de diccionarios. Digamos que tenemos un diccionario con países, sus capitales y alguna otra variable como población, tamaño del país, número de escuelas, etc.)"
   ]
  },
  {
   "cell_type": "code",
   "execution_count": null,
   "metadata": {
    "colab": {
     "base_uri": "https://localhost:8080/",
     "height": 111
    },
    "id": "0F88SpyuijhH",
    "outputId": "b6b327d6-4187-4e3b-fce5-5cc7c7363f63"
   },
   "outputs": [],
   "source": [
    "dict = {\"país\": [\"Noruega\", \"Suecia\", \"España\", \"Francia\"],\n",
    "       \"capital\": [\"Oslo\", \"Estocolmo\", \"Madrid\", \"Paris\"],\n",
    "       \"OtraColumna\": [\"100\", \"200\", \"300\", \"400\"]}\n",
    "\n",
    "data = pd.DataFrame(dict)\n",
    "print(data)"
   ]
  },
  {
   "cell_type": "markdown",
   "metadata": {
    "id": "L9Gshspmm5vC"
   },
   "source": [
    "#### Construyendo un DataFrame al importar Data desde un archivo"
   ]
  },
  {
   "cell_type": "markdown",
   "metadata": {
    "id": "3Igfb0hTnohm"
   },
   "source": [
    "Es sencillo cargar datos a un *DataFrame* desde varios archivos con distintos formatos, e.g. csv, excel, json. Vamos a estar importando datos para analizar un dataset específico. "
   ]
  },
  {
   "cell_type": "code",
   "execution_count": null,
   "metadata": {
    "id": "LGSywRZ-l3dL"
   },
   "outputs": [],
   "source": [
    "import pandas as pd \n",
    "\n",
    "# Si tenemos un archivo llamado data1.csv en nuestro directorio\n",
    "df = pd.read_csv('data1.csv')\n",
    "\n",
    "# Si tenemos un archivo en formato json\n",
    "df = pd.read_json('data2.json')"
   ]
  },
  {
   "cell_type": "markdown",
   "metadata": {
    "id": "G96L9Cpyl82_"
   },
   "source": [
    "**Pregunta:** ¿Cuál es la diferencia entre un DataFrame construido desde una Series y un DataFrame construido desde un Diccionario?"
   ]
  },
  {
   "cell_type": "markdown",
   "metadata": {
    "id": "ncVtEZ1MrEm_"
   },
   "source": [
    "## Explorando un Dataset"
   ]
  },
  {
   "cell_type": "markdown",
   "metadata": {
    "id": "3LUegQUCrTia"
   },
   "source": [
    "Vamos a trabajar con el dataset de películas denominado IMDB. Este dataset esta públicamente disponible y contiene información de 14,762 películas. Cada fila consiste en una película, y cada película tiene información como título, año de publicación, director, número de premios, puntaje, duración, etc.  "
   ]
  },
  {
   "cell_type": "markdown",
   "metadata": {
    "id": "pVFVHEcmtUeN"
   },
   "source": [
    "### Leyendo data desde un CSV"
   ]
  },
  {
   "cell_type": "markdown",
   "metadata": {
    "id": "ec16DQ8ytjmJ"
   },
   "source": [
    "El dataset de IMDB lo podemos encontrar [aquí](https://www.kaggle.com/PromptCloudHQ/imdb-data/data).\n",
    "\n",
    "Nota: Si el archivo de datos se encuentra en Google Drive, tenemos que conectarlo con Google Colab, importando `drive` de `google.colab` y ejecutar el método `drive.mount(\"/content/drive\")`.Accede al enlace proporcionado y copy/paste el token de acceso.\n",
    "\n",
    "Si todo marcha bien deberias ver el siguiente mensaje:\n",
    "```\n",
    "Mounted at /content/drive\n",
    "```"
   ]
  },
  {
   "cell_type": "code",
   "execution_count": null,
   "metadata": {
    "colab": {
     "base_uri": "https://localhost:8080/",
     "height": 129
    },
    "id": "pEDu-5skpcLm",
    "outputId": "6fd82d0b-3944-4bb4-95e8-2c472b16c4a5"
   },
   "outputs": [],
   "source": [
    "from google.colab import drive\n",
    "drive.mount(\"/content/drive\")"
   ]
  },
  {
   "cell_type": "code",
   "execution_count": null,
   "metadata": {
    "colab": {
     "base_uri": "https://localhost:8080/",
     "height": 35
    },
    "id": "xNy_GJ8Q-JJL",
    "outputId": "564aecf2-b3dd-43b1-dfd6-1a480dc2c08e"
   },
   "outputs": [],
   "source": [
    "# revisemos que se ha montado el Google Drive\n",
    "!ls"
   ]
  },
  {
   "cell_type": "markdown",
   "metadata": {
    "id": "Q8sdVDvF7Ny2"
   },
   "source": [
    "Podemos cargarlo utilizando el método de creación de *DataFrame* insertando la ruta del archivo como dato de entrada del método `pd.read_csv('ruta/del/archivo').\n",
    "\n",
    "La manera más fácil de obtener la ruta del archivo en tu Drive es accediendo al *sidebar* de la izquierda, a fin de encontrar tu archivo dentro del directorio `/content/drive/My Drive`.\n",
    "\n",
    "Si necesitas una ayuda visual, accede a este artículo [aquí](https://medium.com/ml-book/simplest-way-to-open-files-from-google-drive-in-google-colab-fae14810674)."
   ]
  },
  {
   "cell_type": "code",
   "execution_count": null,
   "metadata": {
    "id": "gvhgveRY8T7y"
   },
   "outputs": [],
   "source": [
    "# desde Google Colab\n",
    "ruta = '/content/drive/My Drive/Colab Notebooks/data/IMDB-Movie-Data.csv'"
   ]
  },
  {
   "cell_type": "markdown",
   "metadata": {},
   "source": [
    "Alternativamente, si usted esta usando Jupyter Notebook localmente y ha clonado nuestro repositorio en GitHub, el archivo se encuentra en la carpeta de datos: `./datos/imdb-movie-data.csv`."
   ]
  },
  {
   "cell_type": "code",
   "execution_count": null,
   "metadata": {},
   "outputs": [],
   "source": [
    "# desde su maquina local\n",
    "ruta = \"./datos/imdb-movie-data.csv\""
   ]
  },
  {
   "cell_type": "code",
   "execution_count": null,
   "metadata": {},
   "outputs": [],
   "source": [
    "# leemos los datos en el archivo csv\n",
    "import pandas as pd\n",
    "peliculas_df = pd.read_csv(ruta)"
   ]
  },
  {
   "cell_type": "markdown",
   "metadata": {
    "id": "feKe_91n_r0M"
   },
   "source": [
    "Hemos creado un objeto DataFrame, `peliculas_df`, con índices pre-configurados. No obstante, ¿qué sucede si queremos acceder a cada fila por título de la película y no por número de índice? Podemos hacerlo si configuramos el título como nuestro índice. Esto lo podemos hacer de dos maneras: \n",
    "1. pasando el nombre de la columna como parámetro adicional a `index_col` en el método `read_csv`, cuando cargamos el archivo\n",
    "2. después de haber cargado el archivo, podemos ejecutar el método `set_index()`\n",
    "\n",
    "El índice nos permite hacer búsquedas rápidas y eficientes, toda vez que buscando filas por valores de índice es como buscar valores en un diccionario a base de una llave o clave."
   ]
  },
  {
   "cell_type": "code",
   "execution_count": null,
   "metadata": {
    "id": "g677j_Ue8qNk"
   },
   "outputs": [],
   "source": [
    "# 1. cuando cargamos el archivo\n",
    "peliculas_df_indice_x_titulo = pd.read_csv(ruta, index_col='Title')"
   ]
  },
  {
   "cell_type": "code",
   "execution_count": null,
   "metadata": {},
   "outputs": [],
   "source": [
    "# 2. despues de haber cargado el archivo\n",
    "peliculas_df_indice_x_titulo = peliculas_df.set_index('Title')"
   ]
  },
  {
   "cell_type": "markdown",
   "metadata": {
    "id": "t79X4faHBU1T"
   },
   "source": [
    "### Viendo la Data"
   ]
  },
  {
   "cell_type": "markdown",
   "metadata": {
    "id": "BR1ZOgjZBbeM"
   },
   "source": [
    "**Después** de haber creado el objeto DataFrame, el primer paso es darle una ojeada a la data, a fin de crear una imagen mental de la misma y llegar a familiarizarnos con ella.\n",
    "\n",
    "Podemos utilizar el método `head()` para visualizar las primeras filas de nuestro dataset. Esto retorna las primeras cinco (5) filas del DataFrame por preconfiguración, pero podemos pasarle el número de filas que deseamos como parámetro de entrada."
   ]
  },
  {
   "cell_type": "code",
   "execution_count": null,
   "metadata": {
    "colab": {
     "base_uri": "https://localhost:8080/",
     "height": 519
    },
    "id": "_oex51V3BByy",
    "outputId": "1acdf7e6-9568-4a56-f0de-51ba6e68ba7d"
   },
   "outputs": [],
   "source": [
    "# las primeras 5 filas\n",
    "peliculas_df.head()"
   ]
  },
  {
   "cell_type": "code",
   "execution_count": null,
   "metadata": {
    "colab": {
     "base_uri": "https://localhost:8080/",
     "height": 1000
    },
    "id": "wzyePPwlCD_k",
    "outputId": "0a8f5266-c026-46b9-f2d8-a30bc38e31f7"
   },
   "outputs": [],
   "source": [
    "# las primeras 10 filas\n",
    "peliculas_df.head(10)"
   ]
  },
  {
   "cell_type": "markdown",
   "metadata": {
    "id": "Av8tO-O1ChS8"
   },
   "source": [
    "También podemos ver las últimas filas del dataset con el método `tail()`, que funciona de la misma manera que `head()`"
   ]
  },
  {
   "cell_type": "code",
   "execution_count": null,
   "metadata": {
    "colab": {
     "base_uri": "https://localhost:8080/",
     "height": 449
    },
    "id": "PaGMoszbCidi",
    "outputId": "cde25d16-f39f-4614-fb0c-61677fda3b88"
   },
   "outputs": [],
   "source": [
    "# las ultimas 5 filas\n",
    "peliculas_df.tail()"
   ]
  },
  {
   "cell_type": "markdown",
   "metadata": {
    "id": "MLT2DL4e2-ga"
   },
   "source": [
    "**Pregunta:** ¿Cómo se pueden retornar las últimas tres (3) filas del DataFrame?"
   ]
  },
  {
   "cell_type": "code",
   "execution_count": null,
   "metadata": {
    "colab": {
     "base_uri": "https://localhost:8080/",
     "height": 300
    },
    "id": "Rzk_ZXmvCJvK",
    "outputId": "324e7fe8-7ef4-482d-acdf-7a4e7b639136"
   },
   "outputs": [],
   "source": [
    "# las ultimas 3 filas\n",
    "peliculas_df.tail(3)"
   ]
  },
  {
   "cell_type": "markdown",
   "metadata": {
    "id": "Yav8mE_Sy3HF"
   },
   "source": [
    "**Pregunta:** ¿Qué método permite visualizar las primeras filas de un dataset?\n"
   ]
  },
  {
   "cell_type": "code",
   "execution_count": null,
   "metadata": {},
   "outputs": [],
   "source": []
  },
  {
   "cell_type": "markdown",
   "metadata": {},
   "source": [
    "**Pregunta:** ¿Cómo se pueden retornar las tres (3) primeras filas de un dataset?"
   ]
  },
  {
   "cell_type": "code",
   "execution_count": null,
   "metadata": {},
   "outputs": [],
   "source": []
  },
  {
   "cell_type": "markdown",
   "metadata": {
    "id": "NTxyXPrMC25-"
   },
   "source": [
    "### Consiguiendo información de la Data"
   ]
  },
  {
   "cell_type": "markdown",
   "metadata": {
    "id": "ALe5Rqt-C8Ci"
   },
   "source": [
    "Como primer paso, es recomendado conseguir un buen pantallazo de la data. Vamos a utilizar 2 métodos sumamente útiles para esto: \n",
    "- `info()` -- nos permite ver detalles esenciales como el número de filas y columnas, el número de índices, el tipo de dato de cada columna, el número de valores que no son nulos, y la memoria utilizada por el DataFrame.\n",
    "- `describe()` -- nos proporciona un breve análisis estadístico de nuestra data"
   ]
  },
  {
   "cell_type": "code",
   "execution_count": null,
   "metadata": {
    "colab": {
     "base_uri": "https://localhost:8080/",
     "height": 348
    },
    "id": "YeEjgtUEC0KD",
    "outputId": "979f8d48-ce1e-420f-f0d3-4d69bb208879"
   },
   "outputs": [],
   "source": [
    "peliculas_df_indice_x_titulo.info()"
   ]
  },
  {
   "cell_type": "markdown",
   "metadata": {
    "id": "wGTZ5gU8EGfS"
   },
   "source": [
    "Importante destacar que `info()` nos permite ver que:\n",
    "- el dataset consiste de 1000 filas y 11 columnas\n",
    "- utiliza 93KB de memoria\n",
    "- las columnas *Revenue* y *Metascore* contiene valores nulos\n",
    "\n",
    "El manejo de valores nulos es muy importante en la fase de preparación de datos y cualquier proyecto de ciencia de datos, toda vez que los algoritmos de aprendizaje de maquina y métodos de análisis de datos no pueden manipular valores nulos por si mismos.\n",
    "\n",
    "El `Dtype` es útil para aclarar cualquier duda en cuanto el tipo de dato de cada columna. A veces una columna que esperamos sea de `numero entero` son en realidad `cadenas de caracteres` y en este debemos convertirlo a `numero` antes de realizar la operación de análisis."
   ]
  },
  {
   "cell_type": "code",
   "execution_count": null,
   "metadata": {
    "colab": {
     "base_uri": "https://localhost:8080/",
     "height": 35
    },
    "id": "-sU2NWFwDw5i",
    "outputId": "82e0e4b8-e64c-4fe3-c3e6-6b331002e988"
   },
   "outputs": [],
   "source": [
    "# para saber el numero de filas y columnas\n",
    "peliculas_df_indice_x_titulo.shape"
   ]
  },
  {
   "cell_type": "markdown",
   "metadata": {
    "id": "tYv5cgUV3vW8"
   },
   "source": [
    "**Pregunta:** ¿Qué proporciona el método `describe()`?"
   ]
  },
  {
   "cell_type": "code",
   "execution_count": null,
   "metadata": {
    "colab": {
     "base_uri": "https://localhost:8080/",
     "height": 300
    },
    "id": "0RRZHAXFEA6r",
    "outputId": "e2a15e85-fb8f-4bda-be5f-45bcde775c6e"
   },
   "outputs": [],
   "source": [
    "peliculas_df_indice_x_titulo.describe()"
   ]
  },
  {
   "cell_type": "markdown",
   "metadata": {
    "id": "BUVQMR2fFJvs"
   },
   "source": [
    "El método `describe()` nos ha proporcionado bastante información de alto nivel de la data. Por ejemplo, podemos ver que:\n",
    "- el data set consiste de películas entre 2006 (min) y 2016 (max)\n",
    "- el ingreso más alto generado por una película es de 936.63 millones de dólares americanos, mientras que el más bajo fue de 82.9 millones de dólares americanos."
   ]
  },
  {
   "cell_type": "markdown",
   "metadata": {
    "id": "NJR3CGWGF4Yg"
   },
   "source": [
    "## Operaciones de DataFrame - Seleccionar, Rebanar y Filtrar"
   ]
  },
  {
   "cell_type": "markdown",
   "metadata": {
    "id": "XwAwMGTXGKUm"
   },
   "source": [
    "#### Trabajando con Columnas"
   ]
  },
  {
   "cell_type": "code",
   "execution_count": null,
   "metadata": {
    "id": "KEAw69_0GjGS"
   },
   "outputs": [],
   "source": [
    "# extraemos una columna utilizando su nombre\n",
    "genero_df = peliculas_df['Genre']  # retorna un objeto Series"
   ]
  },
  {
   "cell_type": "markdown",
   "metadata": {
    "id": "BuiQFTslGxvL"
   },
   "source": [
    "Lo anterior retorna un objeto Series. Si queremos obtener un objeto DataFrame, debemos pasarla el nombre de la columna como una lista, ver a continuación."
   ]
  },
  {
   "cell_type": "code",
   "execution_count": null,
   "metadata": {
    "colab": {
     "base_uri": "https://localhost:8080/",
     "height": 243
    },
    "id": "BastYX6lHArD",
    "outputId": "39be89e6-8684-4d1a-b507-a83a18711e78"
   },
   "outputs": [],
   "source": [
    "# We can select any column using its label:\n",
    "\n",
    "# To obtain a Series as output\n",
    "col_como_series = peliculas_df['Genre']\n",
    "\n",
    "# Imprime el tipo de objeto y las primeras 5 filas\n",
    "print(type(col_como_series))\n",
    "col_como_series.head()\n",
    "\n",
    "\n",
    "# Obtenemos un objeto DataFrame\n",
    "col_como_df = peliculas_df[['Genre']]\n",
    "\n",
    "# Imprime el tipo de objeto y las primeras 5 filas\n",
    "print(type(col_como_df))\n",
    "col_como_df.head()"
   ]
  },
  {
   "cell_type": "markdown",
   "metadata": {
    "id": "BcKd8VEm8M6i"
   },
   "source": [
    "**Pregunta:** ¿Cómo se extraen varias columnas de un DataFrame?"
   ]
  },
  {
   "cell_type": "code",
   "execution_count": null,
   "metadata": {
    "colab": {
     "base_uri": "https://localhost:8080/",
     "height": 238
    },
    "id": "1s2F0yS1Hkuz",
    "outputId": "152c2503-d473-47c6-d2b5-0734b56791ec"
   },
   "outputs": [],
   "source": [
    "# podemos extraer muchas columnas\n",
    "muchas_columnas = peliculas_df_indice_x_titulo[['Genre', 'Rating', 'Revenue (Millions)']]\n",
    "\n",
    "muchas_columnas.head()"
   ]
  },
  {
   "cell_type": "markdown",
   "metadata": {
    "id": "68nazbHlH5nU"
   },
   "source": [
    "Observemos también la diferencia entre utilizar un DataFrame indexado por título y el otro indexado por números. En este último ejemplo, el título de las películas se muestra en vez de los números de fila."
   ]
  },
  {
   "cell_type": "markdown",
   "metadata": {
    "id": "1_rkq5O0GOy6"
   },
   "source": [
    "#### Trabajando con Filas"
   ]
  },
  {
   "cell_type": "markdown",
   "metadata": {
    "id": "XPG1j4RwGUAr"
   },
   "source": [
    "Podemos trabajar con fila con los siguientes indexadores:\n",
    "- `loc` -- nos permite indexar y rebanar haciendo referencia explícita al índice pero ubicándolo por nombre. Por ejemplo, en el DataFrame indexado por título, podemos utilizar el título para seleccionar la fila requerida.\n",
    "- `iloc` -- nos permite indexar y rebanar haciendo referencia implícita a la indexación nativa de Python pero ubicandolo por el número del índice. En el caso de nuestro DataFrame, le pasamos el número de índice de la película que deseamos seleccionar.\n"
   ]
  },
  {
   "cell_type": "code",
   "execution_count": null,
   "metadata": {
    "colab": {
     "base_uri": "https://localhost:8080/",
     "height": 237
    },
    "id": "zdTHP7bIJEZl",
    "outputId": "9a5a943e-b54b-4a5b-da2f-d6b9cf341b6d"
   },
   "outputs": [],
   "source": [
    "# Siendo explícito con el índice, \"Guardians of the Galaxy\":\n",
    "gog = peliculas_df_indice_x_titulo.loc[\"Guardians of the Galaxy\"]\n",
    "\n",
    "# dando el índice numerico de \"Guardians of the Galaxy\":\n",
    "gog = peliculas_df_indice_x_titulo.iloc[0]\n",
    "\n",
    "gog"
   ]
  },
  {
   "cell_type": "code",
   "execution_count": null,
   "metadata": {
    "colab": {
     "base_uri": "https://localhost:8080/",
     "height": 415
    },
    "id": "TFPK7lcIJl-M",
    "outputId": "b767fc0a-fd60-4a05-8e7d-e50226741bc4"
   },
   "outputs": [],
   "source": [
    "# podemos tambien rebanar con múltiples filas\n",
    "muchas_filas = peliculas_df_indice_x_titulo['Guardians of the Galaxy': 'Sing']\n",
    "muchas_filas = peliculas_df_indice_x_titulo[0:4]\n",
    "\n",
    "muchas_filas"
   ]
  },
  {
   "cell_type": "markdown",
   "metadata": {
    "id": "9ZCXQtAFKDfr"
   },
   "source": [
    "También podemos seleccionar filas y columnas. El primer índice hace referencia a filas, mientras que el segundo a columnas."
   ]
  },
  {
   "cell_type": "code",
   "execution_count": null,
   "metadata": {
    "colab": {
     "base_uri": "https://localhost:8080/",
     "height": 206
    },
    "id": "IRFIuh83J9H8",
    "outputId": "33d1e490-d649-458a-e334-b9c2ab71dc16"
   },
   "outputs": [],
   "source": [
    "# selecciona todas las filas hasta Sing y todas las columnas hasta Director\n",
    "peliculas_df_indice_x_titulo.loc[:'Sing', :'Director']\n",
    "peliculas_df_indice_x_titulo.iloc[:4, :3]"
   ]
  },
  {
   "cell_type": "markdown",
   "metadata": {
    "id": "IBS52GRL_hWF"
   },
   "source": [
    "**Pregunta:** ¿Cuál es la diferencia entre el método loc y el método iloc?"
   ]
  },
  {
   "cell_type": "code",
   "execution_count": null,
   "metadata": {},
   "outputs": [],
   "source": []
  },
  {
   "cell_type": "markdown",
   "metadata": {
    "id": "OqVJkJu2GUQ9"
   },
   "source": [
    "### Seleccionar condicionalmente y filtrando"
   ]
  },
  {
   "cell_type": "markdown",
   "metadata": {
    "id": "aMVuL5ymGesz"
   },
   "source": [
    "Hemos seleccionado filas y columnas con índices específicos. Sin embargo, ¿cómo hacemos para seleccionar cuando no conocemos el índice de antemano o cuando queremos filtrar a base de alguna condición? \n",
    "\n",
    "Por ejemplo, queremos que el DataFrame nos muestre las peliíulas desde 2016 o todas las películas que obtuvieron un rating de más de 8.0? Podemos aplicar condiciones booleanas a las columnas en el DataFrame."
   ]
  },
  {
   "cell_type": "code",
   "execution_count": null,
   "metadata": {
    "colab": {
     "base_uri": "https://localhost:8080/",
     "height": 1000
    },
    "id": "4sGCo16LGRdz",
    "outputId": "798c7af5-b079-4ab2-cc3c-6ac9ba263e35"
   },
   "outputs": [],
   "source": [
    "# todas las peliculas del 2016\n",
    "peliculas_df_indice_x_titulo[peliculas_df_indice_x_titulo['Year'] == 2016]\n",
    "\n",
    "# peliculas con un puntaje mayor a 8.0\n",
    "peliculas_df_indice_x_titulo[peliculas_df_indice_x_titulo['Rating'] > 8.0 ]"
   ]
  },
  {
   "cell_type": "markdown",
   "metadata": {
    "id": "o5BLdm9pOEes"
   },
   "source": [
    "Si queremos filtrar de manera más compleja lo podemos hacer con operadores `|` y `&`. Por ejemplo, si queremos seleccionar las ultimas películas (entre 2010-2016) que tuvieron un puntaje bajo (menos de 6.0) pero que están entre las películas que mas generaron ingresos (encima del 75%) "
   ]
  },
  {
   "cell_type": "code",
   "execution_count": null,
   "metadata": {
    "colab": {
     "base_uri": "https://localhost:8080/",
     "height": 1000
    },
    "id": "0jcrsCKMGS1Z",
    "outputId": "8cc3370e-25ee-49b0-d9d8-0c2182a58256"
   },
   "outputs": [],
   "source": [
    "peliculas_df_indice_x_titulo[\n",
    "    ((peliculas_df_indice_x_titulo['Year'] >= 2010) & (peliculas_df_indice_x_titulo['Year'] <= 2016))\n",
    "    & (peliculas_df_indice_x_titulo['Rating'] < 6.0)\n",
    "    & (peliculas_df_indice_x_titulo['Revenue (Millions)'] > peliculas_df_indice_x_titulo['Revenue (Millions)'].quantile(0.75))\n",
    "]"
   ]
  },
  {
   "cell_type": "markdown",
   "metadata": {
    "id": "1B__MiNYOvlL"
   },
   "source": [
    "El resultado nos indica que \"Fifty Shades of Grey\" es la película con el peor puntaje, pero con más altos ingresos. En total, hay 12 películas que dan con esas condiciones. \n",
    "\n",
    "Notemos también el 75% del `describe()` reportaba 113.715 millones de dólares americanos y todas las películas generaron más que eso."
   ]
  },
  {
   "cell_type": "markdown",
   "metadata": {
    "id": "FBWkbqUBPT9c"
   },
   "source": [
    "## Operaciones de DataFrame - Agrupar y Ordenar"
   ]
  },
  {
   "cell_type": "markdown",
   "metadata": {
    "id": "wlflOx4BPa5-"
   },
   "source": [
    "### Agrupando"
   ]
  },
  {
   "cell_type": "markdown",
   "metadata": {
    "id": "H_UROOYpPdSr"
   },
   "source": [
    "Las cosas comienzan a ponerse interesante cuando agrupamos filas que cumplen cierto criterio y luego agregamos su data. \n",
    "\n",
    "Digamos que queremos agrupar las películas por director y ver cuanto ingreso generó cada director en total, además del puntaje promedio por director. \n",
    "\n",
    "Esto lo podemos hacer con la operación `groupby` en la columna de interés, seguida por el agregado correspondiente (suma o promedio)"
   ]
  },
  {
   "cell_type": "code",
   "execution_count": null,
   "metadata": {
    "colab": {
     "base_uri": "https://localhost:8080/",
     "height": 455
    },
    "id": "uHRwBy6-QQtl",
    "outputId": "2eda066d-41ca-482c-b30d-51c92dd075f5"
   },
   "outputs": [],
   "source": [
    "# agrupemos por director y agreguemos por suma\n",
    "peliculas_df.groupby('Director')[['Revenue (Millions)']].sum()"
   ]
  },
  {
   "cell_type": "code",
   "execution_count": null,
   "metadata": {
    "colab": {
     "base_uri": "https://localhost:8080/",
     "height": 455
    },
    "id": "H6W4_PoJQqkc",
    "outputId": "8d2f65b6-0067-4cd2-da18-4fbbc55a6702"
   },
   "outputs": [],
   "source": [
    "# agrupemos por director y agreguemos por promedio\n",
    "peliculas_df.groupby('Director')[['Rating']].mean()"
   ]
  },
  {
   "cell_type": "markdown",
   "metadata": {
    "id": "jiJtk8VEQmpM"
   },
   "source": [
    "Podemos notar que Aamir Khan obtuvo el puntaje más alto, pero a la vez sus ingresos son más bajos en comparación a los otros directores.\n",
    "\n",
    "Además de `sum()` y `mean()` Pandas también tiene otras funciones de agregación como `min(0` y `max()`."
   ]
  },
  {
   "cell_type": "markdown",
   "metadata": {
    "id": "TVYMPNRPPeKH"
   },
   "source": [
    "### Ordenando"
   ]
  },
  {
   "cell_type": "markdown",
   "metadata": {
    "id": "R9VDWBJHPgHT"
   },
   "source": [
    "Observemos que los resultados anteriores fueron presentados en orden alfabético. Sin embargo, sería útil presentarlos por orden de ingresos generados. \n",
    "\n",
    "Para lograrlo, podemos utilizar el método `sort_values(columna, ascending=False)` "
   ]
  },
  {
   "cell_type": "code",
   "execution_count": null,
   "metadata": {
    "colab": {
     "base_uri": "https://localhost:8080/",
     "height": 455
    },
    "id": "fe1lEFPkPQfr",
    "outputId": "6176fcec-144c-4354-b1f8-b29d92d3b66d"
   },
   "outputs": [],
   "source": [
    "peliculas_df.groupby('Director')[['Revenue (Millions)']].sum().sort_values(['Revenue (Millions)'], ascending=False)"
   ]
  },
  {
   "cell_type": "code",
   "execution_count": null,
   "metadata": {
    "colab": {
     "base_uri": "https://localhost:8080/",
     "height": 533
    },
    "id": "xt4frY22SOok",
    "outputId": "e162e0be-4589-4ac4-e9f7-51c7eb5421d9"
   },
   "outputs": [],
   "source": [
    "# si queremos obtener mayor ingresos y mayor puntaje\n",
    "data_ordenada = peliculas_df_indice_x_titulo.sort_values(['Revenue (Millions)', 'Rating'], ascending=False)\n",
    "data_ordenada.head(5)"
   ]
  },
  {
   "cell_type": "markdown",
   "metadata": {
    "id": "tVHg7WWWS_Bd"
   },
   "source": [
    "- Director que generó más ingresos: J.J. Abrams\n",
    "- Película con mejor puntaje e ingresos: Star Wars"
   ]
  },
  {
   "cell_type": "markdown",
   "metadata": {},
   "source": [
    "**Pregunta:** ¿Cuál fue la película con el *Rating* más bajo?"
   ]
  },
  {
   "cell_type": "code",
   "execution_count": null,
   "metadata": {},
   "outputs": [],
   "source": []
  },
  {
   "cell_type": "markdown",
   "metadata": {
    "id": "H0dwz8fTTZDH"
   },
   "source": [
    "## Operaciones de DataFrame - Tratando valores nulos y duplicados"
   ]
  },
  {
   "cell_type": "markdown",
   "metadata": {
    "id": "AgjtctdQTZVF"
   },
   "source": [
    "### Tratando valores nulos"
   ]
  },
  {
   "cell_type": "markdown",
   "metadata": {
    "id": "uCYYuRY3TZbP"
   },
   "source": [
    "La diferencia entre data falsa y data real es que la data real casi nunca es limpia y homogénea. Un detalle en particular que debemos abordar es la presencia de valores faltantes o nulos. \n",
    "\n",
    "Existen dos formas de cómo se pueden presentar valores faltantes o nulos:\n",
    "- None - es un tipo de objeto de Python utilizado para tratar data que hace falta en Python. Se puede utilizar en arreglos con el tipo de dato \"objeto\", e.g. arreglos de objetos de Python\n",
    "- NaN (Not a Number) - un valor de punto flotante especial utilizado para representar data faltante. Este tipo de dato implica que podemos realizar operaciones matemáticas. Sin embargo, el resultado de una operación aritmética con NaN es otro NaN."
   ]
  },
  {
   "cell_type": "code",
   "execution_count": null,
   "metadata": {
    "colab": {
     "base_uri": "https://localhost:8080/",
     "height": 448
    },
    "id": "6-Rjx_fqUaUH",
    "outputId": "40632e13-8220-4f00-da62-cf0f563c10e8"
   },
   "outputs": [],
   "source": [
    "import numpy as np\n",
    "import pandas as pd\n",
    "\n",
    "# Ejemplo con None\n",
    "None_example = np.array([0, None, 2, 3])\n",
    "print(\"dtype =\", None_example.dtype)\n",
    "print(None_example)\n",
    "\n",
    "# Ejemplo con NaN\n",
    "NaN_example = np.array([0, np.nan, 2, 3])\n",
    "print(\"dtype =\", NaN_example.dtype)\n",
    "print(NaN_example)\n",
    "\n",
    "# Operacion matematica con NaN retorna NaNs\n",
    "print(\"Operaciones Aritmeticas\")\n",
    "print(\"Suma con NaNs:\", NaN_example.sum())\n",
    "print(\"Suma con None:\", None_example.sum())"
   ]
  },
  {
   "cell_type": "markdown",
   "metadata": {
    "id": "G8vEKXngTZy7"
   },
   "source": [
    "Afortunadamente Pandas fue construido para el manejo de `NaN` y `None` y trata los dos valores de la misma manera, clasificándolos como un valor faltante o nulo. Además, Pandas proporciona métodos para detectar, remover y reemplazar valores nulos: `isnull()`, `notnull()`, `dropna()`, y `fillna()`."
   ]
  },
  {
   "cell_type": "markdown",
   "metadata": {
    "id": "1oXrtBsbVQRz"
   },
   "source": [
    "#### Detectando valores nulos"
   ]
  },
  {
   "cell_type": "markdown",
   "metadata": {
    "id": "JWEO65qfVac-"
   },
   "source": [
    "`inull()` y `notnull()` son útiles para detectar valores nulos en Pandas. Ambos retornan Booleanos encima de la data."
   ]
  },
  {
   "cell_type": "code",
   "execution_count": null,
   "metadata": {
    "colab": {
     "base_uri": "https://localhost:8080/",
     "height": 455
    },
    "id": "T3E094KDVN9z",
    "outputId": "f0770760-7d62-46cd-a234-6eb0b85049c4"
   },
   "outputs": [],
   "source": [
    "peliculas_df_indice_x_titulo.isnull()  # algunas columnas retornan True"
   ]
  },
  {
   "cell_type": "code",
   "execution_count": null,
   "metadata": {
    "colab": {
     "base_uri": "https://localhost:8080/",
     "height": 237
    },
    "id": "zPTXwnUNVzLs",
    "outputId": "d022ce80-9f04-4da3-ba2d-e02a2c136427"
   },
   "outputs": [],
   "source": [
    "# podemos contar la cantidad de valores nulos\n",
    "peliculas_df_indice_x_titulo.isnull().sum()  # no sabemos los ingresos de 128 peliculas"
   ]
  },
  {
   "cell_type": "markdown",
   "metadata": {
    "id": "PuvvgUAzTZv5"
   },
   "source": [
    "#### Removiendo valores nulos"
   ]
  },
  {
   "cell_type": "markdown",
   "metadata": {
    "id": "3NDhhtiLTZs4"
   },
   "source": [
    "Es fácil remover valores nulos; sin embargo, no es siempre la mejor manera de tratar valores nulos. Tenemos la opción de remover o reemplazar. En general, deberíamos remover cuando tenemos una cantidad pequeña de valores nulos, toda vez que no podemos simplemente remover los valores sin remover toda la fila o toda la columna.\n",
    "\n",
    "El método `dropna()` nos permite remover filas o columnas. Si lo hacemos por fila o por columna depende del dataset. Por preconfiguración, este método remueve todas las filas que contiene un valore nulo y retorna un nuevo DataFrame sin alterar el original. Si queremos alterar el original entonces modficamos el parámetro `inplace=True`. Alternativamente, podemos remover todas las columnas que contienen valores nulos al especificar el parámetro `axis=1`.\n",
    "\n"
   ]
  },
  {
   "cell_type": "code",
   "execution_count": null,
   "metadata": {
    "colab": {
     "base_uri": "https://localhost:8080/",
     "height": 1000
    },
    "id": "RQ5SQjgkXgfE",
    "outputId": "58a0dde7-101d-455c-cb0a-467b1bce14f5"
   },
   "outputs": [],
   "source": [
    "# remueve todas las filas con valores nulos\n",
    "peliculas_df_indice_x_titulo.dropna()"
   ]
  },
  {
   "cell_type": "code",
   "execution_count": null,
   "metadata": {
    "colab": {
     "base_uri": "https://localhost:8080/",
     "height": 698
    },
    "id": "m_YqCP6VXsvE",
    "outputId": "00d346fc-dc4d-4ad0-fec8-c14a1e4d77ae"
   },
   "outputs": [],
   "source": [
    "# remueve todas las columnas con valores nulos\n",
    "peliculas_df_indice_x_titulo.dropna(axis=1)"
   ]
  },
  {
   "cell_type": "markdown",
   "metadata": {
    "id": "g5drmTsTTZqM"
   },
   "source": [
    "Sin embargo, **¿qué significa remover los valores nulos en nuestro dataset especifico?**\n",
    "- Remover 128 filas donde el ingreso es nulo y 64 filas donde el metascore es nulo. Esto implica una perdida muy grande de data, ya que hay buena data en las otras columnas de esas filas\n",
    "- Al remover las columnas se remueven las columnas de ingreso y metascore por entero, lo cual no es inteligente tampoco.\n",
    "\n",
    "Para evitar perder toda esta data, podemos escoger remover filas o columnas a base de un límite de parámetro, en donde solo se remueve si la mayoría de la data es nula. Esto se puede lograr especificando los parámetros de `how` y `thresh`, que nos permite controlar el número de nulos que se permiten en el DataFrame"
   ]
  },
  {
   "cell_type": "code",
   "execution_count": null,
   "metadata": {
    "colab": {
     "base_uri": "https://localhost:8080/",
     "height": 1000
    },
    "id": "WJGd9wDQXsG8",
    "outputId": "b1a61d49-c3cd-4336-ddca-f35da12458a4"
   },
   "outputs": [],
   "source": [
    "# Remueve las columnas donde todos los valores hacen falta\n",
    "peliculas_df_indice_x_titulo.dropna(axis='columns', how='all')"
   ]
  },
  {
   "cell_type": "code",
   "execution_count": null,
   "metadata": {
    "colab": {
     "base_uri": "https://localhost:8080/",
     "height": 1000
    },
    "id": "7xS3ksW-Ynce",
    "outputId": "1091846a-a6f8-4267-daf9-9f16151457bd"
   },
   "outputs": [],
   "source": [
    "# thresh para especificar el numero minimo de valores nulos\n",
    "# para la fila/columna que se quedan\n",
    "peliculas_df_indice_x_titulo.dropna(axis='rows', thresh=10)"
   ]
  },
  {
   "cell_type": "markdown",
   "metadata": {
    "id": "KczVuOT0TZmH"
   },
   "source": [
    "#### Reemplazando valores nulos"
   ]
  },
  {
   "cell_type": "markdown",
   "metadata": {
    "id": "7_nkE4_gTZip"
   },
   "source": [
    "En vez de remover la data, podemos reemplazar los valores con un valor valido. Este nuevo valor puede ser un número o algún tipo de interpolación de algún valor bueno, como el promedio de la columna. Para eso, Pandas nos proporciona el método `fillna()`.\n",
    "\n",
    "Por ejemplo, vamos a reemplazar los valores faltantes de la columna de ingresos con el promedio de ingresos."
   ]
  },
  {
   "cell_type": "code",
   "execution_count": null,
   "metadata": {
    "colab": {
     "base_uri": "https://localhost:8080/",
     "height": 256
    },
    "id": "wmibVi2UZSHM",
    "outputId": "214cc40e-bb0a-4295-8669-328e52b8f541"
   },
   "outputs": [],
   "source": [
    "# consigue el valor promerdio de la columna\n",
    "ingreso = peliculas_df_indice_x_titulo['Revenue (Millions)']\n",
    "ingreso_promedio = ingreso.mean()\n",
    "\n",
    "print(\"Promedio de ingresos:\", ingreso_promedio)\n",
    "\n",
    "# reemplazemos todos los valores faltantes con este promedio\n",
    "ingreso.fillna(ingreso_promedio, inplace=True)\n",
    "\n",
    "# consigaos el valor actualizado de nulos\n",
    "peliculas_df_indice_x_titulo.isnull().sum()"
   ]
  },
  {
   "cell_type": "markdown",
   "metadata": {
    "id": "LYyMgOrCTZgP"
   },
   "source": [
    "#### Manejando duplicados\n",
    "\n"
   ]
  },
  {
   "cell_type": "markdown",
   "metadata": {
    "id": "AZdFPPnMTZY1"
   },
   "source": [
    "Afortunadamente no tenemos data duplicada en nuestro dataset, pero ese no siempre es el caso. Para los casos menos fortuitos, Pandas tiene un método `drop_duplicates()`. Este método retorna una copia del DataFrame con los duplicados removidos, salvo que especifiquemos `inplace=True`, en cuyo caso los remueve del dataset original."
   ]
  },
  {
   "cell_type": "markdown",
   "metadata": {
    "id": "N9O7dhreaJNc"
   },
   "source": [
    "#### Creando nuevas columnas desde columnas existentes"
   ]
  },
  {
   "cell_type": "markdown",
   "metadata": {
    "id": "pp486Y27aOBU"
   },
   "source": [
    "A veces tenemos que crear nuevas columnas desde otras que ya existen. Es fácil hacer esto en Pandas.\n",
    "\n",
    "Por ejemplo, si queremos introducir una nueva columna que tiene los Ingresos por Minuto de cada película, podemos dividir el ingreso por la cantidad de minutos y creamos una nueva columna con este valor."
   ]
  },
  {
   "cell_type": "code",
   "execution_count": null,
   "metadata": {
    "colab": {
     "base_uri": "https://localhost:8080/",
     "height": 453
    },
    "id": "rZJ_pY-8SrTj",
    "outputId": "79f5573b-bb20-4c9d-d89d-594fa2ffe8db"
   },
   "outputs": [],
   "source": [
    "# We can use 'Revenue (Millions)' and 'Runtime (Minutes)' to calculate Revenue per Min for each movie:\n",
    "peliculas_df_indice_x_titulo['Revenue per Min'] = \\\n",
    "peliculas_df_indice_x_titulo['Revenue (Millions)']/peliculas_df_indice_x_titulo['Runtime (Minutes)']\n",
    "\n",
    "peliculas_df_indice_x_titulo.head(3)"
   ]
  },
  {
   "cell_type": "markdown",
   "metadata": {
    "id": "y1hKJ80_fEgN"
   },
   "source": [
    "## Operaciones de DataFrame - Tablas Pivote y Funciones\n",
    "\n"
   ]
  },
  {
   "cell_type": "markdown",
   "metadata": {
    "id": "MWaUXuLgfEsX"
   },
   "source": [
    "### Tablas Pivote"
   ]
  },
  {
   "cell_type": "markdown",
   "metadata": {
    "id": "CXnK8BGOfE3l"
   },
   "source": [
    "Hemos visto como las agrupaciones nos permite explorar relaciones dentro de un dataset. Una table pivote es una operación similar. \n",
    "\n",
    "La tabla pivote toma una columna de data como entrada y agrupa todas las entradas en una tabla de dos dimensiones, a fin de dar un resumen multidimensional de la data.\n",
    "\n",
    "Por ejemplo, si queremos comparar el dinero ganado por varios directores por año. Podemos crear una table pivote utilizando `pivot_table`; podemos fijar el `index='Director'` (fila de la tabla pivote) y obtenemos la información sobre valor de ingresos fijando `columns=Year'`;"
   ]
  },
  {
   "cell_type": "code",
   "execution_count": null,
   "metadata": {
    "colab": {
     "base_uri": "https://localhost:8080/",
     "height": 238
    },
    "id": "KdHfS1rFaptb",
    "outputId": "50e50532-44e9-4554-a887-509d0d9440e3"
   },
   "outputs": [],
   "source": [
    "# calculemos el promedio de ingresos por director\n",
    "# pero utilizemos una tabla pivote\n",
    "peliculas_df_indice_x_titulo.pivot_table('Revenue (Millions)', \n",
    "    index='Director',\n",
    "    aggfunc='sum', \n",
    "    columns='Year'\n",
    "  ).head()"
   ]
  },
  {
   "cell_type": "markdown",
   "metadata": {
    "id": "eqKeTt7zgSge"
   },
   "source": [
    "El parámetro `aggfunc` controla el tipo de agregación que es aplicada (promedio por preconfiguración). Asá como en `1groupby`, esto puede ser una cadena de caracteres que representa una las muchas opciones comunes como `sum`, `mean`, `count`, `min`, `max`."
   ]
  },
  {
   "cell_type": "markdown",
   "metadata": {
    "id": "oO_U-KGHgojV"
   },
   "source": [
    "Nuestra tabla pivote nos permite observar que Aamir Khan nada más tiene ingresos en 2007. Esto puede implicar dos cosas: 2007 fue el ánico año en este período que algunas de sus películas fueron publicadas, o que simplemente no tenemos toda la data para este director. También podemos observar que Adam McKay tiene el mayor número de películas en este periodo de 10 años, con sus ingresos más altos en 2006 y los más bajos en 2015.\n",
    "\n",
    "Con esta simple tabla pivote, podemos observar la tendencia anual de ingresos generados por director. Por tanto, son una herramienta sumamente útil en análisis de datos."
   ]
  },
  {
   "cell_type": "markdown",
   "metadata": {
    "id": "5seFqzSyhKTM"
   },
   "source": [
    "### Aplicando Funciones"
   ]
  },
  {
   "cell_type": "markdown",
   "metadata": {
    "id": "Rl0-gPkAhNe0"
   },
   "source": [
    "Podemos aplicar funciones a un dataset con `apply()`. Este método retorna un valor después de procesar cada fila/columna de un dataset por otro método definido de forma arbitraria. \n",
    "\n",
    "Por ejemplo, podemos utilizar una función para clasificar películas en cuatro categorías a base de su puntaje: buenísima, buena, promedio, mala. Eso lo hacemos en dos pasos:\n",
    "- define una función que determina la categoría en base al puntaje\n",
    "- aplica la función al DataFrame"
   ]
  },
  {
   "cell_type": "code",
   "execution_count": null,
   "metadata": {
    "colab": {
     "base_uri": "https://localhost:8080/",
     "height": 394
    },
    "id": "_QC-QD9IgNRb",
    "outputId": "8bee3d07-4dd7-4881-92b4-5f92d6f2bc36"
   },
   "outputs": [],
   "source": [
    "# paso 1\n",
    "def rating_bucket(x):\n",
    "    if x >= 8.0:\n",
    "        return \"buenisima\"\n",
    "    elif x >= 7.0:\n",
    "        return \"buena\"\n",
    "    elif x >= 6.0:\n",
    "        return \"promedio\"\n",
    "    else:\n",
    "        return \"mala\"\n",
    "\n",
    "# paso 2\n",
    "peliculas_df_indice_x_titulo[\"Puntaje_Categoria\"] = movies_df_title_indexed[\"Rating\"].apply(rating_bucket)\n",
    "\n",
    "# paso 3 - veamos el resultado\n",
    "peliculas_df_indice_x_titulo.head(10)[['Rating','Puntaje_Categoria']]"
   ]
  },
  {
   "cell_type": "markdown",
   "metadata": {
    "id": "G-9qkJlYiS0u"
   },
   "source": [
    "## Otras lecturas"
   ]
  },
  {
   "cell_type": "markdown",
   "metadata": {
    "id": "veaSUW0wibdX"
   },
   "source": [
    "1. [Funcionalidades básicas ](http://pandas.pydata.org/pandas-docs/stable/getting_started/basics.html)\n",
    "2. [Tutoriales](http://pandas.pydata.org/pandas-docs/stable/getting_started/tutorials.html)\n",
    "3. [Libro de recetas](http://pandas.pydata.org/pandas-docs/stable/user_guide/cookbook.html#cookbook)"
   ]
  }
 ],
 "metadata": {
  "colab": {
   "collapsed_sections": [],
   "name": "pandas-intro.ipynb",
   "provenance": [],
   "toc_visible": true
  },
  "kernelspec": {
   "display_name": "Python 3",
   "language": "python",
   "name": "python3"
  },
  "language_info": {
   "codemirror_mode": {
    "name": "ipython",
    "version": 3
   },
   "file_extension": ".py",
   "mimetype": "text/x-python",
   "name": "python",
   "nbconvert_exporter": "python",
   "pygments_lexer": "ipython3",
   "version": "3.8.3"
  }
 },
 "nbformat": 4,
 "nbformat_minor": 1
}
